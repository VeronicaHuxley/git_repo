{
 "cells": [
  {
   "cell_type": "code",
   "execution_count": null,
   "id": "914efa48",
   "metadata": {},
   "outputs": [],
   "source": [
    "import numpy as np\n",
    "import pandas as pd\n",
    "import math\n",
    "import base64\n",
    "import matplotlib.pyplot as plt\n",
    "import seaborn as sns\n",
    "import plotly.express as px\n",
    "import plotly.graph_objects as go\n",
    "import csv\n",
    "#import pandas_profiling\n",
    "import statsmodels.formula.api as sm"
   ]
  },
  {
   "cell_type": "markdown",
   "id": "208b4a6e",
   "metadata": {},
   "source": [
    "# Correlations, OLS and Linear Regression Models: <br>The Influential Factors of Geographic Mobility in Mid-size Metro U.S."
   ]
  },
  {
   "cell_type": "markdown",
   "id": "51f7cd47",
   "metadata": {},
   "source": [
    "## Overview \n",
    "Cities around the U.S. are experiencing rapid changes in population, quality of life, happiness of their residents, and income inequality, due to a range of factors -- environmental changes, access to public transportation, business growth or decline, cost of living, taxes, welfare programs, quality of education, and many more. The correlation of some of these factors is clear; for example, it’s been well documented that cities with declining industries see related decreases in population as people pursue employment opportunities elsewhere. However, city growth or decline is a complex issue, one that cities, their leaders, and their residents have yet to explore in-depth.\n",
    "\n",
    "## Why does this problem matter?\n",
    "Government leaders have a clear stake in this issue -- a desire to create stable, thriving cities; an incentive to prevent a brain drain and continue to grow business and innovation in their cities; a need to effectively allocate funding in education and public programs that help their constituents be healthy and happy. The goal is to explore the factors that contribute to cities’ growth or decline and identify ways that leaders can improve their own cities (e.g. through additional investments in infrastructure, policy changes, etc).<br><br>\n",
    "\n",
    "Using data from the US Census this analysis covers the incoming geographic mobility rates for 27 cities as well as the demographic of those moving on the assumption that the amount of people moving into cities is a good metric for a city’s growth.<br><br>\n",
    "\n",
    "Austin, TX | Fort Worth, TX | Jacksonville, FL | Columbus, OH | Charlotte, NC | San Francisco, CA | Indianapolis, IN | Denver, CO | Seattle, WA | Denver, CO | Washington, D.C. | Boston, MA | El Paso, TX | Detroit, MI | Nashville, TN | Oklahoma City, OK | Portland, OR | Las Vegas, NV | Memphis, TN | Louisville, KY | Baltimore, MD | Milwaukee, WI | Albuquerque, NM | Tucson, AZ | Fresno, CA | Mesa, AZ | Sacramento, CA | Kansas City, MO\n"
   ]
  },
  {
   "cell_type": "markdown",
   "id": "f8077944",
   "metadata": {},
   "source": [
    "After further analysis, the cities with the most and least geographic mobility are the following:\n",
    "##### Top 5 cities: \n",
    "Denver | Boston | Austin | Seattle | Washington, DC\n",
    "##### Bottom 4 cities: \n",
    "Memphis | Milwaukee | Detroit | Fresno | Louisville \n",
    "\n"
   ]
  },
  {
   "cell_type": "markdown",
   "id": "71b9c587",
   "metadata": {},
   "source": [
    "<b>Correlations:</b><br> \n",
    "    1. Geo Mobility & Business Dynamics/Growth Top & Bottom 5 Cities<br> \n",
    "    2. Geo Mobility & Individual Income Top & Bottom 5 Cities\n",
    " \n",
    "<br>     \n",
    "<b>Ordinary Least Square Regression Model:</b><br>  \n",
    "1. Individual Income<br> \n",
    "2. Household Welfare <br> \n",
    "3. Unemployment Rate<br> \n",
    "4. Income Inequality<br> \n",
    "5. Median Gross Rent to Income<br> \n",
    "6. Geographic Mobility <br> \n",
    "7. Educational Attainment <br> \n",
    "8. Business Growth & Dynamics<br> \n",
    "<br> <br> \n",
    "<b>Linear Regression Models:</b><br> \n",
    "1. Geographic Mobility <br> \n",
    "2. Business Growth & Dynamics<br> \n",
    "3. Unemployment Rate<br> \n",
    "4. Income Inequality <br> \n",
    "5. Median Gross Rent to Income<br> \n",
    "6. Household Welfare<br> \n",
    "7. Educational Attainment<br> \n",
    "\n",
    "<br> \n",
    "    \n",
    "    "
   ]
  },
  {
   "cell_type": "markdown",
   "id": "6acd6b0d",
   "metadata": {},
   "source": [
    "### Business Dynamics/Growth - Top & Bottom 5 Cities\n"
   ]
  },
  {
   "cell_type": "code",
   "execution_count": null,
   "id": "ce38e205",
   "metadata": {},
   "outputs": [],
   "source": [
    "#Opening, reading, dropping column and changing 'percent_change' number to float in .csv\n",
    "with open('data/business_dynamics.csv') as f:\n",
    "    business_dynamics = pd.read_csv(f).drop(columns=['metro','firms', 'estab_change',])\n",
    "    business_dynamics['business_percent_change'] = pd.to_numeric(business_dynamics['percent_change'],errors = 'coerce')\n",
    "business_27 = business_dynamics[business_dynamics['year'] != 2010]\n",
    "business_27"
   ]
  },
  {
   "cell_type": "code",
   "execution_count": null,
   "id": "c5fc16fd",
   "metadata": {},
   "outputs": [],
   "source": [
    "business_27.describe()"
   ]
  },
  {
   "cell_type": "code",
   "execution_count": null,
   "id": "4c4bb33c",
   "metadata": {},
   "outputs": [],
   "source": [
    "business_10 = business_27[(business_27.values  == 'Memphis')|(business_27.values  == 'Milwaukee')|(business_27.values  == 'Detroit')|(business_27.values  == 'Louisville')|(business_27.values  == 'Fresno')|(business_27.values  == 'Denver')|(business_27.values  == 'Boston')|(business_27.values  == 'Austin')|(business_27.values  == 'Seattle')|(business_27.values  == 'Washington')]\n",
    "business_10"
   ]
  },
  {
   "cell_type": "code",
   "execution_count": null,
   "id": "b889d953",
   "metadata": {},
   "outputs": [],
   "source": [
    "business_top_5 = business_27[(business_27.values  == 'Denver')|(business_27.values  == 'Boston')|(business_27.values  == 'Austin')|(business_27.values  == 'Seattle')|(business_27.values  == 'Washington')]\n",
    "business_top_5"
   ]
  },
  {
   "cell_type": "code",
   "execution_count": null,
   "id": "249dc60b",
   "metadata": {},
   "outputs": [],
   "source": [
    "business_bottom_5 = business_27[(business_27.values  == 'Memphis')|(business_27.values  == 'Milwaukee')|(business_27.values  == 'Detroit')|(business_27.values  == 'Louisville')|(business_27.values  == 'Fresno')]\n",
    "business_bottom_5"
   ]
  },
  {
   "cell_type": "code",
   "execution_count": null,
   "id": "99a06228",
   "metadata": {
    "scrolled": true
   },
   "outputs": [],
   "source": [
    "business_10['estab'].pct_change()"
   ]
  },
  {
   "cell_type": "markdown",
   "id": "bfe46ead",
   "metadata": {},
   "source": [
    "### Geographic Mobility - Top & Bottom 5"
   ]
  },
  {
   "cell_type": "markdown",
   "id": "94057197",
   "metadata": {},
   "source": [
    "Geographical Mobility based on US Census data from 2010-2019, including breakdowns by demographic characteristics and rates of inmigration, outmigration, and net migration. This is an important variable for comparing how geographic mobility has changed over time across the top 5 and bottom 5 ranking cities and its potential correlation.\n",
    "\n",
    "<b>name:</b> City name.\n",
    "\n",
    "<b>year:</b> Record year for which the data was gathered per year between 2010-2019.\n",
    "\n",
    "<b>same_county:</b> Moved within the same county. Estimate population 1 year and over.\n",
    "\n",
    "<b>diff_county:</b> Moved from a different county, same state. Estimate population 1 year and over.\n",
    "\n",
    "<b>diff_state:</b> Moved from a different state. Estimate population 1 year and over.\n",
    "\n",
    "<b>from_abroad</b>: Moved from abroad. Estimate population 1 year and over.\n",
    "\n",
    "##### Top 5 cities: \n",
    "Denver | Boston | Austin | Seattle | Washington, DC\n",
    "##### Bottom 4 cities: \n",
    "Memphis | Milwaukee | Detroit | Fresno | Louisville "
   ]
  },
  {
   "cell_type": "code",
   "execution_count": null,
   "id": "b6baccd7",
   "metadata": {
    "scrolled": false
   },
   "outputs": [],
   "source": [
    "#Read geographic mobility dataset, drop columns and create total mobility column\n",
    "with open('data/geo_mobility.csv') as f:\n",
    "    geo_mobility_27 = pd.read_csv(f).drop(columns=['city_state', 'geo_id']).sort_values(by='year', ascending=False)\n",
    "    #geo_mobility_27['total_mobility_all'] = geo_mobility_27['same_county'] + geo_mobility_27['diff_county'] + geo_mobility_27['diff_state'] + geo_mobility_27['from_abroad']\n",
    "    geo_mobility_27['total_mobility_outside'] = geo_mobility_27['diff_county'] + geo_mobility_27['diff_state'] + geo_mobility_27['from_abroad']\n",
    "    #geo_mobility_15['geo_percent_change'] = geo_mobility_15['total_mobility_all'].pct_change()\n",
    "    geo_mob_27 = geo_mobility_27#.groupby(['name])\n",
    "geo_mob_27"
   ]
  },
  {
   "cell_type": "code",
   "execution_count": null,
   "id": "5a22ab9d",
   "metadata": {},
   "outputs": [],
   "source": [
    "geo_mob_10 = geo_mob_27[(geo_mob_27.values  == 'Memphis')|(geo_mob_27.values  == 'Milwaukee')|(geo_mob_27.values  == 'Detroit')|(geo_mob_27.values  == 'Louisville')|(geo_mob_27.values  == 'Fresno')|(geo_mob_27.values  == 'Denver')|(geo_mob_27.values  == 'Boston')|(geo_mob_27.values  == 'Austin')|(geo_mob_27.values  == 'Seattle')|(geo_mob_27.values  == 'Washington')]\n",
    "geo_mob_10"
   ]
  },
  {
   "cell_type": "code",
   "execution_count": null,
   "id": "7c38884d",
   "metadata": {},
   "outputs": [],
   "source": [
    "#creating a separate df and dropping Louisvilee to compare to individual income as that dataset does not have Louisville\n",
    "geo_mob_10_2 = geo_mob_10[geo_mob_10['name'] != 'Louisville']\n",
    "geo_mob_10_2"
   ]
  },
  {
   "cell_type": "code",
   "execution_count": null,
   "id": "e6328410",
   "metadata": {},
   "outputs": [],
   "source": [
    "geo_mob_top_5 = geo_mob_27[(geo_mob_27.values  == 'Denver')|(geo_mob_27.values  == 'Boston')|(geo_mob_27.values  == 'Austin')|(geo_mob_27.values  == 'Seattle')|(geo_mob_27.values  == 'Washington')]\n",
    "geo_mob_top_5"
   ]
  },
  {
   "cell_type": "code",
   "execution_count": null,
   "id": "a3086d97",
   "metadata": {},
   "outputs": [],
   "source": [
    "geo_mob_bottom_5 = geo_mob_27[(geo_mob_27.values  == 'Memphis')|(geo_mob_27.values  == 'Milwaukee')|(geo_mob_27.values  == 'Detroit')|(geo_mob_27.values  == 'Louisville')|(geo_mob_27.values  == 'Fresno')]\n",
    "geo_mob_bottom_5"
   ]
  },
  {
   "cell_type": "code",
   "execution_count": null,
   "id": "157e6001",
   "metadata": {},
   "outputs": [],
   "source": [
    "#creating separate df EXCLUDING Louisville to merge with Individual Income df below (no Ind Income data available for Loiusville)\n",
    "geo_mob_bottom_5_2 = geo_mob_27[(geo_mob_27.values  == 'Memphis')|(geo_mob_27.values  == 'Milwaukee')|(geo_mob_27.values  == 'Detroit')|(geo_mob_27.values  == 'Fresno')]\n",
    "geo_mob_bottom_5_2"
   ]
  },
  {
   "cell_type": "markdown",
   "id": "f89cea9c",
   "metadata": {},
   "source": [
    "### Individual Income - Top 5 & Bottom 4"
   ]
  },
  {
   "cell_type": "markdown",
   "id": "9a8f9263",
   "metadata": {},
   "source": [
    "##### Top 5 cities: \n",
    "Denver | Boston | Austin | Seattle | Washington, DC\n",
    "##### Bottom 4 cities: \n",
    "Memphis | Milwaukee | Detroit | Fresno | Except Louisville (Individual Income data not avialable for Louisville)"
   ]
  },
  {
   "cell_type": "code",
   "execution_count": null,
   "id": "6c98fa96",
   "metadata": {
    "scrolled": true
   },
   "outputs": [],
   "source": [
    "#Read geographic mobility dataset, drop columns and create total mobility column\n",
    "with open('data/individual_income.csv') as f:\n",
    "    individual_income = pd.read_csv(f).drop(columns=['city_state', 'total_est_mean_earnings', 'male_est_median_earnings', 'female_est_median_earnings', 'male_est_mean_fulltime_earnings', 'female_est_mean_fulltime_earnings'])#.sort_values(by='year', ascending=False)\n",
    "    #individual_income['male_median_percent_change'] = individual_income['male_est_median_fulltime_earnings'].pct_change()\n",
    "    #individual_income['female_median_percent_change'] = individual_income['female_est_median_fulltime_earnings'].pct_change()\n",
    "    #individual_income['total_pop_income_percent_change'] = individual_income['total_est_pop_over16'].pct_change()\n",
    "    #individual_income['total_pop_ind_income_median_percent_change'] = individual_income['total_est_median_earnings'].pct_change()\n",
    "    ind_income_27 = individual_income\n",
    "ind_income_27"
   ]
  },
  {
   "cell_type": "code",
   "execution_count": null,
   "id": "a4f1bc4f",
   "metadata": {},
   "outputs": [],
   "source": [
    "ind_income_27.name.unique()"
   ]
  },
  {
   "cell_type": "code",
   "execution_count": null,
   "id": "349e4f79",
   "metadata": {},
   "outputs": [],
   "source": [
    "ind_income_10 = ind_income_27[(ind_income_27.values  == 'Memphis')|(ind_income_27.values  == 'Milwaukee')|(ind_income_27.values  == 'Detroit')|(ind_income_27.values  == 'Louisville')|(ind_income_27.values  == 'Fresno')|(ind_income_27.values  == 'Denver')|(ind_income_27.values  == 'Boston')|(ind_income_27.values  == 'Austin')|(ind_income_27.values  == 'Seattle')|(ind_income_27.values  == 'Washington')]\n",
    "ind_income_10"
   ]
  },
  {
   "cell_type": "code",
   "execution_count": null,
   "id": "a6aae8a8",
   "metadata": {},
   "outputs": [],
   "source": [
    "ind_income_top_5 = ind_income_27[(ind_income_27.values  == 'Denver')|(ind_income_27.values  == 'Boston')|(ind_income_27.values  == 'Austin')|(ind_income_27.values  == 'Seattle')|(ind_income_27.values  == 'Washington')]\n",
    "ind_income_top_5"
   ]
  },
  {
   "cell_type": "code",
   "execution_count": null,
   "id": "503f4a9e",
   "metadata": {},
   "outputs": [],
   "source": [
    "ind_income_bottom_4 = ind_income_27[(ind_income_27.values  == 'Memphis')|(ind_income_27.values  == 'Milwaukee')|(ind_income_27.values  == 'Detroit')|(ind_income_27.values  == 'Louisville')|(ind_income_27.values  == 'Fresno')]\n",
    "ind_income_bottom_4"
   ]
  },
  {
   "cell_type": "markdown",
   "id": "096b7931",
   "metadata": {},
   "source": [
    "#### Plotly Box Plot of total estimated median of individual income\n",
    "##### Top 5 cities: \n",
    "Denver | Boston | Austin | Seattle | Washington, DC"
   ]
  },
  {
   "cell_type": "code",
   "execution_count": null,
   "id": "ea82264d",
   "metadata": {
    "scrolled": false
   },
   "outputs": [],
   "source": [
    "#Plotly Box Plot of total estimated median of individual income - 2010-2019\n",
    "\n",
    "fig = px.box(ind_income_top_5, x='name', y='total_est_median_earnings', points='all', # can be 'all', 'outliers', or False\n",
    "             title=\"Box Plot of total estimated median of individual income of total population | Top 5 Cities - 2010-2019\", hover_data=ind_income_top_5.columns,\n",
    "             labels={col:col.replace('_', ' ') for col in ind_income_top_5.columns}) # remove underscore\n",
    "fig.show()"
   ]
  },
  {
   "cell_type": "markdown",
   "id": "745939c9",
   "metadata": {},
   "source": [
    "#### Plotly Box Plot of total estimated median of individual income\n",
    "##### Bottom 4 cities: \n",
    "Memphis | Milwaukee | Detroit | Fresno | Except Louisville (Individual Income data not avialable for Louisville)"
   ]
  },
  {
   "cell_type": "code",
   "execution_count": null,
   "id": "ff97570f",
   "metadata": {
    "scrolled": false
   },
   "outputs": [],
   "source": [
    "#Plotly Box Plot total estimated median of individual income by year with outliers - 2010-2019\n",
    "\n",
    "fig = px.box(ind_income_bottom_4, x='name', y='total_est_median_earnings', points='all', # can be 'all', 'outliers', or False\n",
    "             title=\"Box Plot of total estimated median of individual income of total population | Bottom 4 Cities - 2010-2019\", hover_data=ind_income_bottom_4.columns,\n",
    "             labels={col:col.replace('_', ' ') for col in ind_income_bottom_4.columns}) # remove underscore\n",
    "fig.show()"
   ]
  },
  {
   "cell_type": "markdown",
   "id": "e4628140",
   "metadata": {},
   "source": [
    "# CORRELATIONS:<br> Geo Mobility & Business Dynamics/Growth  Top & Bottom 5"
   ]
  },
  {
   "cell_type": "markdown",
   "id": "48ea99b3",
   "metadata": {},
   "source": [
    "\n",
    "##### Top 5 cities: \n",
    "Denver | Boston | Austin | Seattle | Washington, DC\n",
    "##### Bottom 5 cities: \n",
    "Memphis | Milwaukee | Detroit | Fresno | Louisville"
   ]
  },
  {
   "cell_type": "code",
   "execution_count": null,
   "id": "417257c1",
   "metadata": {
    "scrolled": false
   },
   "outputs": [],
   "source": [
    "#Merging dataselts for top 5 and bottom 5 cities of geo mobility and business_dynamics datasets for visualization of possible correlations\n",
    "mob_bgrowth_10 = pd.merge(business_10, geo_mob_10, on=['name','year']).drop(columns=['same_county', 'diff_county', 'from_abroad'])\n",
    "mob_bgrowth_10"
   ]
  },
  {
   "cell_type": "code",
   "execution_count": null,
   "id": "8fd71b3a",
   "metadata": {
    "scrolled": true
   },
   "outputs": [],
   "source": [
    "mob_bgrowth_10[['business_percent_change','total_mobility_outside','total_year']].describe()"
   ]
  },
  {
   "cell_type": "markdown",
   "id": "e0acc220",
   "metadata": {},
   "source": [
    "#### Ordinary Least Squares regression trendline - Top 5 and Bottom 5 cities\n",
    "##### Top 5 cities: \n",
    "Denver | Boston | Austin | Seattle | Washington, DC\n",
    "##### Bottom 5 cities: \n",
    "Memphis | Milwaukee | Detroit | Fresno | Louisville"
   ]
  },
  {
   "cell_type": "code",
   "execution_count": null,
   "id": "1c3a346b",
   "metadata": {},
   "outputs": [],
   "source": [
    "#Plotly scatterplot Ordinary Least Squares regression trendline of TOP 5 and BOTTOM 5 cities\n",
    "#Hovering over the trendline will show the equation of the line and its R-squared value.\n",
    "\n",
    "fig = px.scatter(mob_bgrowth_10, x='total_mobility_outside', y='business_percent_change', trendline='ols', color='year', hover_data=['year','name'],\n",
    "                labels={col:col.replace('_', ' ') for col in mob_bgrowth_10.columns}) # removes underscore\n",
    "fig.show()"
   ]
  },
  {
   "cell_type": "markdown",
   "id": "f6308862",
   "metadata": {},
   "source": [
    "#### Pearson's Correlation of Geo Mobility & Business Dynamics - Top 5 and Bottom 5 cities\n",
    "##### Top 5 cities: \n",
    "Denver | Boston | Austin | Seattle | Washington, DC\n",
    "##### Bottom 5 cities: \n",
    "Memphis | Milwaukee | Detroit | Fresno | Louisville"
   ]
  },
  {
   "cell_type": "code",
   "execution_count": null,
   "id": "1527fdf9",
   "metadata": {
    "scrolled": true
   },
   "outputs": [],
   "source": [
    "#correlation matrix calculation and visualization of possible linear relationship between\n",
    "#business dynamics/growth % and geo mobility % change YoY using Pearson correlation coefficient to summarize its strength \n",
    "mob_bgrowth_10.corr().style.background_gradient(cmap=\"Blues\")"
   ]
  },
  {
   "cell_type": "code",
   "execution_count": null,
   "id": "9452ccff",
   "metadata": {},
   "outputs": [],
   "source": [
    "mob_bgrowth_10[['business_percent_change', 'total_mobility_outside']].corr()"
   ]
  },
  {
   "cell_type": "markdown",
   "id": "75f7a20a",
   "metadata": {},
   "source": [
    "#### Spearman's Correlation of Geo Mobility & Business Dynamics - Top 5 and Bottom 5 cities\n",
    "##### Top 5 cities: \n",
    "Denver | Boston | Austin | Seattle | Washington, DC\n",
    "##### Bottom 5 cities: \n",
    "Memphis | Milwaukee | Detroit | Fresno | Louisville"
   ]
  },
  {
   "cell_type": "code",
   "execution_count": null,
   "id": "a0cf5afe",
   "metadata": {
    "scrolled": true
   },
   "outputs": [],
   "source": [
    "#correlation matrix calculation and visualization of monotonic relationship between\n",
    "#business dynamics/growth % change YoY and geo mobility % change YoY using Spearman correlation coefficient\n",
    "mob_bgrowth_10.corr('spearman').style.background_gradient(cmap=\"Blues\")"
   ]
  },
  {
   "cell_type": "code",
   "execution_count": null,
   "id": "80ee8d45",
   "metadata": {
    "scrolled": false
   },
   "outputs": [],
   "source": [
    "corrm = mob_bgrowth_10.corr()\n",
    "corrm"
   ]
  },
  {
   "cell_type": "markdown",
   "id": "655af823",
   "metadata": {},
   "source": [
    "### Merging Geo Mobility & Business Dynamics datasets - Top 5 cities only\n",
    "##### Top 5 cities: \n",
    "Denver | Boston | Austin | Seattle | Washington, DC"
   ]
  },
  {
   "cell_type": "code",
   "execution_count": null,
   "id": "a41e91b2",
   "metadata": {},
   "outputs": [],
   "source": [
    "#Merging datasets of TOP 5 cities for geo mobility and business_dynamics for visualization of possible correlations\n",
    "mob_bgrowth_top_5 = pd.merge(business_top_5, geo_mob_top_5, on=['name','year']).drop(columns=['same_county', 'diff_county', 'from_abroad'])\n",
    "mob_bgrowth_top_5"
   ]
  },
  {
   "cell_type": "markdown",
   "id": "b2602968",
   "metadata": {},
   "source": [
    "#### Ordinary Least Squares regression trendline - Top 5 cities only\n",
    "##### Top 5 cities: \n",
    "Denver | Boston | Austin | Seattle | Washington, DC"
   ]
  },
  {
   "cell_type": "code",
   "execution_count": null,
   "id": "022e57b0",
   "metadata": {
    "scrolled": false
   },
   "outputs": [],
   "source": [
    "#Plotly scatterplot of TOP 5 cities ONLY - Ordinary Least Squares regression trendline of business growth percent change by year for each city. \n",
    "#Hovering over the trendline will show the equation of the line and its R-squared value.\n",
    "\n",
    "fig = px.scatter(mob_bgrowth_top_5, x='total_mobility_outside', y='business_percent_change', trendline='ols', color='year', hover_data=['year','name'],\n",
    "                labels={col:col.replace('_', ' ') for col in mob_bgrowth_top_5.columns}) # removes underscore\n",
    "fig.update_layout(xaxis_title = 'Total Mobility %', yaxis_title = 'Business Dynamics % Change')\n",
    "fig.show()"
   ]
  },
  {
   "cell_type": "code",
   "execution_count": null,
   "id": "b2b72093",
   "metadata": {},
   "outputs": [],
   "source": [
    "#Plotly scatterplot of TOP 5 cities ONLY - Ordinary Least Squares regression trendline of business growth percent change by year for each city. \n",
    "#Hovering over the trendline will show the equation of the line and its R-squared value.\n",
    "\n",
    "fig = px.scatter(mob_bgrowth_top_5, x='total_mobility_outside', y='business_percent_change', trendline='ols', color='year', hover_data=['year','name'],\n",
    "                labels={col:col.replace('_', ' ') for col in mob_bgrowth_top_5.columns}) # removes underscore\n",
    "fig.update_layout(xaxis_title = 'Total Mobility %', yaxis_title = 'Business Dynamics % Change')\n",
    "fig.show()"
   ]
  },
  {
   "cell_type": "markdown",
   "id": "899b35da",
   "metadata": {},
   "source": [
    "#### Pearson's Correlation of Geo Mobility & Business Dynamics - Top 5 cities only\n",
    "##### Top 5 cities: \n",
    "Denver | Boston | Austin | Seattle | Washington, DC"
   ]
  },
  {
   "cell_type": "code",
   "execution_count": null,
   "id": "d0eabe41",
   "metadata": {
    "scrolled": true
   },
   "outputs": [],
   "source": [
    "#correlation matrix calculation and visualization of possible linear relationship between\n",
    "#business dynamics/growth % and geo mobility % change YoY using Pearson correlation coefficient to summarize its strength \n",
    "mob_bgrowth_top_5.corr().style.background_gradient(cmap=\"Blues\")"
   ]
  },
  {
   "cell_type": "markdown",
   "id": "99f30087",
   "metadata": {},
   "source": [
    "#### Spearman's Correlation of Geo Mobility & Business Dynamics - Top 5 cities only\n",
    "##### Top 5 cities: \n",
    "Denver | Boston | Austin | Seattle | Washington, DC"
   ]
  },
  {
   "cell_type": "code",
   "execution_count": null,
   "id": "5ced9c09",
   "metadata": {
    "scrolled": true
   },
   "outputs": [],
   "source": [
    "#correlation matrix calculation and visualization of monotonic relationship between\n",
    "#business dynamics/growth % change YoY and geo mobility % change YoY using Spearman correlation coefficient\n",
    "mob_bgrowth_top_5.corr('spearman').style.background_gradient(cmap=\"Blues\")"
   ]
  },
  {
   "cell_type": "markdown",
   "id": "1b698dee",
   "metadata": {},
   "source": [
    "### Merging Geo Mobility & Business Dynamics datasets - Bottom 5 cities only\n",
    "##### Bottom 5 cities: \n",
    "Memphis | Milwaukee | Detroit | Fresno | Louisville"
   ]
  },
  {
   "cell_type": "code",
   "execution_count": null,
   "id": "2a75e92b",
   "metadata": {},
   "outputs": [],
   "source": [
    "#Merging datasets of BOTTOM 5 cities for geo mobility and business_dynamics for visualization of possible correlations\n",
    "mob_bgrowth_bottom_5 = pd.merge(business_bottom_5, geo_mob_bottom_5, on=['name','year']).drop(columns=['same_county', 'diff_county', 'from_abroad'])\n",
    "mob_bgrowth_bottom_5"
   ]
  },
  {
   "cell_type": "markdown",
   "id": "563db24b",
   "metadata": {},
   "source": [
    "#### Ordinary Least Squares regression trendline of Geo Mobility & Business Dynamics - Bottom 5 cities only\n",
    "##### Bottom 5 cities: \n",
    "Memphis | Milwaukee | Detroit | Fresno | Louisville"
   ]
  },
  {
   "cell_type": "code",
   "execution_count": null,
   "id": "76730416",
   "metadata": {
    "scrolled": false
   },
   "outputs": [],
   "source": [
    "#Plotly scatterplot of BOTTOM 5 cities ONLY - Ordinary Least Squares regression trendline of Geo Mobility & Business Dynamics\n",
    "#Hovering over the trendline will show the equation of the line and its R-squared value.\n",
    "\n",
    "fig = px.scatter(mob_bgrowth_bottom_5, x='total_mobility_outside', y='business_percent_change', trendline='ols', color='year', hover_data=['year','name'],\n",
    "                labels={col:col.replace('_', ' ') for col in mob_bgrowth_bottom_5.columns}) # removes underscore\n",
    "fig.update_layout(xaxis_title = 'Bottom 5 Cities Total Mobility %', yaxis_title = 'Bottom 5 Cities Business Dynamics % Change')\n",
    "fig.show()"
   ]
  },
  {
   "cell_type": "markdown",
   "id": "04f6a371",
   "metadata": {},
   "source": [
    "#### Pearson's Correlation of Geo Mobility & Business Dynamics - Bottom 5 cities only\n",
    "##### Bottom 5 cities: \n",
    "Memphis | Milwaukee | Detroit | Fresno | Louisville"
   ]
  },
  {
   "cell_type": "code",
   "execution_count": null,
   "id": "ef35895d",
   "metadata": {
    "scrolled": true
   },
   "outputs": [],
   "source": [
    "#correlation matrix calculation and visualization of possible linear relationship between\n",
    "#business dynamics/growth % and geo mobility % change YoY using Pearson correlation coefficient to summarize its strength \n",
    "mob_bgrowth_bottom_5.corr().style.background_gradient(cmap=\"Blues\")"
   ]
  },
  {
   "cell_type": "code",
   "execution_count": null,
   "id": "1906b348",
   "metadata": {
    "scrolled": false
   },
   "outputs": [],
   "source": [
    "mob_bgrowth_bottom_5[['business_percent_change', 'total_mobility_outside']].corr()"
   ]
  },
  {
   "cell_type": "markdown",
   "id": "90de87c5",
   "metadata": {},
   "source": [
    "#### Spearman's Correlation of Geo Mobility & Business Dynamics - Bottom 5 cities only\n",
    "##### Bottom 5 cities: \n",
    "Memphis | Milwaukee | Detroit | Fresno | Louisville"
   ]
  },
  {
   "cell_type": "code",
   "execution_count": null,
   "id": "d0ca2a9e",
   "metadata": {
    "scrolled": true
   },
   "outputs": [],
   "source": [
    "#correlation matrix calculation and visualization of monotonic relationship between\n",
    "#business dynamics/growth % change YoY and geo mobility % change YoY using Spearman correlation coefficient\n",
    "mob_bgrowth_bottom_5.corr('spearman').style.background_gradient(cmap=\"Blues\")"
   ]
  },
  {
   "cell_type": "code",
   "execution_count": null,
   "id": "6588829e",
   "metadata": {},
   "outputs": [],
   "source": [
    "corrm = mob_bgrowth_bottom_5.corr()\n",
    "corrm"
   ]
  },
  {
   "cell_type": "markdown",
   "id": "3aff90b5",
   "metadata": {},
   "source": [
    "# CORRELATIONS: <br> Geo Mobility & Individual Income"
   ]
  },
  {
   "cell_type": "markdown",
   "id": "72985a1b",
   "metadata": {},
   "source": [
    "\n",
    "##### Top 5 cities: \n",
    "Denver | Boston | Austin | Seattle | Washington, DC\n",
    "##### Bottom 4 cities: \n",
    "Memphis | Milwaukee | Detroit | Fresno | Louisville | [Louisville\n",
    "-- Individual Income data is not available for Louisville.]"
   ]
  },
  {
   "cell_type": "code",
   "execution_count": null,
   "id": "ef28857f",
   "metadata": {},
   "outputs": [],
   "source": [
    "#Merging datasets of Top 5 and Bottom 5 cities for geo mobility and Individual Income for visualization of possible correlations\n",
    "# Excluding Loiuville from df (No Ind Income data available)\n",
    "mob_ind_income_10 = pd.merge(ind_income_10, geo_mob_10_2, on=['name','year']).drop(columns=['same_county', 'diff_county', 'from_abroad'])\n",
    "mob_ind_income_10"
   ]
  },
  {
   "cell_type": "markdown",
   "id": "a6601d6d",
   "metadata": {},
   "source": [
    "#### Ordinary Least Squares regression trendline of  Geo Mobility & Individual Income - Top 5 and Bottom 4 cities\n",
    "##### Top 5 cities: \n",
    "Denver | Boston | Austin | Seattle | Washington, DC\n",
    "##### Bottom 4 cities: \n",
    "Memphis | Milwaukee | Detroit | Fresno | Louisville | [Louisville\n",
    "-- Individual Income data is not available for Louisville.]"
   ]
  },
  {
   "cell_type": "code",
   "execution_count": null,
   "id": "ba666479",
   "metadata": {
    "scrolled": false
   },
   "outputs": [],
   "source": [
    "#Plotly scatterplot - Ordinary Least Squares regression trendline of TOP 5 and BOTTOM 5 cities\n",
    "#Hovering over the trendline will show the equation of the line and its R-squared value.\n",
    "\n",
    "fig = px.scatter(mob_ind_income_10, x='total_mobility_outside', y='total_est_median_earnings', trendline='ols', color='year', hover_data=['year','name'],\n",
    "                labels={col:col.replace('_', ' ') for col in mob_ind_income_10.columns}) # removes underscore\n",
    "fig.update_layout(xaxis_title = 'Top & Bottom 5 Cities Total Mobility %', yaxis_title = 'Top & Bottom 5 Cities Individual Income Median')\n",
    "fig.show()"
   ]
  },
  {
   "cell_type": "code",
   "execution_count": null,
   "id": "495726c8",
   "metadata": {},
   "outputs": [],
   "source": [
    "#Plotly scatterplot - Ordinary Least Squares regression trendline of TOP 5 and BOTTOM 5 cities\n",
    "#Hovering over the trendline will show the equation of the line and its R-squared value.\n",
    "\n",
    "fig = px.scatter(mob_ind_income_10, x='total_mobility_outside', y='total_est_pop_over16', trendline='ols', color='year', hover_data=['year','name'],\n",
    "                labels={col:col.replace('_', ' ') for col in mob_ind_income_10.columns}) # removes underscore\n",
    "fig.update_layout(xaxis_title = 'Top & Bottom 5 Cities Total Mobility %', yaxis_title = 'Top & Bottom 5 Cities Total Population Earnings')\n",
    "fig.show()"
   ]
  },
  {
   "cell_type": "markdown",
   "id": "68775239",
   "metadata": {},
   "source": [
    "#### Pearson's Correlation of Geo Mobility & Individual Income - Top 5 and Bottom 4 cities\n",
    "##### Top 5 cities: \n",
    "Denver | Boston | Austin | Seattle | Washington, DC\n",
    "##### Bottom 4 cities: \n",
    "Memphis | Milwaukee | Detroit | Fresno | Louisville | [Louisville\n",
    "-- Individual Income data is not available for Louisville.]"
   ]
  },
  {
   "cell_type": "code",
   "execution_count": null,
   "id": "ca1d5605",
   "metadata": {
    "scrolled": true
   },
   "outputs": [],
   "source": [
    "#correlation matrix calculation and visualization of possible linear relationship between\n",
    "#geo mobility individual income using Pearson correlation coefficient to summarize its strength \n",
    "mob_ind_income_10.corr().style.background_gradient(cmap=\"Blues\")"
   ]
  },
  {
   "cell_type": "code",
   "execution_count": null,
   "id": "eaaef590",
   "metadata": {},
   "outputs": [],
   "source": [
    "mob_ind_income_10[['total_est_median_earnings', 'total_mobility_outside', 'total_est_pop_over16']].corr()"
   ]
  },
  {
   "cell_type": "markdown",
   "id": "291385b7",
   "metadata": {},
   "source": [
    "#### Spearman's Correlation of Geo Mobility & Individual Income - Top 5 and Bottom 4 cities\n",
    "##### Top 5 cities: \n",
    "Denver | Boston | Austin | Seattle | Washington, DC\n",
    "##### Bottom 4 cities: \n",
    "Memphis | Milwaukee | Detroit | Fresno | Louisville | [Louisville\n",
    "-- Individual Income data is not available for Louisville.]"
   ]
  },
  {
   "cell_type": "code",
   "execution_count": null,
   "id": "75f7af59",
   "metadata": {
    "scrolled": true
   },
   "outputs": [],
   "source": [
    "#correlation matrix calculation and visualization of monotonic relationship between\n",
    "#geo mobility and individual income using Spearman correlation coefficient\n",
    "mob_ind_income_10.corr('spearman').style.background_gradient(cmap=\"Blues\")"
   ]
  },
  {
   "cell_type": "markdown",
   "id": "889da77b",
   "metadata": {},
   "source": [
    "### Merging Geo Mobility & Individual Income datasets for correlation of Top 5 cities only\n",
    "##### Top 5 cities: \n",
    "Denver | Boston | Austin | Seattle | Washington, DC"
   ]
  },
  {
   "cell_type": "code",
   "execution_count": null,
   "id": "b020890b",
   "metadata": {
    "scrolled": true
   },
   "outputs": [],
   "source": [
    "#Merging datasets for correlation of Top 4 cities only for Geo Mobility & Individual Income for visualization of possible correlations\n",
    "mob_ind_income_top_5 = pd.merge(ind_income_top_5, geo_mob_top_5, on=['name','year']).drop(columns=['same_county', 'diff_county', 'from_abroad'])\n",
    "mob_ind_income_top_5"
   ]
  },
  {
   "cell_type": "markdown",
   "id": "1155ec14",
   "metadata": {},
   "source": [
    "#### Ordinary Least Squares regression trendline of  Geo Mobility & Individual Income - Top 5 cities only\n",
    "##### Top 5 cities: \n",
    "Denver | Boston | Austin | Seattle | Washington, DC"
   ]
  },
  {
   "cell_type": "code",
   "execution_count": null,
   "id": "f4f658d7",
   "metadata": {
    "scrolled": true
   },
   "outputs": [],
   "source": [
    "#Plotly scatterplot of TOP 5 cities ONLY - Ordinary Least Squares regression trendline\n",
    "#Hovering over the trendline will show the equation of the line and its R-squared value.\n",
    "\n",
    "fig = px.scatter(mob_ind_income_top_5, x='total_mobility_outside', y='total_est_median_earnings', trendline='ols', color='year', hover_data=['year','name'],\n",
    "                labels={col:col.replace('_', ' ') for col in mob_ind_income_top_5.columns}) # removes underscore\n",
    "fig.update_layout(xaxis_title = 'Top 5 Cities Total Mobility %', yaxis_title = 'Top 5 Cities Total Individual Income Median')\n",
    "fig.show()"
   ]
  },
  {
   "cell_type": "code",
   "execution_count": null,
   "id": "b170fb76",
   "metadata": {},
   "outputs": [],
   "source": [
    "#Plotly scatterplot of TOP 5 cities ONLY - Ordinary Least Squares regression trendline\n",
    "#Hovering over the trendline will show the equation of the line and its R-squared value.\n",
    "\n",
    "fig = px.scatter(mob_ind_income_top_5, x='total_mobility_outside', y='total_est_pop_over16', trendline='ols', color='year', hover_data=['year','name'],\n",
    "                labels={col:col.replace('_', ' ') for col in mob_ind_income_top_5.columns}) # removes underscore\n",
    "fig.update_layout(xaxis_title = 'Top 5 Cities Total Mobility %', yaxis_title = 'Top 5 Cities Total Populatin Earnings')\n",
    "fig.show()"
   ]
  },
  {
   "cell_type": "markdown",
   "id": "6643e0fc",
   "metadata": {},
   "source": [
    "#### Pearson's Correlation of Geo Mobility & Individual Income - Top 5 cities only\n",
    "##### Top 5 cities: \n",
    "Denver | Boston | Austin | Seattle | Washington, DC"
   ]
  },
  {
   "cell_type": "code",
   "execution_count": null,
   "id": "e0ac7ce9",
   "metadata": {
    "scrolled": true
   },
   "outputs": [],
   "source": [
    "#correlation matrix calculation and visualization of possible linear relationship between\n",
    "#geo mobility individual income using Pearson correlation coefficient to summarize its strength \n",
    "mob_ind_income_top_5.corr().style.background_gradient(cmap=\"Blues\")"
   ]
  },
  {
   "cell_type": "code",
   "execution_count": null,
   "id": "342c2701",
   "metadata": {
    "scrolled": false
   },
   "outputs": [],
   "source": [
    "mob_ind_income_top_5[['total_est_median_earnings', 'total_mobility_outside']].corr()"
   ]
  },
  {
   "cell_type": "markdown",
   "id": "2e12129f",
   "metadata": {},
   "source": [
    "#### Spearman's Correlation of Geo Mobility & Individual Income - Top 5 cities only\n",
    "##### Top 5 cities: \n",
    "Denver | Boston | Austin | Seattle | Washington, DC"
   ]
  },
  {
   "cell_type": "code",
   "execution_count": null,
   "id": "94a38fe5",
   "metadata": {
    "scrolled": false
   },
   "outputs": [],
   "source": [
    "#correlation matrix calculation and visualization of monotonic relationship between\n",
    "#geo mobility and individual income using Spearman's correlation coefficient\n",
    "mob_ind_income_top_5.corr('spearman').style.background_gradient(cmap=\"Blues\")"
   ]
  },
  {
   "cell_type": "markdown",
   "id": "123347a1",
   "metadata": {},
   "source": [
    "### Merging Geo Mobility & Individual Income datasets for correlation of Bottom 4 cities only\n",
    "##### Bottom 4 cities: \n",
    "Memphis | Milwaukee | Detroit | Fresno | Louisville | [Louisville\n",
    "-- Individual Income data is not available for Louisville.]"
   ]
  },
  {
   "cell_type": "code",
   "execution_count": null,
   "id": "b99834ba",
   "metadata": {},
   "outputs": [],
   "source": [
    "#Merging datasets for correlation of bottom 4 cities for Geo Mobility & Individual Income \n",
    "#for visualization of possible correlations\n",
    "#Excluding Louisville -- Individual Income data is not available\n",
    "mob_ind_income_bottom_4 = pd.merge(ind_income_bottom_4, geo_mob_bottom_5_2, on=['name','year']).drop(columns=['same_county', 'diff_county', 'from_abroad'])\n",
    "mob_ind_income_bottom_4"
   ]
  },
  {
   "cell_type": "markdown",
   "id": "8a3df79b",
   "metadata": {},
   "source": [
    "#### Ordinary Least Squares regression trendline of Geo Mobility & Individual Income - Bottom 4 cities only\n",
    "##### Bottom 4 cities: \n",
    "Memphis | Milwaukee | Detroit | Fresno | Louisville | [Louisville\n",
    "-- Individual Income data is not available for Louisville.]"
   ]
  },
  {
   "cell_type": "code",
   "execution_count": null,
   "id": "37071d59",
   "metadata": {
    "scrolled": true
   },
   "outputs": [],
   "source": [
    "#Plotly scatterplot of bottom 4 cities ONLY - Ordinary Least Squares regression trendline\n",
    "#Excluding Louisville -- Individual Income data is not available\n",
    "#Hovering over the trendline will show the equation of the line and its R-squared value.\n",
    "\n",
    "fig = px.scatter(mob_ind_income_bottom_4, x='total_mobility_outside', y='total_est_median_earnings', trendline='ols', color='year', hover_data=['year','name'],\n",
    "                labels={col:col.replace('_', ' ') for col in mob_ind_income_bottom_4.columns}) # removes underscore\n",
    "fig.update_layout(xaxis_title = 'Bottom 4 Cities Total Mobility %', yaxis_title = 'Bottom 4 Cities Total Individual Income Median')\n",
    "\n",
    "fig.show()"
   ]
  },
  {
   "cell_type": "code",
   "execution_count": null,
   "id": "c2b18ca1",
   "metadata": {},
   "outputs": [],
   "source": [
    "#Plotly scatterplot of bottom 4 cities ONLY - Ordinary Least Squares regression trendline\n",
    "#Excluding Louisville -- Individual Income data is not available\n",
    "#Hovering over the trendline will show the equation of the line and its R-squared value.\n",
    "\n",
    "fig = px.scatter(mob_ind_income_bottom_4, x='total_mobility_outside', y='total_est_pop_over16', trendline='ols', color='year', hover_data=['year','name'],\n",
    "                labels={col:col.replace('_', ' ') for col in mob_ind_income_bottom_4.columns}) # removes underscore\n",
    "fig.update_layout(xaxis_title = 'Bottom 4 Cities Total Mobility %', yaxis_title = 'Bottom 4 Cities Total Population Earnings')\n",
    "\n",
    "fig.show()"
   ]
  },
  {
   "cell_type": "markdown",
   "id": "89be1131",
   "metadata": {},
   "source": [
    "#### Pearson's Correlation of Geo Mobility & Individual Income - Bottom 5 cities only\n",
    "##### Bottom 4 cities: \n",
    "Memphis | Milwaukee | Detroit | Fresno | Louisville | [Louisville\n",
    "-- Individual Income data is not available for Louisville.]"
   ]
  },
  {
   "cell_type": "code",
   "execution_count": null,
   "id": "a224bd8b",
   "metadata": {
    "scrolled": false
   },
   "outputs": [],
   "source": [
    "#correlation matrix calculation and visualization of possible linear relationship between\n",
    "#geo mobility individual income using Pearson's correlation coefficient to summarize its strength \n",
    "##Excluding Louisville -- Individual Income data is not available\n",
    "mob_ind_income_bottom_4.corr().style.background_gradient(cmap=\"Blues\")"
   ]
  },
  {
   "cell_type": "code",
   "execution_count": null,
   "id": "85c0ab45",
   "metadata": {
    "scrolled": true
   },
   "outputs": [],
   "source": [
    "mob_ind_income_bottom_4[['total_est_pop_over16', 'total_mobility_outside']].corr()"
   ]
  },
  {
   "cell_type": "markdown",
   "id": "cb059145",
   "metadata": {},
   "source": [
    "#### Spearman's Correlation of Geo Mobility & Individual Income - Bottom 4 cities only\n",
    "##### Bottom 4 cities: \n",
    "Memphis | Milwaukee | Detroit | Fresno | Louisville | [Louisville\n",
    "-- Individual Income data is not available for Louisville.]"
   ]
  },
  {
   "cell_type": "code",
   "execution_count": null,
   "id": "faf925b8",
   "metadata": {
    "scrolled": true
   },
   "outputs": [],
   "source": [
    "#correlation matrix calculation and visualization of monotonic relationship between\n",
    "#geo mobility and individual income using Spearman's correlation coefficient\n",
    "#Excluding Louisville -- Individual Income data is not available\n",
    "mob_ind_income_bottom_4.corr('spearman').style.background_gradient(cmap=\"Blues\")"
   ]
  },
  {
   "cell_type": "code",
   "execution_count": null,
   "id": "5cfe935e",
   "metadata": {
    "scrolled": true
   },
   "outputs": [],
   "source": [
    "corrm = mob_ind_income_bottom_4.corr()\n",
    "corrm"
   ]
  },
  {
   "cell_type": "code",
   "execution_count": null,
   "id": "8e4c0353",
   "metadata": {
    "scrolled": false
   },
   "outputs": [],
   "source": [
    "corrm['total_est_median_earnings'][corrm['total_mobility_outside'] > 0].sort_values(ascending = False)"
   ]
  },
  {
   "cell_type": "markdown",
   "id": "1435799d",
   "metadata": {},
   "source": [
    "# Ordinary Least Square Regression Model"
   ]
  },
  {
   "cell_type": "code",
   "execution_count": null,
   "id": "89565d2e",
   "metadata": {
    "scrolled": true
   },
   "outputs": [],
   "source": [
    "#Merging mobility and business dynamics\n",
    "mobility_business = pd.merge(geo_mob_27, business_27, on=['name','year'])\n",
    "mobility_business = mobility_business.drop(columns=['total_year', 'same_county', 'diff_county','estab', 'emp',\n",
    "       'percent_change','diff_state', 'from_abroad',])\n",
    "mobility_business"
   ]
  },
  {
   "cell_type": "code",
   "execution_count": null,
   "id": "7dd9fea2",
   "metadata": {
    "scrolled": true
   },
   "outputs": [],
   "source": [
    "mobility_business_indincome = pd.merge(mobility_business, ind_income_27, on=['name','year']) \n",
    "mobility_business_indincome = mobility_business_indincome.drop(columns=['male_est_pop_over16', 'male_est_median_fulltime_earnings',\n",
    "       'female_est_pop_over16', 'female_est_median_fulltime_earnings'])\n",
    "mobility_business_indincome"
   ]
  },
  {
   "cell_type": "code",
   "execution_count": null,
   "id": "a353eb7b",
   "metadata": {},
   "outputs": [],
   "source": [
    "mobility_business_indincome.name.unique()"
   ]
  },
  {
   "cell_type": "code",
   "execution_count": null,
   "id": "997fd238",
   "metadata": {
    "scrolled": true
   },
   "outputs": [],
   "source": [
    "mobility_business_indincome.columns"
   ]
  },
  {
   "cell_type": "code",
   "execution_count": null,
   "id": "f4156090",
   "metadata": {
    "scrolled": true
   },
   "outputs": [],
   "source": [
    "with open('data/welfare.csv') as f:\n",
    "    welfare = pd.read_csv(f)#.drop(columns=['metro', 'firms', 'estab_change',])\n",
    "welfare"
   ]
  },
  {
   "cell_type": "code",
   "execution_count": null,
   "id": "d0479bb3",
   "metadata": {},
   "outputs": [],
   "source": [
    "mobility_business_indincome_welfare = pd.merge(mobility_business_indincome, welfare, on=['name','year'])\n",
    "mobility_business_indincome_welfare = mobility_business_indincome_welfare.drop(columns=['estimate_total_households_with_social_security',\n",
    "       'mean_social_security_income_usd',\n",
    "       'estimate_total_households_with_retirement_income',\n",
    "       'percent_estimate_total_households_with_retirement_income',\n",
    "       'mean_retirement_income_usd', 'estimate_total_households_with_ssi',\n",
    "       'percent_estimate_total_households_with_ssi', 'mean_ssi_income_usd',\n",
    "       'estimate_total_households_with_cash_public_assistance',\n",
    "       'percent_estimate_total_households_with_cash_public_assistance',\n",
    "       'mean_cash_public_assistance_income_usd',\n",
    "       'total_households_foodstamp_snap',])\n",
    "mobility_business_indincome_welfare"
   ]
  },
  {
   "cell_type": "code",
   "execution_count": null,
   "id": "5035ba54",
   "metadata": {
    "scrolled": true
   },
   "outputs": [],
   "source": [
    "mobility_business_indincome_welfare.columns"
   ]
  },
  {
   "cell_type": "code",
   "execution_count": null,
   "id": "a20a8401",
   "metadata": {},
   "outputs": [],
   "source": [
    "with open('data/geo_mobility_combined.csv') as f:\n",
    "    mobility_combined = pd.read_csv(f)#.drop(columns=['metro', 'firms', 'estab_change',])\n",
    "mobility_combined"
   ]
  },
  {
   "cell_type": "code",
   "execution_count": null,
   "id": "4415935e",
   "metadata": {
    "scrolled": true
   },
   "outputs": [],
   "source": [
    "total_est_median_earnings_welfare_unemployment_rate_income_ineq_mediangross_rent_income = pd.merge(mobility_business_indincome_welfare, mobility_combined, on=['name','year'])\n",
    "total_est_median_earnings_welfare_unemployment_rate_income_ineq_mediangross_rent_income"
   ]
  },
  {
   "cell_type": "code",
   "execution_count": null,
   "id": "8c32b1ab",
   "metadata": {},
   "outputs": [],
   "source": [
    "total_est_median_earnings_welfare_unemployment_rate_income_ineq_mediangross_rent_income.columns"
   ]
  },
  {
   "cell_type": "code",
   "execution_count": null,
   "id": "2fe4814e",
   "metadata": {
    "scrolled": false
   },
   "outputs": [],
   "source": [
    "mobility_combined.columns"
   ]
  },
  {
   "cell_type": "code",
   "execution_count": null,
   "id": "18355045",
   "metadata": {
    "scrolled": true
   },
   "outputs": [],
   "source": [
    "#Opening, reading, dropping column and changing 'percent_change' number to float in .csv\n",
    "with open('data/geo_mobility_ed_attainment.csv') as f:\n",
    "    geo_mobility_ed_attainment = pd.read_csv(f).drop(columns=['move_same_county', 'city_state', 'move_total_year','move_diff_county',\n",
    "       'move_diff_state', 'move_from_abroad','diff_county_ed_attn_pop_25up',\n",
    "       'diff_county_ed_attn_less_than_high', 'diff_county_ed_attn_high',\n",
    "       'diff_county_ed_attn_some coll_assoc', 'diff_county_ed_attn_bach',\n",
    "       'diff_county_ed_attn_grad', 'diff_state_ed_attn_pop_25up',\n",
    "       'diff_state_ed_attn_less_than_high', 'diff_state_ed_attn_high',\n",
    "       'diff_state_ed_attn_some_coll_assoc', 'diff_state_ed_attn_bach',\n",
    "       'diff_state_ed_attn_grad', 'from_abroad_ed_attn_pop_25up',\n",
    "       'from_abroad_ed_attn_less_than_high', 'from_abroad_ed_attn_high',\n",
    "       'from_abroad_ed_some_coll_assoc', 'from_abroad_ed_bach',\n",
    "       'from_abroad_ed_grad'])\n",
    "    #geo_mobility_ed_attainment['__'] = pd.to_numeric(business_dynamics['percent_change'],errors = 'coerce')\n",
    "geo_mob_ed_attn = geo_mobility_ed_attainment\n",
    "geo_mob_ed_attn"
   ]
  },
  {
   "cell_type": "code",
   "execution_count": null,
   "id": "00848a15",
   "metadata": {
    "scrolled": true
   },
   "outputs": [],
   "source": [
    "geo_mob_ed_attn.columns"
   ]
  },
  {
   "cell_type": "markdown",
   "id": "33c22e17",
   "metadata": {},
   "source": [
    "Datasets included below: business dynamics, business dynamics, individual income, welfare, unemployment_rate, income_ineq, mediangross_rent_income and educational attainment"
   ]
  },
  {
   "cell_type": "code",
   "execution_count": null,
   "id": "dc7431df",
   "metadata": {},
   "outputs": [],
   "source": [
    "#datasets: business dynamics, business dynamics, individual income, welfare, unemployment_rate, income_ineq, mediangross_rent_income and educational attainment\n",
    "mobility_all = pd.merge(total_est_median_earnings_welfare_unemployment_rate_income_ineq_mediangross_rent_income, geo_mob_ed_attn, on=['name','year'])\n",
    "mobility_all"
   ]
  },
  {
   "cell_type": "markdown",
   "id": "74d51ba3",
   "metadata": {},
   "source": [
    "# Linear Regression Models\n",
    "### Mobility Analysis  <br> "
   ]
  },
  {
   "cell_type": "code",
   "execution_count": null,
   "id": "38f792c8",
   "metadata": {
    "scrolled": false
   },
   "outputs": [],
   "source": [
    "formula1 = 'total_mobility_outside ~ business_percent_change + total_est_median_earnings'\n",
    "model1 = sm.ols(formula = formula1, data = mobility_business_indincome)\n",
    "fitted1 = model1.fit()\n",
    "print(fitted1.summary())"
   ]
  },
  {
   "cell_type": "code",
   "execution_count": null,
   "id": "53b4480d",
   "metadata": {
    "scrolled": true
   },
   "outputs": [],
   "source": [
    "formula2 = 'total_mobility_outside ~ business_percent_change + total_est_median_earnings + \\\n",
    "percent_estimate_total_households_with_social_security + \\\n",
    "percent_households_foodstamp_snap'\n",
    "model2 = sm.ols(formula = formula2, data = total_est_median_earnings_welfare)\n",
    "fitted2 = model2.fit()\n",
    "print(fitted2.summary())"
   ]
  },
  {
   "cell_type": "code",
   "execution_count": null,
   "id": "9fb28d0a",
   "metadata": {
    "scrolled": true
   },
   "outputs": [],
   "source": [
    "formula3 = 'total_mobility_outside ~ business_percent_change + total_est_median_earnings + \\\n",
    "unemployment_rate + income_ineq + mediangross_rent_income + percent_estimate_total_households_with_social_security + \\\n",
    "percent_households_foodstamp_snap'\n",
    "model3 = sm.ols(formula = formula3, data = total_est_median_earnings_welfare_unemployment_rate_income_ineq_mediangross_rent_income)\n",
    "fitted3 = model3.fit()\n",
    "print(fitted3.summary())"
   ]
  },
  {
   "cell_type": "code",
   "execution_count": null,
   "id": "1ef1b21c",
   "metadata": {},
   "outputs": [],
   "source": [
    "formula4 = 'total_mobility_outside ~ business_percent_change + unemployment_rate + income_ineq + \\\n",
    "mediangross_rent_income + percent_households_foodstamp_snap'\n",
    "model4 = sm.ols(formula = formula4, data = total_est_median_earnings_welfare_unemployment_rate_income_ineq_mediangross_rent_income)\n",
    "fitted4 = model4.fit()\n",
    "print(fitted4.summary())"
   ]
  },
  {
   "cell_type": "code",
   "execution_count": null,
   "id": "dd244a1f",
   "metadata": {
    "scrolled": true
   },
   "outputs": [],
   "source": [
    "formula5 = 'total_mobility_outside ~ business_percent_change + unemployment_rate + income_ineq + mediangross_rent_income + \\\n",
    "percent_households_foodstamp_snap + total_ed_attn_pop_25up'\n",
    "model5 = sm.ols(formula = formula5, data = mobility_all)\n",
    "fitted5 = model5.fit()\n",
    "print(fitted5.summary())"
   ]
  },
  {
   "cell_type": "markdown",
   "id": "406bc00a",
   "metadata": {},
   "source": [
    "## <b>Model 4 is the best fit based on the regression models above:</b> <br>\n",
    "#### total_mobility <br>\n",
    "1.business_percent_change <br> 2.unemployment_rate <br> 3.income_ineq <br> 4.mediangross_rent_income <br> \n",
    "5.percent_households_foodstamp_snap' <br>6. mediangross_rent_income <br><br>\n",
    "77% (R^2 value) of the variation in mobility can be explained by the variables in our model.\n"
   ]
  },
  {
   "cell_type": "code",
   "execution_count": null,
   "id": "c7387904",
   "metadata": {},
   "outputs": [],
   "source": [
    "geo_mob_ed_attn.info()"
   ]
  },
  {
   "cell_type": "code",
   "execution_count": null,
   "id": "e694ad78",
   "metadata": {
    "scrolled": true
   },
   "outputs": [],
   "source": [
    "mobility_ed_attn_business = pd.merge(geo_mob_ed_attn, business_dynamics, on=['name','year']).drop(columns=['estab', 'emp', 'percent_change'])\n",
    "mobility_ed_attn_business"
   ]
  },
  {
   "cell_type": "code",
   "execution_count": null,
   "id": "9a0b7822",
   "metadata": {},
   "outputs": [],
   "source": [
    "mobility_all_v2 = pd.merge(mobility_all_v1, business_27, on=['name','year'])#.drop(columns=['same_county', 'diff_county', 'from_abroad'])\n",
    "mobility_all_v2\n"
   ]
  },
  {
   "cell_type": "code",
   "execution_count": null,
   "id": "525633f5",
   "metadata": {},
   "outputs": [],
   "source": [
    "mobility_ed_attn_business.to_csv('data/mobility_ed_attn_business.csv', index=False)"
   ]
  },
  {
   "cell_type": "code",
   "execution_count": null,
   "id": "65f3acf6",
   "metadata": {},
   "outputs": [],
   "source": [
    "ind_income_27.to_csv('data/ind_income_27.csv', index=False)"
   ]
  },
  {
   "cell_type": "markdown",
   "id": "20564804",
   "metadata": {},
   "source": [
    "This project is still being developed. The final report will be published soon."
   ]
  },
  {
   "cell_type": "markdown",
   "id": "48e568ff",
   "metadata": {},
   "source": [
    "Author - Veronica Huxley"
   ]
  }
 ],
 "metadata": {
  "kernelspec": {
   "display_name": "Python 3",
   "language": "python",
   "name": "python3"
  },
  "language_info": {
   "codemirror_mode": {
    "name": "ipython",
    "version": 3
   },
   "file_extension": ".py",
   "mimetype": "text/x-python",
   "name": "python",
   "nbconvert_exporter": "python",
   "pygments_lexer": "ipython3",
   "version": "3.8.8"
  }
 },
 "nbformat": 4,
 "nbformat_minor": 5
}
