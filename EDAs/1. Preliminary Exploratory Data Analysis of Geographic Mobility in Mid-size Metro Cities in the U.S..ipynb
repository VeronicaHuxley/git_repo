{
 "cells": [
  {
   "cell_type": "code",
   "execution_count": 1,
   "id": "69e78aa0",
   "metadata": {},
   "outputs": [],
   "source": [
    "import numpy as np\n",
    "import pandas as pd\n",
    "import math\n",
    "import base64\n",
    "import matplotlib.pyplot as plt\n",
    "import seaborn as sns\n",
    "import seaborn\n",
    "import plotly.express as px\n",
    "import plotly.graph_objects as go\n",
    "import csv\n",
    "import pandas_profiling\n",
    "import sweetviz\n",
    "from matplotlib.ticker import StrMethodFormatter"
   ]
  },
  {
   "cell_type": "markdown",
   "id": "679d2fee",
   "metadata": {},
   "source": [
    "# Preliminary Exploratory Data Analysis of <br>The Influential Factors of Geographic Mobility in Mid-size Metro U.S."
   ]
  },
  {
   "cell_type": "markdown",
   "id": "1d52e3bf",
   "metadata": {},
   "source": [
    "## Overview \n",
    "Cities around the U.S. are experiencing rapid changes in population, quality of life, happiness of their residents, and income inequality, due to a range of factors -- environmental changes, access to public transportation, business growth or decline, cost of living, taxes, welfare programs, quality of education, and many more. The correlation of some of these factors is clear; for example, it’s been well documented that cities with declining industries see related decreases in population as people pursue employment opportunities elsewhere. However, city growth or decline is a complex issue, one that cities, their leaders, and their residents have yet to explore in-depth.\n",
    "\n",
    "## Why does this problem matter?\n",
    "Government leaders have a clear stake in this issue -- a desire to create stable, thriving cities; an incentive to prevent a brain drain and continue to grow business and innovation in their cities; a need to effectively allocate funding in education and public programs that help their constituents be healthy and happy. The goal is to explore the factors that contribute to cities’ growth or decline and identify ways that leaders can improve their own cities (e.g. through additional investments in infrastructure, policy changes, etc).<br><br>\n",
    "\n",
    "Using data from the US Census this analysis covers the incoming geographic mobility rates for 27 cities as well as the demographic of those moving on the assumption that the amount of people moving into cities is a good metric for a city’s growth.<br><br>\n",
    "\n",
    "Austin, TX | Fort Worth, TX | Jacksonville, FL | Columbus, OH | Charlotte, NC | San Francisco, CA | Indianapolis, IN | Denver, CO | Seattle, WA | Denver, CO | Washington, D.C. | Boston, MA | El Paso, TX | Detroit, MI | Nashville, TN | Oklahoma City, OK | Portland, OR | Las Vegas, NV | Memphis, TN | Louisville, KY | Baltimore, MD | Milwaukee, WI | Albuquerque, NM | Tucson, AZ | Fresno, CA | Mesa, AZ | Sacramento, CA | Kansas City, MO\n"
   ]
  },
  {
   "cell_type": "markdown",
   "id": "0a9fedc0",
   "metadata": {},
   "source": [
    "## One-Dimensional Distribution: Business Dynamics"
   ]
  },
  {
   "cell_type": "markdown",
   "id": "a5b791db",
   "metadata": {},
   "source": [
    "The Business Dynamics Statistics includes measures of openings and closings of businesses, startups, job creation and destruction in addition to several other dynamics. The analysis of this data will provide insight on the growth or decline of each city’s economy throughout time. Tracking changes will also enable visualization of the dynamics underlying aggregate factors of a thriving city. \n",
    "<br>\n",
    "<b>name:</b> City name.\n",
    "\n",
    "<b>estab:</b> A single physical location at which business is conducted or services or industrial operations are performed. It is not necessarily identical with a company or enterprise, which may consist of one or more establishments. When two or more activities are carried on at a single location under a single ownership, all activities generally are grouped together as a single establishment. The entire establishment is classified on the basis of its major activity and all data are included in that classification. Establishment counts represent the number of locations with paid employees any time during the year.\n",
    "\n",
    "<b>firms:</b> A firm is a business organization consisting of one or more domestic establishments in the same geographic area and industry that were specified under common ownership or control. The firm and the establishment are the same for single-establishment firms. For each multi-establishment firm, establishments in the same industry within a geographic area will be counted as one firm; the firm employment and annual payroll are summed from the associated establishments.\n",
    "\n",
    "<b>emp:</b> Paid employment consists of full- and part-time employees, including salaried officers and\n",
    "executives of corporations, who are on the payroll in the pay period including March 12. Included\n",
    "are employees on paid sick leave, holidays, and vacations.\n",
    "\n",
    "<b>estab_change:</b> The difference in number of active establishments from the previous year.\n",
    "\n",
    "<b>percent_change:</b> The change percentage of business establishments year over year."
   ]
  },
  {
   "cell_type": "code",
   "execution_count": 2,
   "id": "9311c95c",
   "metadata": {},
   "outputs": [],
   "source": [
    "with open('data/business_dynamics.csv') as f:\n",
    "    business_dynamics = pd.read_csv(f).drop(columns=['metro']) #.sort_values(by='year', ascending=False)"
   ]
  },
  {
   "cell_type": "code",
   "execution_count": null,
   "id": "1e1ff729",
   "metadata": {
    "scrolled": true
   },
   "outputs": [],
   "source": [
    "#creating pandas-profiling html analytics report for business_dynamics\n",
    "df = pd.read_csv('data/business_dynamics.csv')\n",
    "pandas_profiling.ProfileReport(df)"
   ]
  },
  {
   "cell_type": "code",
   "execution_count": null,
   "id": "c3becd61",
   "metadata": {},
   "outputs": [],
   "source": [
    "#Changing data type for 'percent_change' from object to float\n",
    "business_dynamics['percent_change'] = pd.to_numeric(business_dynamics['percent_change'],errors = 'coerce')"
   ]
  },
  {
   "cell_type": "code",
   "execution_count": null,
   "id": "61c374d1",
   "metadata": {},
   "outputs": [],
   "source": [
    "business_dynamics['name'].drop_duplicates()"
   ]
  },
  {
   "cell_type": "code",
   "execution_count": null,
   "id": "6683213e",
   "metadata": {},
   "outputs": [],
   "source": [
    "business_dynamics_hist = business_dynamics['percent_change'].plot.hist()\n",
    "business_dynamics_hist.set_title(\"% of Establishments Growth, 2010-2019\") # Adding title\n",
    "business_dynamics_hist.set_xlabel('% of Establishments Growth')\n",
    "plt.plot()"
   ]
  },
  {
   "cell_type": "code",
   "execution_count": null,
   "id": "663b1330",
   "metadata": {},
   "outputs": [],
   "source": [
    "#Seaborn bar graph of number of establishments per city by year\n",
    "\n",
    "business_dynamics_bar = sns.FacetGrid(business_dynamics, col='name', col_wrap=3, height=5, aspect=1, sharex\n",
    "                                      =False, margin_titles=True)\n",
    "business_dynamics_bar.map_dataframe(sns.barplot,x='year',y= 'percent_change').set(xlabel='Year', \n",
    "                                                        ylabel='% of Establishments Growth YoY')\n",
    "\n",
    "    "
   ]
  },
  {
   "cell_type": "code",
   "execution_count": null,
   "id": "e1423165",
   "metadata": {},
   "outputs": [],
   "source": [
    "#Seaborn line graph of number of establishments per city by year\n",
    "\n",
    "business_dynamics_line = sns.FacetGrid(business_dynamics, col='name', col_wrap=3, height=5, aspect=1, sharex=False)\n",
    "business_dynamics_line.map_dataframe(sns.lineplot,x='year',y= \n",
    "                                          'percent_change').set(xlabel='Year', ylabel='% of Establishments Growth YoY')"
   ]
  },
  {
   "cell_type": "code",
   "execution_count": null,
   "id": "02049281",
   "metadata": {},
   "outputs": [],
   "source": [
    "sns.relplot(x='year', y='percent_change', hue='name',kind='line',data=business_dynamics)"
   ]
  },
  {
   "cell_type": "code",
   "execution_count": null,
   "id": "1a8092cc",
   "metadata": {},
   "outputs": [],
   "source": [
    "sns.regplot(x='year', y='percent_change',data=business_dynamics,fit_reg=True)"
   ]
  },
  {
   "cell_type": "code",
   "execution_count": null,
   "id": "a5257658",
   "metadata": {
    "scrolled": false
   },
   "outputs": [],
   "source": [
    "#Plotly bar plot of Business Growth % by Year - 2010-2019\n",
    "\n",
    "df1 = business_dynamics.reset_index()\n",
    "\n",
    "fig = px.bar(df1, y='percent_change', x=\"year\", color='name', \n",
    "             title=\"Bar Plot of Business Growth % by Year - 2010-2019\",\n",
    "             labels={col:col.replace('_', ' ') for col in df1.columns}) # remove underscore\n",
    "fig.show()"
   ]
  },
  {
   "cell_type": "code",
   "execution_count": null,
   "id": "114b2d82",
   "metadata": {},
   "outputs": [],
   "source": [
    "#Plotly line plot of Business Growth % by Year - 2010-2019\n",
    "\n",
    "df2 = business_dynamics.reset_index()\n",
    "fig = px.line(df2, x=\"year\", y='percent_change', color='name', \n",
    "              title=\"Line Plot of Business Growth % by Year - 2010-2019\",\n",
    "              labels={col:col.replace('_', ' ') for col in df2.columns}) # remove underscore\n",
    "fig.show()"
   ]
  },
  {
   "cell_type": "code",
   "execution_count": null,
   "id": "0425a807",
   "metadata": {},
   "outputs": [],
   "source": [
    "#Plotly scatter plot of Business Growth % by Year - 2010-2019\n",
    "\n",
    "df3 = business_dynamics.reset_index()\n",
    "fig = px.scatter(df3, x=\"year\", y='percent_change', \n",
    "                 color='name', symbol='name', #marginal_y=\"rug\", \n",
    "                 title=\"Scatter Plot of Business Growth % by Year - 2010-2019\",\n",
    "                 labels={col:col.replace('_', ' ') for col in df3.columns}) # remove underscore\n",
    "fig.show()"
   ]
  },
  {
   "cell_type": "code",
   "execution_count": null,
   "id": "c696f000",
   "metadata": {},
   "outputs": [],
   "source": [
    "#Plotly histogram of Business Growth % by Year - 2010-2019\n",
    "\n",
    "df4 = business_dynamics.reset_index()\n",
    "fig = px.histogram(df4, x=\"year\", y='percent_change', color='name', \n",
    "                title=\"Histogram of Business Growth % Change by Year - 2010-2019\", \n",
    "                barmode = 'group', #barmode options for px.histograms: 'stack', 'group', or 'overlay'\n",
    "                barnorm = None, #barnorm options for px.histogram: None, 'fraction', or 'percent'\n",
    "                hover_data = ['estab_change'],\n",
    "                #animation_frame=\"name\",\n",
    "                #range_x=[0,df4[\"percent_change\"].max()*1.1],\n",
    "                #histfunc = 'sum', #histfunc options for px.histograms: 'count', 'sum', 'avg', 'max', or 'min'\n",
    "                #facet_col = 'name', facet_col_wrap=5, facet_row_spacing=0.076923,\n",
    "                labels={col:col.replace('_', ' ') for col in df4.columns}) # remove underscore\n",
    "\n",
    "#fig.update_xaxes(type='category')\n",
    "                   \n",
    "fig.show()"
   ]
  },
  {
   "cell_type": "code",
   "execution_count": null,
   "id": "2655b44c",
   "metadata": {},
   "outputs": [],
   "source": [
    "#Plotly scatter matrix of Business Growth % by Year - 2010-2019\n",
    "\n",
    "df5 = business_dynamics.reset_index()\n",
    "fig = px.scatter_matrix(df5, title=\"Scatter Matrix of Business Growth % - 2010-2019\",)\n",
    "fig.show()"
   ]
  },
  {
   "cell_type": "code",
   "execution_count": null,
   "id": "26b52552",
   "metadata": {},
   "outputs": [],
   "source": [
    "#Plotly scatter matrix of Business Growth % by Year - 2010-2019\n",
    "\n",
    "df5 = business_dynamics.reset_index()\n",
    "fig = px.scatter_matrix(df5, dimensions=[\"percent_change\", \"year\"],\n",
    "    color=\"name\", title=\"Scatter Matrix of Business Growth by Year and Percent Change\",\n",
    "    labels={col:col.replace('_', ' ') for col in df5.columns}) # remove underscore\n",
    "fig.show()"
   ]
  },
  {
   "cell_type": "code",
   "execution_count": null,
   "id": "7177e38d",
   "metadata": {},
   "outputs": [],
   "source": [
    "#Plotly violin plot of Business Growth % by Year - 2010-2019\n",
    "\n",
    "df6 = business_dynamics.reset_index()\n",
    "fig = px.violin(df6, y=\"year\", x='percent_change', box=True, color='name',\n",
    "                points='all', # can be 'all', 'outliers', or False\n",
    "                title=\"Violin Plot of Business Growth % per City by Year - 2010-2019\", hover_data=df6.columns,\n",
    "                labels={col:col.replace('_', ' ') for col in df6.columns}) # remove underscore\n",
    "fig.show()"
   ]
  },
  {
   "cell_type": "code",
   "execution_count": null,
   "id": "005937d5",
   "metadata": {},
   "outputs": [],
   "source": [
    "#Plotly violin plot of Business Growth % by Year - 2010-2019\n",
    "\n",
    "df7 = business_dynamics.reset_index()\n",
    "fig = px.violin(df7, y=\"name\", x='percent_change', box=True, color='name',# draw box plot inside the violin\n",
    "                points='all', # can be 'all', 'outliers', or False\n",
    "                title=\"Violin Plot of Business Growth Percent Change per City - 2010-2019\", hover_data=df7.columns,\n",
    "    labels={col:col.replace('_', ' ') for col in df7.columns}) # remove underscore\n",
    "fig.show()"
   ]
  },
  {
   "cell_type": "code",
   "execution_count": null,
   "id": "af89a076",
   "metadata": {},
   "outputs": [],
   "source": [
    "#Plotly violin plot of Business Growth % by Year - 2010-2019\n",
    "\n",
    "df8 = business_dynamics.reset_index()\n",
    "fig = px.violin(df8, y=\"percent_change\", x='year', box=True, color='year',# draw box plot inside the violin\n",
    "                points='all', # can be 'all', 'outliers', or False\n",
    "                title=\"Violin Plot of Business Growth % Change by Year - 2010-2019\", hover_data=['name'],\n",
    "                labels={col:col.replace('_', ' ') for col in df8.columns}) # remove underscore\n",
    "fig.show()"
   ]
  },
  {
   "cell_type": "code",
   "execution_count": null,
   "id": "d2f4b12f",
   "metadata": {},
   "outputs": [],
   "source": [
    "#Plotly box plot of Business Growth % by Year - 2010-2019 with outliers\n",
    "\n",
    "df9 = business_dynamics.reset_index()\n",
    "fig = px.box(df9, x=\"year\", y=\"percent_change\", points='outliers', # can be 'all', 'outliers', or False\n",
    "             title=\"Box Plot of Business Growth % Change by year with outliers - 2010-2019\", hover_data=df9.columns,\n",
    "             labels={col:col.replace('_', ' ') for col in df9.columns}) # remove underscore\n",
    "fig.show()"
   ]
  },
  {
   "cell_type": "code",
   "execution_count": null,
   "id": "b0aa1011",
   "metadata": {},
   "outputs": [],
   "source": [
    "#Plotly scatterplot of Ordinary Least Squares regression trendline of business growth percent change by year for each city. \n",
    "#Hovering over the trendline will show the equation of the line and its R-squared value.\n",
    "\n",
    "df12 = business_dynamics.reset_index()\n",
    "fig = px.scatter(df12, x=\"year\", y=\"percent_change\", trendline=\"ols\", hover_data=['estab_change','name'],\n",
    "                labels={col:col.replace('_', ' ') for col in df12.columns}) # remove underscore)\n",
    "fig.show()"
   ]
  },
  {
   "cell_type": "code",
   "execution_count": null,
   "id": "9667c27a",
   "metadata": {},
   "outputs": [],
   "source": [
    "#Plotly scatterplot of LOWESS regression trendline of business growth percent change by year for each city. \n",
    "#Hovering over the trendline will show the equation of the line and its R-squared value.\n",
    "\n",
    "df12 = business_dynamics.reset_index()\n",
    "fig = px.scatter(df12, x=\"year\", y=\"percent_change\", trendline=\"lowess\", hover_data=['estab_change','name'],\n",
    "                labels={col:col.replace('_', ' ') for col in df12.columns}) # remove underscore)\n",
    "fig.show()"
   ]
  },
  {
   "cell_type": "markdown",
   "id": "ae781974",
   "metadata": {},
   "source": [
    "## One-Dimensional Distribution: Geographic Mobility"
   ]
  },
  {
   "cell_type": "markdown",
   "id": "c06e108e",
   "metadata": {},
   "source": [
    "Geographical Mobility based on US Census data from 2010-2019, including breakdowns by demographic characteristics and rates of inmigration, outmigration, and net migration. This is an important variable for comparing how geographic mobility has changed over time across the 27 cities and its potential correlation to the growth/declining factors of a thriving city.\n",
    "\n",
    "<b>name:</b> City name.\n",
    "\n",
    "<b>year:</b> Record year for which the data was gathered per year between 2010-2019.\n",
    "\n",
    "<b>same_county:</b> Moved within the same county. Estimate population 1 year and over.\n",
    "\n",
    "<b>diff_county:</b> Moved from a different county, same state. Estimate population 1 year and over.\n",
    "\n",
    "<b>diff_state:</b> Moved from a different state. Estimate population 1 year and over.\n",
    "\n",
    "<b>from_abroad:</b> Moved from abroad. Estimate population 1 year and over."
   ]
  },
  {
   "cell_type": "code",
   "execution_count": null,
   "id": "59c94183",
   "metadata": {},
   "outputs": [],
   "source": [
    "#Read geographic mobility dataset, drop columns and create total mobility column\n",
    "with open('data/geo_mobility.csv') as f:\n",
    "    geo_mobility = pd.read_csv(f).drop(columns=['geo_id', 'city_state']) #.sort_values(by='year', ascending=False)\n",
    "    geo_mobility['total_mobility_all'] = geo_mobility['same_county'] + geo_mobility['diff_county'] + geo_mobility['diff_state']+geo_mobility['from_abroad']\n",
    "    geo_mobility['total_mobility_outside'] = geo_mobility['diff_county'] + geo_mobility['diff_state']+geo_mobility['from_abroad']\n",
    "geo_mobility"
   ]
  },
  {
   "cell_type": "code",
   "execution_count": null,
   "id": "5ce88552",
   "metadata": {},
   "outputs": [],
   "source": [
    "geo_mobility['name'].drop_duplicates()#.count()"
   ]
  },
  {
   "cell_type": "code",
   "execution_count": null,
   "id": "718a67e2",
   "metadata": {},
   "outputs": [],
   "source": [
    "geo_mobility.shape"
   ]
  },
  {
   "cell_type": "code",
   "execution_count": null,
   "id": "6dc06b42",
   "metadata": {},
   "outputs": [],
   "source": [
    "geo_mobility.value_counts()"
   ]
  },
  {
   "cell_type": "code",
   "execution_count": null,
   "id": "7752f607",
   "metadata": {
    "scrolled": false
   },
   "outputs": [],
   "source": [
    "#Seaborn Bar graph of total mobility for each city per year. Estimate population 1 year and over\n",
    "\n",
    "geo_mob1 = sns.FacetGrid(geo_mobility, col='name', col_wrap=3, height=5, aspect=1, sharex\n",
    "                                      =False, margin_titles=True)\n",
    "geo_mob1.map_dataframe(sns.barplot,x='year', y = 'total_mobility_all').set(xlabel='Year', \n",
    "                                                ylabel='Total mobility per city. Estimate population 1 year and over')"
   ]
  },
  {
   "cell_type": "code",
   "execution_count": null,
   "id": "b6fa26f3",
   "metadata": {},
   "outputs": [],
   "source": [
    "#Seaborn Bar graph of total residential moves. Estimate population 1 year and over\n",
    "\n",
    "geo_mob1 = sns.FacetGrid(geo_mobility, col='name', col_wrap=3, height=5, aspect=1, sharex\n",
    "                                      =False, margin_titles=True)\n",
    "geo_mob1.map_dataframe(sns.barplot,x='year', y = 'total_year').set(xlabel='Year', \n",
    "                                                ylabel='Total residential moves. Estimate population 1 year and over')"
   ]
  },
  {
   "cell_type": "code",
   "execution_count": null,
   "id": "296739ed",
   "metadata": {},
   "outputs": [],
   "source": [
    "#Seaborn Bar graph of residential moves within the same county within each city per year. Estimate population 1 year and over\n",
    "geo_mob1 = sns.FacetGrid(geo_mobility, col='name', col_wrap=3, height=5, aspect=1, sharex\n",
    "                                      =False, margin_titles=True)\n",
    "geo_mob1.map_dataframe(sns.barplot,x='year', y = 'same_county').set(xlabel='Year', \n",
    "                                        ylabel='Residential moves within the same county. Estimate population 1 year and over')"
   ]
  },
  {
   "cell_type": "code",
   "execution_count": null,
   "id": "7a6b9805",
   "metadata": {},
   "outputs": [],
   "source": [
    "#Seaborn Bar graph of residential moves from a different county within each city per year. Estimate population 1 year and over\n",
    "geo_mob1 = sns.FacetGrid(geo_mobility, col='name', col_wrap=3, height=5, aspect=1, sharex\n",
    "                                      =False, margin_titles=True)\n",
    "geo_mob1.map_dataframe(sns.barplot,x='year', y = 'diff_county').set(xlabel='Year', \n",
    "                                    ylabel='Residential moves from a different county. Estimate population 1 year and over')"
   ]
  },
  {
   "cell_type": "code",
   "execution_count": null,
   "id": "ab721a2d",
   "metadata": {},
   "outputs": [],
   "source": [
    "#Seaborn Bar graph of residential moves from a different state per year. Estimate population 1 year and over\n",
    "geo_mob1 = sns.FacetGrid(geo_mobility, col='name', col_wrap=3, height=5, aspect=1, sharex\n",
    "                                      =False, margin_titles=True)\n",
    "geo_mob1.map_dataframe(sns.barplot,x='year', y = 'diff_state').set(xlabel='Year', \n",
    "                                    ylabel='Residential moves from a different state. Estimate population 1 year and over')"
   ]
  },
  {
   "cell_type": "code",
   "execution_count": null,
   "id": "f27b1862",
   "metadata": {},
   "outputs": [],
   "source": [
    "#Seaborn Bar graph of residential moves from abroad per year. Estimate population 1 year and over\n",
    "geo_mob1 = sns.FacetGrid(geo_mobility, col='name', col_wrap=3, height=5, aspect=1, sharex\n",
    "                                      =False, margin_titles=True)\n",
    "geo_mob1.map_dataframe(sns.barplot,x='year', y = 'from_abroad').set(xlabel='Year', \n",
    "                                            ylabel='Residential moves from abroad. Estimate population 1 year and over')"
   ]
  },
  {
   "cell_type": "code",
   "execution_count": null,
   "id": "90e5a728",
   "metadata": {},
   "outputs": [],
   "source": [
    "#Seaborn Line graph of total mobility for each city per year. Estimate population 1 year and over\n",
    "\n",
    "geo_mob1 = sns.FacetGrid(geo_mobility, col='name', col_wrap=3, height=5, aspect=1, sharex\n",
    "                                      =False, margin_titles=True)\n",
    "geo_mob1.map_dataframe(sns.lineplot,x='year', y = 'total_mobility_all').set(xlabel='Year', \n",
    "                                                ylabel='Total mobility per city. Estimate population 1 year and over')"
   ]
  },
  {
   "cell_type": "code",
   "execution_count": null,
   "id": "57fca675",
   "metadata": {},
   "outputs": [],
   "source": [
    "#Seaborn Line graph of total residential moves. Estimate population 1 year and over\n",
    "\n",
    "geo_mob_line = sns.FacetGrid(geo_mobility, col='name', col_wrap=3, height=5, aspect=1, sharex=False)\n",
    "geo_mob_line.map_dataframe(sns.lineplot,x='year',y='total_year').set(xlabel='Year', \n",
    "                                                ylabel='total residential moves. Estimate population YoY')"
   ]
  },
  {
   "cell_type": "code",
   "execution_count": null,
   "id": "a87cc15b",
   "metadata": {},
   "outputs": [],
   "source": [
    "#Seaborn Line graph of residential moves within the same county. Estimate population 1 year and over\n",
    "\n",
    "geo_mob_line = sns.FacetGrid(geo_mobility, col='name', col_wrap=3, height=5, aspect=1, sharex=False)\n",
    "geo_mob_line.map_dataframe(sns.lineplot,x='year',y='same_county').set(xlabel='Year', \n",
    "                                            ylabel='residential moves within the same county. Estimate population YoY')"
   ]
  },
  {
   "cell_type": "code",
   "execution_count": null,
   "id": "ed1edc02",
   "metadata": {},
   "outputs": [],
   "source": [
    "#Seaborn Line graph of residential moves from different county. Estimate population 1 year and over\n",
    "\n",
    "geo_mob_line = sns.FacetGrid(geo_mobility, col='name', col_wrap=3, height=5, aspect=1, sharex=False)\n",
    "geo_mob_line.map_dataframe(sns.lineplot,x='year',y='diff_county').set(xlabel='Year', \n",
    "                                                ylabel='residential moves from different county. Estimate population YoY')"
   ]
  },
  {
   "cell_type": "code",
   "execution_count": null,
   "id": "c826864a",
   "metadata": {},
   "outputs": [],
   "source": [
    "#Seaborn Line graph of residential moves from different state. Estimate population 1 year and over\n",
    "\n",
    "geo_mob_line = sns.FacetGrid(geo_mobility, col='name', col_wrap=3, height=5, aspect=1, sharex=False)\n",
    "geo_mob_line.map_dataframe(sns.lineplot,x='year',y='diff_state').set(xlabel='Year', \n",
    "                                                ylabel='residential moves from different state. Estimate population YoY')"
   ]
  },
  {
   "cell_type": "code",
   "execution_count": null,
   "id": "d09d3495",
   "metadata": {},
   "outputs": [],
   "source": [
    "#Seaborn Line graph of residential moves from abroad. Estimate population 1 year and over\n",
    "\n",
    "geo_mob_line = sns.FacetGrid(geo_mobility, col='name', col_wrap=3, height=5, aspect=1, sharex=False)\n",
    "geo_mob_line.map_dataframe(sns.lineplot,x='year',y='from_abroad').set(xlabel='Year', \n",
    "                                                ylabel='residential moves from abroad. Estimate population YoY')"
   ]
  },
  {
   "cell_type": "code",
   "execution_count": null,
   "id": "dc1c5c21",
   "metadata": {},
   "outputs": [],
   "source": [
    "#Plotly Bar graph of Total Mobility (including same county) by Year - 2010-2019. Estimate population 1 year and over\n",
    "\n",
    "mob_df1 = geo_mobility.reset_index()\n",
    "\n",
    "fig = px.bar(mob_df1, y='total_mobility_all', x=\"year\", color='name', \n",
    "             title=\"Bar Plot of Total Mobility (including same county) by Year - 2010-2019\",\n",
    "             labels={col:col.replace('_', ' ') for col in mob_df1.columns}) # remove underscore\n",
    "fig.show()"
   ]
  },
  {
   "cell_type": "code",
   "execution_count": null,
   "id": "5dba54eb",
   "metadata": {},
   "outputs": [],
   "source": [
    "#Plotly Bar graph of Total Mobility (excluding same county) by Year - 2010-2019. Estimate population 1 year and over\n",
    "\n",
    "mob_df1 = geo_mobility.reset_index()\n",
    "\n",
    "fig = px.bar(mob_df1, y='total_mobility_outside', x=\"year\", color='name', \n",
    "             title=\"Bar Plot of Total Mobility (excluding same county) by Year - 2010-2019\",\n",
    "             labels={col:col.replace('_', ' ') for col in mob_df1.columns}) # remove underscore\n",
    "fig.show()"
   ]
  },
  {
   "cell_type": "code",
   "execution_count": null,
   "id": "2256f25e",
   "metadata": {
    "scrolled": true
   },
   "outputs": [],
   "source": [
    "#Plotly Line plot of Total Mobility (including same county) by Year - 2010-2019. Estimate population 1 year and over\n",
    "\n",
    "mob_df2 = geo_mobility.reset_index()\n",
    "fig = px.line(mob_df2, x=\"year\", y='total_mobility_all', color='name', \n",
    "              title=\"Line Plot of Total Mobility (including same county) by Year - 2010-2019\",\n",
    "              labels={col:col.replace('_', ' ') for col in mob_df2.columns}) # remove underscore\n",
    "fig.show()"
   ]
  },
  {
   "cell_type": "code",
   "execution_count": null,
   "id": "cbe9c05c",
   "metadata": {},
   "outputs": [],
   "source": [
    "#Plotly Line plot of Total Mobility (excluding same county) by Year - 2010-2019. Estimate population 1 year and over\n",
    "\n",
    "mob_df2 = geo_mobility.reset_index()\n",
    "fig = px.line(mob_df2, x=\"year\", y='total_mobility_outside', color='name', \n",
    "              title=\"Line Plot of Total Mobility (excluding same county) by Year - 2010-2019\",\n",
    "              labels={col:col.replace('_', ' ') for col in mob_df2.columns}) # remove underscore\n",
    "fig.show()"
   ]
  },
  {
   "cell_type": "code",
   "execution_count": null,
   "id": "012fd0d8",
   "metadata": {
    "scrolled": true
   },
   "outputs": [],
   "source": [
    "#Plotyly Scatterplot of Total Mobility (including same county) by Year - 2010-2019. Estimate population 1 year and over\n",
    "\n",
    "mob_df3 = geo_mobility.reset_index()\n",
    "fig = px.scatter(mob_df3, x=\"year\", y='total_mobility_all', \n",
    "                 color='name', symbol='name', #marginal_y=\"rug\", \n",
    "                 title=\"Scatterplot of Total Mobility (including same county) by Year - 2010-2019\",\n",
    "                 labels={col:col.replace('_', ' ') for col in mob_df3.columns}) # remove underscore\n",
    "fig.show()"
   ]
  },
  {
   "cell_type": "code",
   "execution_count": null,
   "id": "1a49fc88",
   "metadata": {},
   "outputs": [],
   "source": [
    "#Plotyly Scatterplot of Total Mobility (excluding same county) by Year - 2010-2019. Estimate population 1 year and over\n",
    "\n",
    "mob_df3 = geo_mobility.reset_index()\n",
    "fig = px.scatter(mob_df3, x=\"year\", y='total_mobility_outside', \n",
    "                 color='name', symbol='name', #marginal_y=\"rug\", \n",
    "                 title=\"Scatterplot of Total Mobility (excluding same county) by Year - 2010-2019\",\n",
    "                 labels={col:col.replace('_', ' ') for col in mob_df3.columns}) # remove underscore\n",
    "fig.show()"
   ]
  },
  {
   "cell_type": "code",
   "execution_count": null,
   "id": "6763bf10",
   "metadata": {},
   "outputs": [],
   "source": [
    "#Plotly Histogram of Total Mobility (including same county) by Year - 2010-2019. Estimate population 1 year and over\n",
    "mob_df4 = geo_mobility.reset_index()\n",
    "fig = px.histogram(mob_df4, x=\"year\", y='total_mobility_all', color='name', \n",
    "                title=\"Histogram of Total Mobility by Year - 2010-2019\", \n",
    "                barmode = 'stack', #barmode options for px.histograms: 'stack', 'group', or 'overlay'\n",
    "                barnorm = None, #barnorm options for px.histogram: None, 'fraction', or 'percent'\n",
    "                hover_data = mob_df4.columns,\n",
    "                #animation_frame=\"name\",\n",
    "                #range_x=[0,df4[\"percent_change\"].max()*1.1],\n",
    "                #histfunc = 'count', #histfunc options for px.histograms: 'count', 'sum', 'avg', 'max', or 'min'\n",
    "                facet_col = 'name', facet_col_wrap=3, facet_row_spacing=0.08,\n",
    "                labels={col:col.replace('_', ' ') for col in mob_df4.columns}) # remove underscore\n",
    "\n",
    "#fig.update_xaxes(type='category')\n",
    "                   \n",
    "fig.show()"
   ]
  },
  {
   "cell_type": "code",
   "execution_count": null,
   "id": "615586b1",
   "metadata": {},
   "outputs": [],
   "source": [
    "#Plotly Histogram of Total Mobility (excluding same county) by Year - 2010-2019. Estimate population 1 year and over\n",
    "mob_df4 = geo_mobility.reset_index()\n",
    "fig = px.histogram(mob_df4, x=\"year\", y='total_mobility_outside', color='name', \n",
    "                title=\"Histogram of Total Mobility by Year - 2010-2019\", \n",
    "                barmode = 'stack', #barmode options for px.histograms: 'stack', 'group', or 'overlay'\n",
    "                barnorm = None, #barnorm options for px.histogram: None, 'fraction', or 'percent'\n",
    "                hover_data = mob_df4.columns,\n",
    "                #animation_frame=\"name\",\n",
    "                #range_x=[0,df4[\"percent_change\"].max()*1.1],\n",
    "                #histfunc = 'count', #histfunc options for px.histograms: 'count', 'sum', 'avg', 'max', or 'min'\n",
    "                facet_col = 'name', facet_col_wrap=3, facet_row_spacing=0.08,\n",
    "                labels={col:col.replace('_', ' ') for col in mob_df4.columns}) # remove underscore\n",
    "\n",
    "#fig.update_xaxes(type='category')\n",
    "                   \n",
    "fig.show()"
   ]
  },
  {
   "cell_type": "code",
   "execution_count": null,
   "id": "6a8d587a",
   "metadata": {},
   "outputs": [],
   "source": [
    "#Plotly Histogram of total count of residential moves by Year - 2010-2019. Estimate population 1 year and over\n",
    "mob_df4 = geo_mobility.reset_index()\n",
    "fig = px.histogram(mob_df4, x=\"year\", y='total_year', color='name', \n",
    "                title=\"Histogram of total count of residential moves by year - 2010-2019\", \n",
    "                barmode = 'stack', #barmode options for px.histograms: 'stack', 'group', or 'overlay'\n",
    "                barnorm = None, #barnorm options for px.histogram: None, 'fraction', or 'percent'\n",
    "                hover_data = mob_df4.columns,\n",
    "                #animation_frame=\"name\",\n",
    "                #range_x=[0,df4[\"percent_change\"].max()*1.1],\n",
    "                #histfunc = 'count', #histfunc options for px.histograms: 'count', 'sum', 'avg', 'max', or 'min'\n",
    "                facet_col = 'name', facet_col_wrap=3, facet_row_spacing=0.08,\n",
    "                labels={col:col.replace('_', ' ') for col in mob_df4.columns}) # remove underscore\n",
    "\n",
    "#fig.update_xaxes(type='category')\n",
    "                   \n",
    "fig.show()"
   ]
  },
  {
   "cell_type": "code",
   "execution_count": null,
   "id": "8646a6ec",
   "metadata": {},
   "outputs": [],
   "source": [
    "#Plotly Scatter Matrix of Total Mobility (including same county) by Year - 2010-2019. Estimate population 1 year and over\n",
    "mob_df5 = geo_mobility.reset_index()\n",
    "fig = px.scatter_matrix(mob_df5, dimensions=[\"year\",\"total_mobility_all\"],\n",
    "    color=\"name\", title=\"Scatter Matrix of Total Mobility by Year - 2010-2019\",\n",
    "    labels={col:col.replace('_', ' ') for col in mob_df5.columns}) # remove underscore\n",
    "fig.show()"
   ]
  },
  {
   "cell_type": "code",
   "execution_count": null,
   "id": "893a44b2",
   "metadata": {},
   "outputs": [],
   "source": [
    "#Plotly Scatter Matrix of Total Mobility (excluding same county) by Year - 2010-2019. Estimate population 1 year and over\n",
    "mob_df5 = geo_mobility.reset_index()\n",
    "fig = px.scatter_matrix(mob_df5, dimensions=[\"year\",\"total_mobility_outside\"],\n",
    "    color=\"name\", title=\"Scatter Matrix of Total Mobility by Year - 2010-2019\",\n",
    "    labels={col:col.replace('_', ' ') for col in mob_df5.columns}) # remove underscore\n",
    "fig.show()"
   ]
  },
  {
   "cell_type": "code",
   "execution_count": null,
   "id": "a49600c3",
   "metadata": {},
   "outputs": [],
   "source": [
    "#Plotly Violin Plot of Total Mobility (including same county) by City - 2010-2019. Estimate population 1 year and over\n",
    "mob_df6 = geo_mobility.reset_index()\n",
    "fig = px.violin(mob_df6, y='total_mobility_all', x='year', box=True, color='name',\n",
    "                points='all', # can be 'all', 'outliers', or False\n",
    "                title=\"Violin Plot of Total Mobility (including same county) by City - 2010-2019\", hover_data=mob_df6.columns,\n",
    "                labels={col:col.replace('_', ' ') for col in mob_df6.columns}) # remove underscore\n",
    "fig.show()"
   ]
  },
  {
   "cell_type": "code",
   "execution_count": null,
   "id": "e709ba95",
   "metadata": {
    "scrolled": true
   },
   "outputs": [],
   "source": [
    "#Plotly Violin Plot of Total Mobility (exluding same county) by City - 2010-2019. Estimate population 1 year and over\n",
    "mob_df6 = geo_mobility.reset_index()\n",
    "fig = px.violin(mob_df6, y='total_mobility_outside', x='year', box=True, color='name',\n",
    "                points='all', # can be 'all', 'outliers', or False\n",
    "                title=\"Violin Plot of Total Mobility (exluding same county) by City - 2010-2019\", hover_data=mob_df6.columns,\n",
    "                labels={col:col.replace('_', ' ') for col in mob_df6.columns}) # remove underscore\n",
    "fig.show()"
   ]
  },
  {
   "cell_type": "code",
   "execution_count": null,
   "id": "79a77e54",
   "metadata": {},
   "outputs": [],
   "source": [
    "#Plotly Violin Plot of Total Mobility (including same county) per year - 2010-2019. Estimate population 1 year and over\n",
    "mob_df7 = geo_mobility.reset_index()\n",
    "fig = px.violin(mob_df7, y=\"year\", x='total_mobility_all', box=True, color='year',\n",
    "                points='all', # can be 'all', 'outliers', or False\n",
    "                title=\"Violin Plot of Total Mobility (including same county) per Year - 2010-2019\", hover_data=mob_df7.columns,\n",
    "    labels={col:col.replace('_', ' ') for col in mob_df7.columns}) # remove underscore\n",
    "fig.show()"
   ]
  },
  {
   "cell_type": "code",
   "execution_count": null,
   "id": "e7ab47fb",
   "metadata": {},
   "outputs": [],
   "source": [
    "#Plotly Violin Plot of Total Mobility (excluding same county) per year - 2010-2019. Estimate population 1 year and over\n",
    "mob_df7 = geo_mobility.reset_index()\n",
    "fig = px.violin(mob_df7, y=\"year\", x='total_mobility_outside', box=True, color='year',\n",
    "                points='all', # can be 'all', 'outliers', or False\n",
    "                title=\"Violin Plot of Total Mobility per Year - 2010-2019\", hover_data=mob_df7.columns,\n",
    "    labels={col:col.replace('_', ' ') for col in mob_df7.columns}) # remove underscore\n",
    "fig.show()"
   ]
  },
  {
   "cell_type": "code",
   "execution_count": null,
   "id": "03c7dccc",
   "metadata": {
    "scrolled": true
   },
   "outputs": [],
   "source": [
    "#Plotly Violin Plot of Quantiles of Total Mobility (including same county) per year - 2010-2019. Estimate population 1 year and over\n",
    "mob_df8 = geo_mobility.reset_index()\n",
    "fig = px.violin(mob_df8, y=\"total_mobility_all\", x='year', box=True, color='year',# draw box plot inside the violin\n",
    "                points='all', # can be 'all', 'outliers', or False\n",
    "                title=\"Violin Plot of Quantiles of Total Mobility (including same county) per year - 2010-2019\", hover_data=['name'],\n",
    "                labels={col:col.replace('_', ' ') for col in mob_df8.columns}) # remove underscore\n",
    "fig.show()"
   ]
  },
  {
   "cell_type": "code",
   "execution_count": null,
   "id": "528b8f4f",
   "metadata": {},
   "outputs": [],
   "source": [
    "#Plotly Violin Plot of Quantiles of Total Mobility (excluding same county) per year - 2010-2019. Estimate population 1 year and over\n",
    "mob_df8 = geo_mobility.reset_index()\n",
    "fig = px.violin(mob_df8, y=\"total_mobility_outside\", x='year', box=True, color='year',# draw box plot inside the violin\n",
    "                points='all', # can be 'all', 'outliers', or False\n",
    "                title=\"Violin Plot of Quantiles of Total Mobility (excluding same county) per year - 2010-2019\", hover_data=['name'],\n",
    "                labels={col:col.replace('_', ' ') for col in mob_df8.columns}) # remove underscore\n",
    "fig.show()"
   ]
  },
  {
   "cell_type": "code",
   "execution_count": null,
   "id": "942d2cbe",
   "metadata": {},
   "outputs": [],
   "source": [
    "#Plotly Box Plot of Total Mobility (including same county) by year with outliers - 2010-2019\n",
    "\n",
    "mob_df9 = geo_mobility.reset_index()\n",
    "fig = px.box(mob_df9, x='year', y='total_mobility_all', points='all', # can be 'all', 'outliers', or False\n",
    "             title=\"Box Plot of Total Mobility (including same county) by year with outliers - 2010-2019\", hover_data=mob_df9.columns,\n",
    "             labels={col:col.replace('_', ' ') for col in mob_df9.columns}) # remove underscore\n",
    "fig.show()"
   ]
  },
  {
   "cell_type": "code",
   "execution_count": null,
   "id": "4a7bf488",
   "metadata": {},
   "outputs": [],
   "source": [
    "#Plotly Box Plot of Total Mobility (excluding same county) by year with outliers - 2010-2019\n",
    "\n",
    "mob_df9 = geo_mobility.reset_index()\n",
    "fig = px.box(mob_df9, x='year', y='total_mobility_outside', points='all', # can be 'all', 'outliers', or False\n",
    "             title=\"Box Plot of Total Mobility (excluding same county) by year with outliers - 2010-2019\", hover_data=mob_df9.columns,\n",
    "             labels={col:col.replace('_', ' ') for col in mob_df9.columns}) # remove underscore\n",
    "fig.show()"
   ]
  },
  {
   "cell_type": "code",
   "execution_count": null,
   "id": "4bac8273",
   "metadata": {},
   "outputs": [],
   "source": [
    "#Plotly scatterplot of Ordinary Least Squares regression trendline of total mobility by year (including same county) for each city. \n",
    "#Hovering over the trendline will show the equation of the line and its R-squared value.\n",
    "\n",
    "mob_df12 = geo_mobility.reset_index()\n",
    "fig = px.scatter(mob_df12, x=\"year\", y=\"total_mobility_all\", trendline=\"ols\", \n",
    "                 title=\"Scatterplot of OLS trendline of Total Mobility (including same county) by year - 2010-2019\",\n",
    "                 hover_data=['total_year','name'],\n",
    "                labels={col:col.replace('_', ' ') for col in mob_df12.columns}) # remove underscore\n",
    "fig.show()"
   ]
  },
  {
   "cell_type": "code",
   "execution_count": null,
   "id": "89e7f8a1",
   "metadata": {},
   "outputs": [],
   "source": [
    "#Plotly scatterplot of Ordinary Least Squares regression trendline of total mobility by year (excluding same county) for each city. \n",
    "#Hovering over the trendline will show the equation of the line and its R-squared value.\n",
    "\n",
    "mob_df12 = geo_mobility.reset_index()\n",
    "fig = px.scatter(mob_df12, x=\"year\", y=\"total_mobility_outside\", trendline=\"ols\", \n",
    "                 title=\"Scatterplot of OLS trendline of Total Mobility (excluding same county) by year - 2010-2019\",\n",
    "                 hover_data=['total_year','name'],\n",
    "                labels={col:col.replace('_', ' ') for col in mob_df12.columns}) # remove underscore\n",
    "fig.show()"
   ]
  },
  {
   "cell_type": "code",
   "execution_count": null,
   "id": "da6642af",
   "metadata": {},
   "outputs": [],
   "source": [
    "#Plotly scatterplot of LOWESS regression trendline of total mobility by year (including same county) for each city.  \n",
    "#Hovering over the trendline will show the equation of the line and its R-squared value.\n",
    "#No visible changes in comparison to the OLS scatterplot\n",
    "\n",
    "mob_df12 = geo_mobility.reset_index()\n",
    "fig = px.scatter(mob_df12, x=\"year\", y=\"total_mobility_all\", trendline=\"lowess\", \n",
    "                 title=\"Scatterplot of LOWESS trendline of Total Mobility (including same county) by year - 2010-2019\",\n",
    "                 hover_data=['total_year','name'],\n",
    "                labels={col:col.replace('_', ' ') for col in mob_df12.columns}) # remove underscore\n",
    "fig.show()"
   ]
  },
  {
   "cell_type": "code",
   "execution_count": null,
   "id": "8978ec84",
   "metadata": {
    "scrolled": true
   },
   "outputs": [],
   "source": [
    "#Plotly scatterplot of LOWESS regression trendline of total mobility by year (excluding same county) for each city.  \n",
    "#Hovering over the trendline will show the equation of the line and its R-squared value.\n",
    "#No visible changes in comparison to the OLS scatterplot\n",
    "\n",
    "mob_df12 = geo_mobility.reset_index()\n",
    "fig = px.scatter(mob_df12, x=\"year\", y=\"total_mobility_outside\", trendline=\"lowess\", \n",
    "                 title=\"Scatterplot of LOWESS trendline of Total Mobility (excluding same county) by year - 2010-2019\",\n",
    "                 hover_data=['total_year','name'],\n",
    "                labels={col:col.replace('_', ' ') for col in mob_df12.columns}) # remove underscore\n",
    "fig.show()"
   ]
  },
  {
   "cell_type": "code",
   "execution_count": null,
   "id": "4313c0bc",
   "metadata": {},
   "outputs": [],
   "source": [
    "print(geo_mobility.corr().loc['year', 'total_mobility_all'])"
   ]
  },
  {
   "cell_type": "code",
   "execution_count": null,
   "id": "a9071a2f",
   "metadata": {},
   "outputs": [],
   "source": [
    "print(geo_mobility.corr().loc['year', 'total_mobility_outside'])"
   ]
  },
  {
   "cell_type": "markdown",
   "id": "fed1f5fa",
   "metadata": {},
   "source": [
    "# CORRELATION: Business Dynamics Growth / Geographic Mobility"
   ]
  },
  {
   "cell_type": "code",
   "execution_count": null,
   "id": "081349d2",
   "metadata": {},
   "outputs": [],
   "source": [
    "#Merge business_dynamics and geo_mobility datasets for visualization of possible correlations\n",
    "bgrowth_geomob = pd.merge(business_dynamics, geo_mobility, on=['name','year'])\n",
    "bgrowth_geomob"
   ]
  },
  {
   "cell_type": "code",
   "execution_count": null,
   "id": "95d8f1cb",
   "metadata": {},
   "outputs": [],
   "source": [
    "#pandas-profiling html analytics report for Business Dynamics & Geo Mobility dataset\n",
    "\n",
    "pandas_profiling.ProfileReport(bgrowth_geomob) "
   ]
  },
  {
   "cell_type": "code",
   "execution_count": null,
   "id": "dd948ceb",
   "metadata": {},
   "outputs": [],
   "source": [
    "#DO NOT RERUN CELLS BELOW - already downloaded to html file in Sweetviz folder\n",
    "#UNLESS a new report is needed.\n",
    "#creating df for sweetviz analytics report focused on 'percent change' and 'total mobility'\n",
    "\n",
    "#df = bgrowth_geomob\n",
    "#my_report  = sweetviz.analyze([df,'percent_change'], target_feat='total_mobility')\n",
    "#my_report.show_html('bgrowth_geomob_FinalReport.html')"
   ]
  },
  {
   "cell_type": "markdown",
   "id": "54838bde",
   "metadata": {},
   "source": [
    "<b>The Pearson numerical association between total mobility and percent change is 0.11.</b>"
   ]
  },
  {
   "cell_type": "code",
   "execution_count": null,
   "id": "c830f1ce",
   "metadata": {},
   "outputs": [],
   "source": [
    "bgrowth_geomob.dtypes"
   ]
  },
  {
   "cell_type": "code",
   "execution_count": null,
   "id": "7acf60eb",
   "metadata": {},
   "outputs": [],
   "source": [
    "#dropping unnecessary columns\n",
    "bgrowth_geomob_c = bgrowth_geomob.drop(columns=['firms', 'emp', 'estab',])\n",
    "bgrowth_geomob_c "
   ]
  },
  {
   "cell_type": "code",
   "execution_count": null,
   "id": "3788b412",
   "metadata": {
    "scrolled": true
   },
   "outputs": [],
   "source": [
    "#initial calculation and visualization of monotonic relationship between\n",
    "#business dynamics/growth % and total mobility using Spearman correlation coefficient\n",
    "bgrowth_geomob_c.corr('spearman').style.background_gradient(cmap=\"Blues\")"
   ]
  },
  {
   "cell_type": "markdown",
   "id": "768ce595",
   "metadata": {},
   "source": [
    "<b>The Spearman correlation score between percent change in active establishments YoY and total mobility of residents is 0.120670. <br>\n",
    "The association between the two variables is positive however weak.</b>"
   ]
  },
  {
   "cell_type": "code",
   "execution_count": null,
   "id": "2f6caab4",
   "metadata": {},
   "outputs": [],
   "source": [
    "#initial calculation and visualization of possible linear relationship between\n",
    "#business dynamics/growth % and total mobility using Pearson correlation coefficient to summarize its strength \n",
    "bgrowth_geomob_c.corr().style.background_gradient(cmap=\"Blues\")"
   ]
  },
  {
   "cell_type": "markdown",
   "id": "7e20c588",
   "metadata": {},
   "source": [
    "<b>The linear correlation score between percent change in active establishments YoY and total mobility of residents is  0.105691.<br>\n",
    "The association between the two variables is positive however weak.</b>"
   ]
  },
  {
   "cell_type": "code",
   "execution_count": null,
   "id": "f58ad9fb",
   "metadata": {},
   "outputs": [],
   "source": [
    "#Pearson correlation coefficient score between 'percent_change', 'total_mobility_all' (including same county)\n",
    "\n",
    "print(bgrowth_geomob_c.corr().loc['percent_change', 'total_mobility_all'])"
   ]
  },
  {
   "cell_type": "code",
   "execution_count": null,
   "id": "d3984176",
   "metadata": {},
   "outputs": [],
   "source": [
    "#Pearson correlation coefficient score between 'percent_change', 'total_mobility_outside' (excluding same county)\n",
    "print(bgrowth_geomob_c.corr().loc['percent_change', 'total_mobility_outside'])"
   ]
  },
  {
   "cell_type": "code",
   "execution_count": null,
   "id": "135b50ee",
   "metadata": {},
   "outputs": [],
   "source": [
    "#Seaborn Bar graph of total mobility for each city per year in comparison to percentage change of business growth per year.\n",
    "\n",
    "bgrowth_geomob1 = sns.FacetGrid(bgrowth_geomob_c, col='name', col_wrap=2, height=5, aspect=2, sharex\n",
    "                                      =False, margin_titles=True)\n",
    "bgrowth_geomob1.map_dataframe(sns.barplot,x='total_mobility_all', y = 'percent_change').set(xlabel='Total mobility per city', \n",
    "                                                ylabel='Business Growth % YoY')"
   ]
  },
  {
   "cell_type": "code",
   "execution_count": null,
   "id": "790cc9c5",
   "metadata": {
    "scrolled": false
   },
   "outputs": [],
   "source": [
    "#Plotly Bar graph of total mobility (including same county) for each city per year in comparison to percentage change of business growth per year.\n",
    "\n",
    "bgrowth_geomob2 = bgrowth_geomob_c.reset_index()\n",
    "\n",
    "fig = px.bar(bgrowth_geomob2, x='total_mobility_all', y='percent_change', color='name', \n",
    "             title=\"Bar graph of total mobility (including same county) per year in comparison to % change of business growth per year - 2010-2019\",\n",
    "             labels={col:col.replace('_', ' ') for col in bgrowth_geomob2.columns}) # remove underscore\n",
    "fig.show()"
   ]
  },
  {
   "cell_type": "code",
   "execution_count": null,
   "id": "c0027e06",
   "metadata": {},
   "outputs": [],
   "source": [
    "#Plotly Bar graph of total mobility (excluding same county) for each city per year in comparison to percentage change of business growth per year.\n",
    "\n",
    "bgrowth_geomob2 = bgrowth_geomob_c.reset_index()\n",
    "\n",
    "fig = px.bar(bgrowth_geomob2, x='total_mobility_outside', y='percent_change', color='name', \n",
    "             title=\"Bar graph of total mobility (excluding same county) per year in comparison to % change of business growth per year - 2010-2019\",\n",
    "             labels={col:col.replace('_', ' ') for col in bgrowth_geomob2.columns}) # remove underscore\n",
    "fig.show()"
   ]
  },
  {
   "cell_type": "code",
   "execution_count": null,
   "id": "3b5b84aa",
   "metadata": {},
   "outputs": [],
   "source": [
    "#Plotyly Scatterplot of total mobility (including same county) for each city per year in comparison to percentage change of business growth per year.\n",
    "\n",
    "bgrowth_geomob3 = bgrowth_geomob_c.reset_index()\n",
    "fig = px.scatter(bgrowth_geomob3, x='total_mobility_all', y='percent_change', color='name', symbol='name', #marginal_y=\"rug\", \n",
    "                 title='Scatterplot of total mobility (including same county) per year in comparison to % change of business growth per year - 2010-2019',\n",
    "                 labels={col:col.replace('_', ' ') for col in bgrowth_geomob3.columns}) # remove underscore\n",
    "fig.show()"
   ]
  },
  {
   "cell_type": "code",
   "execution_count": null,
   "id": "955a1d6f",
   "metadata": {},
   "outputs": [],
   "source": [
    "#Plotyly Scatterplot of total mobility (excluding same county) for each city per year in comparison to percentage change of business growth per year.\n",
    "\n",
    "bgrowth_geomob3 = bgrowth_geomob_c.reset_index()\n",
    "fig = px.scatter(bgrowth_geomob3, x='total_mobility_outside', y='percent_change', color='name', symbol='name', #marginal_y=\"rug\", \n",
    "                 title='Scatterplot of total mobility (excluding same county) per year in comparison to % change of business growth per year - 2010-2019',\n",
    "                 labels={col:col.replace('_', ' ') for col in bgrowth_geomob3.columns}) # remove underscore\n",
    "fig.show()"
   ]
  },
  {
   "cell_type": "code",
   "execution_count": null,
   "id": "b2cd42c6",
   "metadata": {},
   "outputs": [],
   "source": [
    "#Plotly Histogram of total mobility (including same county) for each city per year in comparison to percentage change of business growth per year.\n",
    "bgrowth_geomob4 = bgrowth_geomob_c.reset_index()\n",
    "fig = px.histogram(bgrowth_geomob4, x='total_mobility_all', y='percent_change', color='name', \n",
    "                title='Histogram of sum of total mobility (including same county)  per year in comparison to % change of business growth per year - 2010-2019', \n",
    "                barmode = 'stack', #barmode options for px.histograms: 'stack', 'group', or 'overlay'\n",
    "                barnorm = None, #barnorm options for px.histogram: None, 'fraction', or 'percent'\n",
    "                hover_data = ['percent_change', 'total_mobility_all'],\n",
    "                #animation_frame=\"name\",\n",
    "                #range_x=[0,df4[\"percent_change\"].max()*1.1],\n",
    "                #histfunc = 'count', #histfunc options for px.histograms: 'count', 'sum', 'avg', 'max', or 'min'\n",
    "                facet_col = 'name', facet_col_wrap=3, facet_row_spacing=0.08,\n",
    "                labels={col:col.replace('_', ' ') for col in bgrowth_geomob4.columns}) # remove underscore\n",
    "\n",
    "#fig.update_xaxes(type='category')\n",
    "                   \n",
    "fig.show()"
   ]
  },
  {
   "cell_type": "code",
   "execution_count": null,
   "id": "a94b0d28",
   "metadata": {},
   "outputs": [],
   "source": [
    "#Plotly Histogram of total mobility (excluding same county) for each city per year in comparison to percentage change of business growth per year.\n",
    "bgrowth_geomob4 = bgrowth_geomob_c.reset_index()\n",
    "fig = px.histogram(bgrowth_geomob4, x='total_mobility_outside', y='percent_change', color='name', \n",
    "                title='Histogram of sum of total mobility (excluding same county)  per year in comparison to % change of business growth per year - 2010-2019', \n",
    "                barmode = 'stack', #barmode options for px.histograms: 'stack', 'group', or 'overlay'\n",
    "                barnorm = None, #barnorm options for px.histogram: None, 'fraction', or 'percent'\n",
    "                hover_data = ['percent_change', 'total_mobility_outside'],\n",
    "                #animation_frame=\"name\",\n",
    "                #range_x=[0,df4[\"percent_change\"].max()*1.1],\n",
    "                #histfunc = 'count', #histfunc options for px.histograms: 'count', 'sum', 'avg', 'max', or 'min'\n",
    "                facet_col = 'name', facet_col_wrap=3, facet_row_spacing=0.08,\n",
    "                labels={col:col.replace('_', ' ') for col in bgrowth_geomob4.columns}) # remove underscore\n",
    "\n",
    "#fig.update_xaxes(type='category')\n",
    "                   \n",
    "fig.show()"
   ]
  },
  {
   "cell_type": "code",
   "execution_count": null,
   "id": "da3a5383",
   "metadata": {},
   "outputs": [],
   "source": [
    "#Plotly Histogram of sum of total mobility (including same county) for each city per year in comparison to percentage change of business growth per year.\n",
    "bgrowth_geomob4 = bgrowth_geomob_c.reset_index()\n",
    "fig = px.histogram(bgrowth_geomob4, x='total_mobility_all', y='percent_change', color='name', \n",
    "                title='Histogram of sum of total mobility (including same county) per year in comparison to % change of business growth per year - 2010-2019', \n",
    "                barmode = 'group', #barmode options for px.histograms: 'stack', 'group', or 'overlay'\n",
    "                barnorm = None, #barnorm options for px.histogram: None, 'fraction', or 'percent'\n",
    "                hover_data = ['percent_change', 'total_mobility_all'],\n",
    "                #animation_frame=\"name\",\n",
    "                #range_x=[0,df4[\"percent_change\"].max()*1.1],\n",
    "                #histfunc = 'count', #histfunc options for px.histograms: 'count', 'sum', 'avg', 'max', or 'min'\n",
    "                facet_col = 'name', facet_col_wrap=3, facet_row_spacing=0.08,\n",
    "                labels={col:col.replace('_', ' ') for col in bgrowth_geomob4.columns}) # remove underscore\n",
    "\n",
    "#fig.update_xaxes(type='category')\n",
    "                   \n",
    "fig.show()"
   ]
  },
  {
   "cell_type": "code",
   "execution_count": null,
   "id": "80601748",
   "metadata": {},
   "outputs": [],
   "source": [
    "#Plotly Histogram of sum of total mobility (excluding same county) for each city per year in comparison to percentage change of business growth per year.\n",
    "bgrowth_geomob4 = bgrowth_geomob_c.reset_index()\n",
    "fig = px.histogram(bgrowth_geomob4, x='total_mobility_outside', y='percent_change', color='name', \n",
    "                title='Histogram of sum of total mobility (excluding same county) per year in comparison to % change of business growth per year - 2010-2019', \n",
    "                barmode = 'group', #barmode options for px.histograms: 'stack', 'group', or 'overlay'\n",
    "                barnorm = None, #barnorm options for px.histogram: None, 'fraction', or 'percent'\n",
    "                hover_data = ['percent_change', 'total_mobility_outside'],\n",
    "                #animation_frame=\"name\",\n",
    "                #range_x=[0,df4[\"percent_change\"].max()*1.1],\n",
    "                #histfunc = 'count', #histfunc options for px.histograms: 'count', 'sum', 'avg', 'max', or 'min'\n",
    "                facet_col = 'name', facet_col_wrap=3, facet_row_spacing=0.08,\n",
    "                labels={col:col.replace('_', ' ') for col in bgrowth_geomob4.columns}) # remove underscore\n",
    "\n",
    "#fig.update_xaxes(type='category')\n",
    "                   \n",
    "fig.show()"
   ]
  },
  {
   "cell_type": "code",
   "execution_count": null,
   "id": "a2dfcf70",
   "metadata": {
    "scrolled": true
   },
   "outputs": [],
   "source": [
    "#Plotly Box plot of total mobility (including same county) for each city in comparison to % change of business growth per year.\n",
    "bgrowth_geomob5 = bgrowth_geomob_c.reset_index()\n",
    "fig = px.box(bgrowth_geomob5, x='total_mobility_all', y='percent_change', points='outliers', # can be 'all', 'outliers', or False\n",
    "             title=\"Box Plot of total mobility (including same county) for each city in comparison to % change of business growth per year. - 2010-2019\", hover_data=bgrowth_geomob5.columns,\n",
    "             labels={col:col.replace('_', ' ') for col in bgrowth_geomob5.columns}) # remove underscore\n",
    "fig.show()"
   ]
  },
  {
   "cell_type": "code",
   "execution_count": null,
   "id": "95aecbe1",
   "metadata": {
    "scrolled": true
   },
   "outputs": [],
   "source": [
    "#Plotly Box plot of total mobility (excluding same county) for each city per year in comparison to percentage change of business growth per year.\n",
    "bgrowth_geomob5 = bgrowth_geomob_c.reset_index()\n",
    "fig = px.box(bgrowth_geomob5, x='total_mobility_outside', y='percent_change', points='outliers', # can be 'all', 'outliers', or False\n",
    "             title=\"Box Plot of total mobility (excluding same county) for each city in comparison to % change of business growth per year. - 2010-2019\", hover_data=bgrowth_geomob5.columns,\n",
    "             labels={col:col.replace('_', ' ') for col in bgrowth_geomob5.columns}) # remove underscore\n",
    "fig.show()"
   ]
  },
  {
   "cell_type": "code",
   "execution_count": null,
   "id": "3d5495ea",
   "metadata": {
    "scrolled": true
   },
   "outputs": [],
   "source": [
    "#Plotly scatterplot of Ordinary Least Squares regression trendline of total mobility by year (including same county) \n",
    "#for each city in comparison to percentage change of business growth per year.. \n",
    "#Hovering over the trendline will show the equation of the line and its R-squared value.\n",
    "\n",
    "bgrowth_geomob6 = bgrowth_geomob_c.reset_index()\n",
    "fig = px.scatter(bgrowth_geomob6, x='total_mobility_all', y='percent_change', trendline=\"ols\", \n",
    "                 title=\"Scatterplot of OLS trendline of Total Mobility (including same county) by year - 2010-2019\",\n",
    "                 hover_data=['total_year','name'],\n",
    "                labels={col:col.replace('_', ' ') for col in bgrowth_geomob6.columns}) # remove underscore\n",
    "fig.show()"
   ]
  },
  {
   "cell_type": "code",
   "execution_count": null,
   "id": "e7e8a9c8",
   "metadata": {
    "scrolled": true
   },
   "outputs": [],
   "source": [
    "#Plotly scatterplot of Ordinary Least Squares regression trendline of total mobility by year (excluding same county) \n",
    "#for each city in comparison to percentage change of business growth per year.. \n",
    "#Hovering over the trendline will show the equation of the line and its R-squared value.\n",
    "\n",
    "bgrowth_geomob6 = bgrowth_geomob_c.reset_index()\n",
    "fig = px.scatter(bgrowth_geomob6, x='total_mobility_outside', y='percent_change', trendline=\"ols\", \n",
    "                 title=\"Scatterplot of OLS trendline of Total Mobility (excluding same county) by year - 2010-2019\",\n",
    "                 hover_data=['total_year','name'],\n",
    "                labels={col:col.replace('_', ' ') for col in bgrowth_geomob6.columns}) # remove underscore\n",
    "fig.show()"
   ]
  },
  {
   "cell_type": "code",
   "execution_count": null,
   "id": "f378e882",
   "metadata": {},
   "outputs": [],
   "source": [
    "bgrowth_geomob.dtypes"
   ]
  },
  {
   "cell_type": "code",
   "execution_count": null,
   "id": "45bdec06",
   "metadata": {},
   "outputs": [],
   "source": [
    "# Scatter with best fit line \n",
    "sns.regplot(x='percent_change', y='total_mobility_all',data=bgrowth_geomob, fit_reg=True)\n",
    "plt.show()"
   ]
  },
  {
   "cell_type": "code",
   "execution_count": null,
   "id": "26e844aa",
   "metadata": {
    "scrolled": false
   },
   "outputs": [],
   "source": [
    "print(bgrowth_geomob.corr().loc['percent_change', 'total_mobility_all'])"
   ]
  },
  {
   "cell_type": "code",
   "execution_count": null,
   "id": "1423a6fd",
   "metadata": {},
   "outputs": [],
   "source": [
    "print(bgrowth_geomob.corr().loc['percent_change', 'total_mobility_outside'])"
   ]
  },
  {
   "cell_type": "code",
   "execution_count": null,
   "id": "d08c1aec",
   "metadata": {},
   "outputs": [],
   "source": [
    "print(bgrowth_geomob.corr().loc['estab_change', 'total_mobility_all'])"
   ]
  },
  {
   "cell_type": "code",
   "execution_count": null,
   "id": "6aa1f533",
   "metadata": {},
   "outputs": [],
   "source": [
    "print(bgrowth_geomob.corr().loc['estab_change', 'total_mobility_outside'])"
   ]
  },
  {
   "cell_type": "markdown",
   "id": "9029ce6a",
   "metadata": {},
   "source": [
    "# One-Dimensional Distribution: Unemployment"
   ]
  },
  {
   "cell_type": "markdown",
   "id": "82601208",
   "metadata": {},
   "source": [
    "Annual employment data collected by the US Census, for 2010-2019. Includes breakdown by demographic categories and specifically unemployment rate, which is what I'll will be using for further analysis and modeling.\n"
   ]
  },
  {
   "cell_type": "code",
   "execution_count": null,
   "id": "8a797915",
   "metadata": {},
   "outputs": [],
   "source": [
    "#Read unemployment dataset, drop columns \n",
    "with open('data/unemployment.csv') as f:\n",
    "    unemployment = pd.read_csv(f).drop(columns=['city_state']) #.sort_values(by='year', ascending=False)\n",
    "    \n",
    "unemployment"
   ]
  },
  {
   "cell_type": "code",
   "execution_count": null,
   "id": "56897cd6",
   "metadata": {
    "scrolled": true
   },
   "outputs": [],
   "source": [
    "#creating a separate df specific for pandas-profiling html analytics report for 'unemployment'\n",
    "\n",
    "df = pd.read_csv('data/unemployment.csv')\n",
    "pandas_profiling.ProfileReport(df)"
   ]
  },
  {
   "cell_type": "code",
   "execution_count": null,
   "id": "8bef5e4b",
   "metadata": {},
   "outputs": [],
   "source": [
    "#Plotly Bar graph of unemployment rate by year - 2010-2019. Estimate population 1 year and over\n",
    "\n",
    "unemp_df1 = unemployment.reset_index()\n",
    "\n",
    "fig = px.bar(unemp_df1, y='unemployment_rate', x=\"year\", color='name', \n",
    "             title=\"Bar Plot of unemployment rate by year - 2010-2019\",\n",
    "             labels={col:col.replace('_', ' ') for col in unemp_df1.columns}) # remove underscore\n",
    "fig.show()"
   ]
  },
  {
   "cell_type": "code",
   "execution_count": null,
   "id": "b0cae30f",
   "metadata": {},
   "outputs": [],
   "source": [
    "#Plotly Line plot of unemployment rate by year - 2010-2019. Estimate population 1 year and over\n",
    "\n",
    "unemp_df2 = unemployment.reset_index()\n",
    "fig = px.line(unemp_df2, x=\"year\", y='unemployment_rate', color='name', \n",
    "              title='Line Plot of unemployment rate by year - 2010-2019',\n",
    "              labels={col:col.replace('_', ' ') for col in unemp_df2.columns}) # remove underscore\n",
    "fig.show()"
   ]
  },
  {
   "cell_type": "code",
   "execution_count": null,
   "id": "3b001d4d",
   "metadata": {},
   "outputs": [],
   "source": [
    "#Plotly Scatterplot of unemployment rate by year - 2010-2019. Estimate population 1 year and over\n",
    "\n",
    "unemp_df3 = unemployment.reset_index()\n",
    "fig = px.scatter(unemp_df3, x=\"year\", y='unemployment_rate', color='name',\n",
    "                 symbol='name', #marginal_y=\"rug\", \n",
    "                 title='Scatterplot of unemployment rate by year - 2010-2019',\n",
    "                 labels={col:col.replace('_', ' ') for col in unemp_df3.columns}) # remove underscore\n",
    "fig.show()"
   ]
  },
  {
   "cell_type": "code",
   "execution_count": null,
   "id": "107d4e41",
   "metadata": {},
   "outputs": [],
   "source": [
    "#Plotly Scatterplot of unemployment rate by city per year - 2010-2019. Estimate population 1 year and over\n",
    "\n",
    "unemp_df3 = unemployment.reset_index()\n",
    "fig = px.scatter(unemp_df3, x='name', y='unemployment_rate', color='year',\n",
    "                 #symbol='year', #marginal_y=\"rug\", \n",
    "                 title='Scatterplot of unemployment rate by city per year - 2010-2019',\n",
    "                 labels={col:col.replace('_', ' ') for col in unemp_df3.columns}) # remove underscore\n",
    "fig.show()"
   ]
  },
  {
   "cell_type": "code",
   "execution_count": null,
   "id": "c2d18c8a",
   "metadata": {},
   "outputs": [],
   "source": [
    "#Plotly Histogram of unemployment rate by city per year - 2010-2019. Estimate population 1 year and over\n",
    "unemp_df4 = unemployment.reset_index()\n",
    "fig = px.histogram(unemp_df4, x='name', y='unemployment_rate', color='year', \n",
    "                title=\"Histogram of Total Mobility by Year - 2010-2019\", \n",
    "                barmode = 'stack', #barmode options for px.histograms: 'stack', 'group', or 'overlay'\n",
    "                barnorm = None, #barnorm options for px.histogram: None, 'fraction', or 'percent'\n",
    "                hover_data = unemp_df4.columns,\n",
    "                #animation_frame=\"name\",\n",
    "                #range_x=[0,df4[\"percent_change\"].max()*1.1],\n",
    "                #histfunc = 'count', #histfunc options for px.histograms: 'count', 'sum', 'avg', 'max', or 'min'\n",
    "                facet_col = 'name', facet_col_wrap=3, facet_row_spacing=0.08,\n",
    "                labels={col:col.replace('_', ' ') for col in unemp_df4.columns}) # remove underscore\n",
    "\n",
    "#fig.update_xaxes(type='category')\n",
    "                   \n",
    "fig.show()"
   ]
  },
  {
   "cell_type": "code",
   "execution_count": null,
   "id": "99c0e056",
   "metadata": {},
   "outputs": [],
   "source": [
    "#Plotly Violin Plot of unemployment rate by city per year - 2010-2019. Estimate population 1 year and over\n",
    "unemp_df6 = unemployment.reset_index()\n",
    "fig = px.violin(unemp_df6, x='year', y='unemployment_rate', color='year',\n",
    "                points='all', # can be 'all', 'outliers', or False\n",
    "                title=\"Violin Plot of unemployment rate by city per year with outlier- 2010-2019\", hover_data=unemp_df6.columns,\n",
    "                labels={col:col.replace('_', ' ') for col in unemp_df6.columns}) # remove underscore\n",
    "fig.show()"
   ]
  },
  {
   "cell_type": "code",
   "execution_count": null,
   "id": "caba4461",
   "metadata": {},
   "outputs": [],
   "source": [
    "#Plotly Violin Plot of unemployment rate by city per year - 2010-2019. Estimate population 1 year and over\n",
    "unemp_df7 = unemployment.reset_index()\n",
    "fig = px.violin(unemp_df7, x='year', y='unemployment_rate', color='name',\n",
    "                points='all', # can be 'all', 'outliers', or False\n",
    "                title=\"Violin Plot of unemployment rate by city per year - 2010-2019\", hover_data=unemp_df7.columns,\n",
    "                labels={col:col.replace('_', ' ') for col in unemp_df7.columns}) # remove underscore\n",
    "fig.show()"
   ]
  },
  {
   "cell_type": "markdown",
   "id": "d274121f",
   "metadata": {},
   "source": [
    "# CORRELATION: Business Dynamics Growth / Unemployment"
   ]
  },
  {
   "cell_type": "code",
   "execution_count": null,
   "id": "43430902",
   "metadata": {
    "scrolled": true
   },
   "outputs": [],
   "source": [
    "#Merge business_dynamics and unemployment datasets for visualization of possible correlations\n",
    "bgrowth_unemp = pd.merge(business_dynamics, unemployment, on=['name','year']) #.drop(columns=['firms','estab'])\n",
    "bgrowth_unemp"
   ]
  },
  {
   "cell_type": "code",
   "execution_count": null,
   "id": "81d55af4",
   "metadata": {
    "scrolled": false
   },
   "outputs": [],
   "source": [
    "bgrowth_unemp.dtypes"
   ]
  },
  {
   "cell_type": "code",
   "execution_count": null,
   "id": "e71dd4e4",
   "metadata": {
    "scrolled": false
   },
   "outputs": [],
   "source": [
    "#creating pandas-profiling html analytics report for 'business dynamics' and unemployment'\n",
    "\n",
    "pandas_profiling.ProfileReport(bgrowth_unemp)"
   ]
  },
  {
   "cell_type": "code",
   "execution_count": null,
   "id": "4e815f91",
   "metadata": {},
   "outputs": [],
   "source": [
    "#DO NOT RERUN CELLS BELOW - as report is already downloaded to html file in Sweetviz folder\n",
    "#UNLESS a new report is needed.\n",
    "#select a df column to analyze against target for sweetviz analytics report \n",
    "\n",
    "#df = bgrowth_unemp\n",
    "#my_report  = sweetviz.analyze([df,'estab_change'], target_feat='unemployment_rate')\n",
    "#my_report.show_html('bgrowth_estab_change_unemp_FinalReport.html')"
   ]
  },
  {
   "cell_type": "code",
   "execution_count": null,
   "id": "68a0ba93",
   "metadata": {
    "scrolled": true
   },
   "outputs": [],
   "source": [
    "#initial calculation and visualization of monotonic relationship between\n",
    "#business dynamics/growth % and unemployment using Spearman correlation coefficient\n",
    "bgrowth_unemp.corr('spearman').style.background_gradient(cmap=\"Blues\")"
   ]
  },
  {
   "cell_type": "code",
   "execution_count": null,
   "id": "54ad2151",
   "metadata": {
    "scrolled": true
   },
   "outputs": [],
   "source": [
    "#initial calculation and visualization of possible linear relationship between\n",
    "#business dynamics/growth % and total mobility using Pearson correlation coefficient to summarize its strength \n",
    "bgrowth_unemp.corr().style.background_gradient(cmap=\"Blues\")"
   ]
  },
  {
   "cell_type": "code",
   "execution_count": null,
   "id": "2c352219",
   "metadata": {},
   "outputs": [],
   "source": [
    "#Plotly Bar graph of unemployment for each city per year in comparison to percentage change of business growth per year.\n",
    "\n",
    "bgrowth_unemp2 = bgrowth_unemp#.reset_index()\n",
    "\n",
    "fig = px.bar(bgrowth_unemp2, x='unemployment_rate', y='percent_change', color='year', \n",
    "             title=\"Bar graph of unemployment rate per year in comparison to % change of business growth per year - 2010-2019\",\n",
    "             labels={col:col.replace('_', ' ') for col in bgrowth_unemp2.columns}) # remove underscore\n",
    "fig.show()"
   ]
  },
  {
   "cell_type": "code",
   "execution_count": null,
   "id": "9c249fbc",
   "metadata": {
    "scrolled": false
   },
   "outputs": [],
   "source": [
    "#Plotly Scatterplot of unemployment for each city per year in comparison to percentage change of business growth per year.\n",
    "\n",
    "bgrowth_unemp3 = bgrowth_unemp.reset_index()\n",
    "fig = px.scatter(bgrowth_unemp3, x='unemployment_rate', y='percent_change', color='name', symbol='name', #marginal_y=\"rug\", \n",
    "                 title='Scatterplot of unemployment rate per year in comparison to % change of business growth per year - 2010-2019',\n",
    "                 labels={col:col.replace('_', ' ') for col in bgrowth_unemp3.columns}) # remove underscore\n",
    "fig.show()"
   ]
  },
  {
   "cell_type": "code",
   "execution_count": null,
   "id": "97aaa864",
   "metadata": {},
   "outputs": [],
   "source": [
    "#Plotly Histogram of unemployment for each city per year in comparison to percentage change of business growth per year.\n",
    "\n",
    "bgrowth_unemp4 = bgrowth_unemp.reset_index()\n",
    "fig = px.histogram(bgrowth_unemp4, x='unemployment_rate', y='percent_change', color='name', \n",
    "                title='Histogram of unemployment rate per year in comparison to % change of business growth per year - 2010-2019', \n",
    "                barmode = 'stack', #barmode options for px.histograms: 'stack', 'group', or 'overlay'\n",
    "                barnorm = None, #barnorm options for px.histogram: None, 'fraction', or 'percent'\n",
    "                hover_data = ['percent_change', 'unemployment_rate'],\n",
    "                #animation_frame=\"name\",\n",
    "                #range_x=[0,df4[\"percent_change\"].max()*1.1],\n",
    "                #histfunc = 'count', #histfunc options for px.histograms: 'count', 'sum', 'avg', 'max', or 'min'\n",
    "                facet_col = 'name', facet_col_wrap=3, facet_row_spacing=0.08,\n",
    "                labels={col:col.replace('_', ' ') for col in bgrowth_unemp4.columns}) # remove underscore\n",
    "\n",
    "#fig.update_xaxes(type='category')\n",
    "                   \n",
    "fig.show()"
   ]
  },
  {
   "cell_type": "code",
   "execution_count": null,
   "id": "3d3365f0",
   "metadata": {},
   "outputs": [],
   "source": [
    "#Plotly line graph of Unemployment Rate in correlation to Business Growth %\n",
    "bgrowth_unemp5 = bgrowth_unemp.reset_index()\n",
    "fig = px.line(bgrowth_unemp5, x=\"unemployment_rate\", y='percent_change', color='name', \n",
    "              title=\"Line Plot of Unemployment Rate in correlation to Business Growth %  - 2010-2019\",\n",
    "              labels={col:col.replace('_', ' ') for col in bgrowth_unemp5.columns}) # remove underscore\n",
    "fig.show()"
   ]
  },
  {
   "cell_type": "code",
   "execution_count": null,
   "id": "74f635f3",
   "metadata": {},
   "outputs": [],
   "source": [
    "#Plotyly Scatter matrix of unemployment for each city per year in comparison to percentage change of business growth per year.\n",
    "bgrowth_unemp6 = bgrowth_unemp.reset_index()\n",
    "fig = px.scatter_matrix(bgrowth_unemp6, dimensions=[\"percent_change\", \"unemployment_rate\"],\n",
    "    color=\"year\", title=\"Scatter Matrix of Business Growth Percent Change and Unemployment Rate by Year\",\n",
    "    labels={col:col.replace('_', ' ') for col in bgrowth_unemp6.columns}) # remove underscore\n",
    "fig.show()"
   ]
  },
  {
   "cell_type": "code",
   "execution_count": null,
   "id": "12160962",
   "metadata": {},
   "outputs": [],
   "source": [
    "#Plotly violin plot of unemployment for each city per year in comparison to percentage change of business growth per year.\n",
    "\n",
    "bgrowth_unemp7 = bgrowth_unemp.reset_index()\n",
    "fig = px.violin(bgrowth_unemp7, y=\"unemployment_rate\", x='percent_change', box=True, color='name',\n",
    "                points='all', # can be 'all', 'outliers', or False\n",
    "                title=\"Violin Plot of unemployment rate for each city per year vs. % change in business growth by City - 2010-2019\",\n",
    "                hover_data=bgrowth_unemp7.columns,\n",
    "                labels={col:col.replace('_', ' ') for col in bgrowth_unemp7.columns}) # remove underscore\n",
    "fig.show()"
   ]
  },
  {
   "cell_type": "code",
   "execution_count": null,
   "id": "a3cbdf7b",
   "metadata": {},
   "outputs": [],
   "source": [
    "#Plotly Violin Plot of unemployment rate for each city per year in comparison to percentage change of business growth per year.\n",
    "bgrowth_unemp8 = bgrowth_unemp.reset_index()\n",
    "fig = px.violin(bgrowth_unemp8, x='percent_change', y='unemployment_rate', box=True, color='year',\n",
    "                points='all', # can be 'all', 'outliers', or False\n",
    "                title=\"Violin Plot of unemployment rate for each city per year vs. % change in business growth by Year\", hover_data=bgrowth_unemp8.columns,\n",
    "                labels={col:col.replace('_', ' ') for col in bgrowth_unemp8.columns}) # remove underscore\n",
    "fig.show()"
   ]
  },
  {
   "cell_type": "code",
   "execution_count": null,
   "id": "dfc3697d",
   "metadata": {
    "scrolled": true
   },
   "outputs": [],
   "source": [
    "bgrowth_unemp9 = bgrowth_unemp.reset_index()\n",
    "fig = px.box(bgrowth_unemp9, x='unemployment_rate', y='percent_change', points='outliers', # can be 'all', 'outliers', or False\n",
    "             title=\"Box Plot of Business Growth % Change vs. Unemployment Rate with outliers - 2010-2019\", hover_data=bgrowth_unemp9.columns,\n",
    "             labels={col:col.replace('_', ' ') for col in bgrowth_unemp9.columns}) # remove underscore\n",
    "fig.show()"
   ]
  },
  {
   "cell_type": "code",
   "execution_count": null,
   "id": "3e871d4d",
   "metadata": {},
   "outputs": [],
   "source": [
    "print(bgrowth_unemp.corr().loc['percent_change', 'unemployment_rate'])"
   ]
  },
  {
   "cell_type": "code",
   "execution_count": null,
   "id": "4343f652",
   "metadata": {},
   "outputs": [],
   "source": [
    "print(bgrowth_unemp.corr().loc['estab_change', 'unemployment_rate'])"
   ]
  },
  {
   "cell_type": "markdown",
   "id": "085728b5",
   "metadata": {},
   "source": [
    "# One-Dimensional Distribution: School Enrollment"
   ]
  },
  {
   "cell_type": "markdown",
   "id": "89092679",
   "metadata": {},
   "source": [
    "Data containing the enrollment numbers of students broken down by two indicators public vs. private school. Even more so enrollment numbers can also be previewed by age group (Age 3 and up, 10 to 14 years), type of school (Kindergarten, Undergraduate) and Grades (Elementary: grade 1 to grade 4 ,etc..). Primarily looking at enrollment numbers for Kindergarten to 12th grade over time to tell us how large the education system is in a city. Additionally enrollment #s in private vs public schools over the years indicates the quality of education in that city.\n"
   ]
  },
  {
   "cell_type": "code",
   "execution_count": null,
   "id": "10b851f6",
   "metadata": {
    "scrolled": false
   },
   "outputs": [],
   "source": [
    "#Read school enrollment dataset, drop columns \n",
    "with open('data/school_enrollment.csv') as f:\n",
    "    enrolled = pd.read_csv(f).drop(columns=['city_state']) #.sort_values(by='year', ascending=False)\n",
    "    enrolled['total_per_pub_pri'] = enrolled['percent_enrolled _Kto12public'] + enrolled['percent_enrolled _Kto12private']\n",
    "enrolled"
   ]
  },
  {
   "cell_type": "code",
   "execution_count": null,
   "id": "0aa1deaa",
   "metadata": {},
   "outputs": [],
   "source": [
    "enrolled.dtypes"
   ]
  },
  {
   "cell_type": "code",
   "execution_count": null,
   "id": "a27675e9",
   "metadata": {
    "scrolled": true
   },
   "outputs": [],
   "source": [
    "#creating pandas-profiling html analytics report for student enrollment in 2010-2019\n",
    "\n",
    "pandas_profiling.ProfileReport(enrolled)"
   ]
  },
  {
   "cell_type": "code",
   "execution_count": null,
   "id": "16c6a9b3",
   "metadata": {
    "scrolled": true
   },
   "outputs": [],
   "source": [
    "#DO NOT RERUN CELLS BELOW - already downloaded to html file in Sweetviz folder\n",
    "#UNLESS a new report is needed.\n",
    "#select a df column to analyze against target for sweetviz analytics report \n",
    "\n",
    "#df = enrolled\n",
    "#my_report  = sweetviz.analyze([df,'name'], target_feat='percent_enrolled _Kto12public')\n",
    "#my_report.show_html('percent_enrolled _Kto12public_by_city_FinalReport.html')"
   ]
  },
  {
   "cell_type": "code",
   "execution_count": null,
   "id": "cf37a11c",
   "metadata": {},
   "outputs": [],
   "source": [
    "#DO NOT RERUN CELLS BELOW - already downloaded to html file in Sweetviz folder\n",
    "#UNLESS a new report is needed.\n",
    "#select a df column to analyze against target for sweetviz analytics report \n",
    "\n",
    "#df = enrolled\n",
    "#my_report  = sweetviz.analyze([df,'name'], target_feat='total_enrolled_Kto12')\n",
    "#my_report.show_html('school_enrollment_city_total_FinalReport.html')"
   ]
  },
  {
   "cell_type": "code",
   "execution_count": null,
   "id": "7b3978ad",
   "metadata": {
    "scrolled": true
   },
   "outputs": [],
   "source": [
    "#Plotly Bar graph of student enrollment % for public schools by year and city - 2010-2019. \n",
    "\n",
    "enrolled_df1 = enrolled.reset_index()\n",
    "\n",
    "fig = px.bar(enrolled_df1, x='percent_enrolled _Kto12public', y='name',  color='year', \n",
    "             title=\"Bar Plot of public K-12 school enrollment by year - 2010-2019\",\n",
    "             labels={col:col.replace('_', ' ') for col in enrolled_df1.columns}) # remove underscore\n",
    "fig.show()"
   ]
  },
  {
   "cell_type": "code",
   "execution_count": null,
   "id": "80d4c067",
   "metadata": {
    "scrolled": true
   },
   "outputs": [],
   "source": [
    "#Plotly line graph of student enrollment % for public schools by year and city - 2010-2019. \n",
    "\n",
    "enrolled_df2 = enrolled.reset_index()\n",
    "fig = px.line(enrolled_df2, x='year', y='percent_enrolled _Kto12public', color='name', \n",
    "              title='Line Plot of public K-12 school enrollment by year - 2010-2019',\n",
    "              labels={col:col.replace('_', ' ') for col in enrolled_df2.columns}) # remove underscore\n",
    "fig.show()"
   ]
  },
  {
   "cell_type": "code",
   "execution_count": null,
   "id": "20340295",
   "metadata": {
    "scrolled": true
   },
   "outputs": [],
   "source": [
    "#Plotly line plot of student enrollment % for public schools by year and city - 2010-2019\n",
    "\n",
    "enrolled_df2 = enrolled.reset_index()\n",
    "fig = px.line(enrolled_df2, x='name', y='percent_enrolled _Kto12public', color='year',\n",
    "                title=\"Line Plot of student enrollment % for public schools by year and city - 2010-2019\", \n",
    "                hover_data=enrolled_df2.columns,\n",
    "                labels={col:col.replace('_', ' ') for col in enrolled_df2.columns}) # remove underscore\n",
    "fig.show()"
   ]
  },
  {
   "cell_type": "markdown",
   "id": "1967ea34",
   "metadata": {},
   "source": [
    "<b>In the bar plot below is visualized the total percentage of student enrollment by city and year identifying which cities have a higher number of students. </b>"
   ]
  },
  {
   "cell_type": "code",
   "execution_count": null,
   "id": "a3f44b77",
   "metadata": {
    "scrolled": false
   },
   "outputs": [],
   "source": [
    "#Plotly Bar graph of total student enrollment % for private schools by year and city - 2010-2019. \n",
    "\n",
    "enrolled_df1 = enrolled.reset_index()\n",
    "\n",
    "fig = px.bar(enrolled_df1, x='total_enrolled_Kto12', y='name',  color='year', \n",
    "             title=\"Bar Plot of total enrolled K-12 by city and year - 2010-2019\",\n",
    "             labels={col:col.replace('_', ' ') for col in enrolled_df1.columns}) # remove underscore\n",
    "fig.show()"
   ]
  },
  {
   "cell_type": "code",
   "execution_count": null,
   "id": "6dbaa5d1",
   "metadata": {
    "scrolled": false
   },
   "outputs": [],
   "source": [
    "#Plotly line graph of student enrollment % for private schools by year and city - 2010-2019. \n",
    "\n",
    "enrolled_df2 = enrolled.reset_index()\n",
    "fig = px.line(enrolled_df2, x='year', y='percent_enrolled _Kto12private', color='name', \n",
    "              title='Line Plot of private K-12 school enrollment by year - 2010-2019',\n",
    "              labels={col:col.replace('_', ' ') for col in enrolled_df2.columns}) # remove underscore\n",
    "fig.show()"
   ]
  },
  {
   "cell_type": "code",
   "execution_count": null,
   "id": "02d4ac68",
   "metadata": {},
   "outputs": [],
   "source": [
    "#Plotly line plot of student enrollment % for private schools by year and city - 2010-2019\n",
    "\n",
    "enrolled_df2 = enrolled.reset_index()\n",
    "fig = px.line(enrolled_df2, x='name', y='percent_enrolled _Kto12private', color='year',\n",
    "                title=\"Line Plot of student enrollment % for private schools by year and city - 2010-2019\", \n",
    "                hover_data=enrolled_df2.columns,\n",
    "                labels={col:col.replace('_', ' ') for col in enrolled_df2.columns}) # remove underscore\n",
    "fig.show()"
   ]
  },
  {
   "cell_type": "code",
   "execution_count": null,
   "id": "0036a340",
   "metadata": {
    "scrolled": false
   },
   "outputs": [],
   "source": [
    "#Plotly Scatterplot of student enrollment % for public schools by year and city - 2010-2019. \n",
    "\n",
    "enrolled_df3 = enrolled.reset_index()\n",
    "fig = px.scatter(enrolled_df3, x=\"year\", y='percent_enrolled _Kto12public', color='name',\n",
    "                 symbol='name', #marginal_y=\"rug\", \n",
    "                 title='Scatterplot of tudent enrollment % for public schools by year and city - 2010-2019',\n",
    "                 labels={col:col.replace('_', ' ') for col in enrolled_df3.columns}) # remove underscore\n",
    "fig.show()"
   ]
  },
  {
   "cell_type": "code",
   "execution_count": null,
   "id": "f5ab5356",
   "metadata": {
    "scrolled": true
   },
   "outputs": [],
   "source": [
    "#Plotly Scatterplot of student enrollment % for private schools by year and city - 2010-2019. \n",
    "\n",
    "enrolled_df3 = enrolled.reset_index()\n",
    "fig = px.scatter(enrolled_df3, x=\"year\", y='percent_enrolled _Kto12private', color='name',\n",
    "                 symbol='name', #marginal_y=\"rug\", \n",
    "                 title='Scatterplot of student enrollment % for private schools by year and city - 2010-2019',\n",
    "                 labels={col:col.replace('_', ' ') for col in enrolled_df3.columns}) # remove underscore\n",
    "fig.show()"
   ]
  },
  {
   "cell_type": "code",
   "execution_count": null,
   "id": "f9e9b7f2",
   "metadata": {},
   "outputs": [],
   "source": [
    "#Plotly Scatterplot of total student enrollment % for public and private schools by year and city - 2010-2019. \n",
    "\n",
    "enrolled_df3 = enrolled.reset_index()\n",
    "fig = px.scatter(enrolled_df3, x=\"year\", y='total_per_pub_pri', color='name',\n",
    "                 symbol='name', #marginal_y=\"rug\", \n",
    "                 title='Scatterplot of total student enrollment % for public and private schools by year and city - 2010-2019',\n",
    "                 labels={col:col.replace('_', ' ') for col in enrolled_df3.columns}) # remove underscore\n",
    "fig.show()"
   ]
  },
  {
   "cell_type": "code",
   "execution_count": null,
   "id": "1f3b638f",
   "metadata": {},
   "outputs": [],
   "source": [
    "#Plotly Histogram of student enrollment % for public schools by year and city - 2010-2019\n",
    "\n",
    "enrolled_df4 = enrolled.reset_index()\n",
    "fig = px.histogram(enrolled_df4, x='name', y='percent_enrolled _Kto12public', color='year', \n",
    "                title=\"Histogram of public K-12 school enrollment by year - 2010-2019\", \n",
    "                barmode = 'stack', #barmode options for px.histograms: 'stack', 'group', or 'overlay'\n",
    "                barnorm = None, #barnorm options for px.histogram: None, 'fraction', or 'percent'\n",
    "                hover_data = enrolled_df4.columns,\n",
    "                #animation_frame=\"name\",\n",
    "                #range_x=[0,df4[\"percent_change\"].max()*1.1],\n",
    "                #histfunc = 'count', #histfunc options for px.histograms: 'count', 'sum', 'avg', 'max', or 'min'\n",
    "                facet_col = 'name', facet_col_wrap=3, facet_row_spacing=0.08,\n",
    "                labels={col:col.replace('_', ' ') for col in enrolled_df4.columns}) # remove underscore\n",
    "\n",
    "#fig.update_xaxes(type='category')\n",
    "                   \n",
    "fig.show()"
   ]
  },
  {
   "cell_type": "code",
   "execution_count": null,
   "id": "a8610797",
   "metadata": {},
   "outputs": [],
   "source": [
    "#Plotly Violin Plot of student enrollment % for public schools by year and city - 2010-2019\n",
    "\n",
    "enrolled_df5 = enrolled.reset_index()\n",
    "fig = px.violin(enrolled_df5, x='year', y='percent_enrolled _Kto12public', color='name',\n",
    "                points='all', # can be 'all', 'outliers', or False\n",
    "                title=\"Violin Plot of student enrollment % for public schools by year and city - 2010-2019\", \n",
    "                hover_data=enrolled_df5.columns,\n",
    "                labels={col:col.replace('_', ' ') for col in enrolled_df5.columns}) # remove underscore\n",
    "fig.show()"
   ]
  },
  {
   "cell_type": "code",
   "execution_count": null,
   "id": "440f1f08",
   "metadata": {
    "scrolled": false
   },
   "outputs": [],
   "source": [
    "enrolled.dtypes"
   ]
  },
  {
   "cell_type": "markdown",
   "id": "e517f250",
   "metadata": {},
   "source": [
    "# CORRELATION: Geographic Mobility / School Enrollment"
   ]
  },
  {
   "cell_type": "markdown",
   "id": "2b754b51",
   "metadata": {},
   "source": [
    "To better understand the possible correlation between geographic mobility and school enrollment from K-12 per city and by year, we visualized the data using Plotly. The variables we are primarily interested in for the initial hypothesis are the total number of students enrolled and the total geographic mobility by city per year. I also looked at whether there is a difference in calculating geographic mobility within the same county and geographic mobility from different counties, states and from abroad. "
   ]
  },
  {
   "cell_type": "code",
   "execution_count": null,
   "id": "01320088",
   "metadata": {
    "scrolled": true
   },
   "outputs": [],
   "source": [
    "#Merging geo_mobility and school enrollment datasets for visualization of possible correlations\n",
    "geomob_enroll = pd.merge(geo_mobility, enrolled, on=['name','year']) #.drop(columns=['firms','estab'])\n",
    "geomob_enroll"
   ]
  },
  {
   "cell_type": "code",
   "execution_count": null,
   "id": "b48a9a86",
   "metadata": {
    "scrolled": true
   },
   "outputs": [],
   "source": [
    "#creating pandas-profiling html analytics report for 'geo mobility' and 'school enrollment'\n",
    "\n",
    "pandas_profiling.ProfileReport(geomob_enroll)"
   ]
  },
  {
   "cell_type": "code",
   "execution_count": null,
   "id": "bb61d311",
   "metadata": {},
   "outputs": [],
   "source": [
    "#DO NOT RERUN CELLS BELOW - already downloaded to html file in Sweetviz folder\n",
    "#UNLESS a new report is needed.\n",
    "#select a df column to analyze against target for sweetviz analytics report \n",
    "\n",
    "#df = geomob_enroll\n",
    "#my_report  = sweetviz.analyze([df,'total_enrolled_Kto12'], target_feat='percent_enrolled_Kto12private')\n",
    "#my_report.show_html('percent_enrolled _Kto12private_FinalReport.html')"
   ]
  },
  {
   "cell_type": "code",
   "execution_count": null,
   "id": "384e33c0",
   "metadata": {
    "scrolled": true
   },
   "outputs": [],
   "source": [
    "#initial calculation and visualization of monotonic relationship between geo mobility and school enrollment\n",
    "#using Spearman correlation coefficient\n",
    "geomob_enroll.corr('spearman').style.background_gradient(cmap=\"Blues\")"
   ]
  },
  {
   "cell_type": "code",
   "execution_count": null,
   "id": "df30afa4",
   "metadata": {
    "scrolled": true
   },
   "outputs": [],
   "source": [
    "#initial calculation and visualization of possible linear relationship between\n",
    "#geo mobility and school enrollment using Pearson correlation coefficient to summarize its strength \n",
    "geomob_enroll.corr().style.background_gradient(cmap=\"Blues\")"
   ]
  },
  {
   "cell_type": "code",
   "execution_count": null,
   "id": "67dd9bed",
   "metadata": {},
   "outputs": [],
   "source": [
    "#Plotly Bar graph of total mobility (including same county) for each city per year in comparison to total number of school enrollment per year.\n",
    "\n",
    "geomob_enroll2 = geomob_enroll.reset_index()\n",
    "\n",
    "fig = px.bar(geomob_enroll2, x='total_mobility_all', y='total_enrolled_Kto12', color='name', \n",
    "             title=\"Bar graph of total mobility (including same county) per year in comparison to total school enrollment K-12 per year - 2010-2019\",\n",
    "             labels={col:col.replace('_', ' ') for col in geomob_enroll2.columns}) # remove underscore\n",
    "fig.show()"
   ]
  },
  {
   "cell_type": "code",
   "execution_count": null,
   "id": "cce4777b",
   "metadata": {
    "scrolled": true
   },
   "outputs": [],
   "source": [
    "#Plotly Bar graph of total mobility (excluding same county) for each city per year in comparison to total school enrollment per year.\n",
    "\n",
    "geomob_enroll2 = geomob_enroll.reset_index()\n",
    "\n",
    "fig = px.bar(geomob_enroll2, x='total_mobility_outside', y='total_enrolled_Kto12', color='name', \n",
    "             title=\"Bar graph of total mobility (excluding same county) per year in comparison to total school enrollment per year - 2010-2019\",\n",
    "             labels={col:col.replace('_', ' ') for col in geomob_enroll2.columns}) # remove underscore\n",
    "fig.show()"
   ]
  },
  {
   "cell_type": "code",
   "execution_count": null,
   "id": "0e62f7be",
   "metadata": {
    "scrolled": false
   },
   "outputs": [],
   "source": [
    "#Plotly Scatterplot of total mobility (including same county) for each city per year in comparison to total enrollment per year.\n",
    "\n",
    "geomob_enroll3 = geomob_enroll\n",
    "#geomob_enroll3_grouped = geomob_enroll3.groupby(['name','year'], as_index=False).mean()\n",
    "fig = px.scatter(geomob_enroll3, x='total_mobility_all', y='total_enrolled_Kto12', color='name', symbol='name', #marginal_y=\"rug\", \n",
    "                 title='Scatterplot of total mobility (including same county) per year' \n",
    "                         ' in comparison to total school enrollment per year - 2010-2019',\n",
    "                 labels={col:col.replace('_', ' ') for col in geomob_enroll3.columns}) # remove underscore\n",
    "#fig.add_scatter(y=geomob_enroll3.total_mobility_all)\n",
    "fig.show()"
   ]
  },
  {
   "cell_type": "code",
   "execution_count": null,
   "id": "093df373",
   "metadata": {},
   "outputs": [],
   "source": [
    "#Plotly Line plot of total mobility (including same county) for each city per year in comparison to total enrollment per year.\n",
    "\n",
    "geomob_enroll3 = geomob_enroll.reset_index()\n",
    "fig = px.line(geomob_enroll3, x='total_mobility_all', y='total_enrolled_Kto12', color='name', \n",
    "                 title='Line plot of total mobility (including same county) per year' \n",
    "                         ' in comparison to total school enrollment per year - 2010-2019',\n",
    "                 labels={col:col.replace('_', ' ') for col in geomob_enroll3.columns}) # remove underscore\n",
    "\n",
    "fig.show()"
   ]
  },
  {
   "cell_type": "code",
   "execution_count": null,
   "id": "47e4012b",
   "metadata": {
    "scrolled": false
   },
   "outputs": [],
   "source": [
    "#Plotly Scatterplot of total mobility (including same county) for each city per year in comparison to percentage of school enrollment per year.\n",
    "\n",
    "geomob_enroll3 = geomob_enroll.reset_index()\n",
    "fig = px.scatter(geomob_enroll3, x='total_mobility_all', y='total_enrolled_Kto12', color='name', symbol='name', #marginal_y=\"rug\", \n",
    "                 title='Scatterplot of total mobility (including same county) in comparison to % of enrolled K-12 public per year and city, 2010-2019',\n",
    "                 labels={col:col.replace('_', ' ') for col in geomob_enroll3.columns}) # remove underscore\n",
    "fig.show()"
   ]
  },
  {
   "cell_type": "code",
   "execution_count": null,
   "id": "3d5efe7b",
   "metadata": {},
   "outputs": [],
   "source": [
    "#Plotly Scatterplot of total mobility (excluding same county) for each city per year in comparison to % of K-12 school enrollment per year.\n",
    "\n",
    "geomob_enroll3 = geomob_enroll.reset_index()\n",
    "fig = px.scatter(geomob_enroll3, x='total_mobility_outside', y='percent_enrolled _Kto12public', color='name', symbol='name', #marginal_y=\"rug\", \n",
    "                 title='Scatterplot of total mobility (excluding same county) in comparison to % of enrolled K-12 public per year and city, 2010-2019',\n",
    "                 labels={col:col.replace('_', ' ') for col in geomob_enroll3.columns}) # remove underscore\n",
    "fig.show()"
   ]
  },
  {
   "cell_type": "code",
   "execution_count": null,
   "id": "22d42035",
   "metadata": {},
   "outputs": [],
   "source": [
    "#Plotly Scatterplot of total number of geo mobilities recorded for each city per year in comparison to percentage of K-12 public school enrollment per year.\n",
    "\n",
    "geomob_enroll3 = geomob_enroll.reset_index()\n",
    "fig = px.scatter(geomob_enroll3, x='total_year', y='percent_enrolled _Kto12public', color='year', symbol='name', #marginal_y=\"rug\", \n",
    "                 title='Scatterplot of total mobility in comparison to % of enrolled K-12 public per year and city, 2010-2019',\n",
    "                 labels={col:col.replace('_', ' ') for col in geomob_enroll3.columns}) # remove underscore\n",
    "fig.show()"
   ]
  },
  {
   "cell_type": "code",
   "execution_count": null,
   "id": "85d74f94",
   "metadata": {},
   "outputs": [],
   "source": [
    "#Plotly Scatterplot of total mobility (including same county) for each city per year in comparison to percentage of K-12 public school enrollment per year.\n",
    "\n",
    "geomob_enroll3 = geomob_enroll.reset_index()\n",
    "fig = px.scatter(geomob_enroll3, x='total_mobility_all', y='total_enrolled_Kto12', color='year', symbol='name', #marginal_y=\"rug\", \n",
    "                 title='Scatterplot of total mobility in comparison to % of enrolled K-12 public per year and city, 2010-2019',\n",
    "                 labels={col:col.replace('_', ' ') for col in geomob_enroll3.columns}) # remove underscore\n",
    "fig.show()"
   ]
  },
  {
   "cell_type": "code",
   "execution_count": null,
   "id": "46e355bf",
   "metadata": {
    "scrolled": false
   },
   "outputs": [],
   "source": [
    "#Plotly Scatterplot of total mobility (including same county) for each city per year in comparison to percentage of K-12 public school enrollment per year.\n",
    "\n",
    "geomob_enroll3 = geomob_enroll.reset_index()\n",
    "fig = px.box(geomob_enroll3, x='total_mobility_all', y='total_enrolled_Kto12', points='outliers', # can be 'all', 'outliers', or False\n",
    "             title=\"Box Plot of total mobility (including same county) in comparision to % of enrolled K-12 public per year and city, 2010-2019\", \n",
    "             hover_data=geomob_enroll3.columns,\n",
    "             labels={col:col.replace('_', ' ') for col in geomob_enroll3.columns}) # remove underscore\n",
    "fig.show()\n",
    "\n"
   ]
  },
  {
   "cell_type": "code",
   "execution_count": null,
   "id": "e7fc56e3",
   "metadata": {
    "scrolled": true
   },
   "outputs": [],
   "source": [
    "geomob_enroll.dtypes"
   ]
  },
  {
   "cell_type": "markdown",
   "id": "b61ff13e",
   "metadata": {},
   "source": [
    "<b>Below is scatterplot of Ordinary Least Squares regression trendline of total mobility by year (including same county) for each city in comparison to the total number of enrolled students from K-12 per city. Hovering over the trendline will show the equation of the line and its R-squared value. When looking at the data in this manner, I am able to visualize that the geographic mobility does not directly correlate to the total number of students enrolled. </b>\n"
   ]
  },
  {
   "cell_type": "code",
   "execution_count": null,
   "id": "d5b83d60",
   "metadata": {},
   "outputs": [],
   "source": [
    "#Plotly scatterplot of Ordinary Least Squares regression trendline of total mobility by year (including same county) \n",
    "#for each city in comparison to the total number of students enrolled in K-12 per city. \n",
    "#Hovering over the trendline will show the equation of the line and its R-squared value.\n",
    "\n",
    "geomob_enroll4 = geomob_enroll.reset_index()\n",
    "fig = px.scatter(geomob_enroll4, x='total_mobility_all', y='total_enrolled_Kto12', trendline=\"ols\", \n",
    "                 title=\"Scatterplot of OLS trendline of total mobility (ALL) & total enrolled K-12 - 2010-2019\",\n",
    "                 hover_data=['year','name'],\n",
    "                labels={col:col.replace('_', ' ') for col in geomob_enroll4.columns}) # remove underscore\n",
    "fig.show()"
   ]
  },
  {
   "cell_type": "code",
   "execution_count": null,
   "id": "cebec391",
   "metadata": {},
   "outputs": [],
   "source": [
    "#Plotly scatterplot of Ordinary Least Squares regression trendline of total mobility by year (excluding same county) \n",
    "#for each city in comparison to the total number of students enrolled in K-12 per city. \n",
    "#Hovering over the trendline will show the equation of the line and its R-squared value.\n",
    "\n",
    "geomob_enroll4 = geomob_enroll.reset_index()\n",
    "fig = px.scatter(geomob_enroll4, x='total_mobility_outside', y='total_enrolled_Kto12', trendline=\"ols\", \n",
    "                 title=\"Scatterplot of OLS trendline of Total Mobility (excluding same county) by year - 2010-2019\",\n",
    "                 hover_data=['year','name'],\n",
    "                labels={col:col.replace('_', ' ') for col in geomob_enroll4.columns}) # remove underscore\n",
    "fig.show()"
   ]
  },
  {
   "cell_type": "code",
   "execution_count": null,
   "id": "4456e6f6",
   "metadata": {
    "scrolled": true
   },
   "outputs": [],
   "source": [
    "geomob_enroll.dtypes"
   ]
  },
  {
   "cell_type": "code",
   "execution_count": null,
   "id": "bb9e15f4",
   "metadata": {
    "scrolled": true
   },
   "outputs": [],
   "source": [
    "print(geomob_enroll.corr().loc['total_mobility_all', 'total_per_pub_pri'])"
   ]
  },
  {
   "cell_type": "code",
   "execution_count": null,
   "id": "f89379da",
   "metadata": {},
   "outputs": [],
   "source": [
    "print(geomob_enroll.corr().loc['total_mobility_all', 'total_enrolled_Kto12'])"
   ]
  },
  {
   "cell_type": "code",
   "execution_count": null,
   "id": "04b91d4d",
   "metadata": {
    "scrolled": true
   },
   "outputs": [],
   "source": [
    "print(geomob_enroll.corr().loc['total_mobility_outside', 'total_enrolled_Kto12'])"
   ]
  },
  {
   "cell_type": "markdown",
   "id": "fee21a41",
   "metadata": {},
   "source": [
    "Furthermore, Person’s correlation coefficient score for 'total_mobility_all', 'total_enrolled_Kto12' is -0.202 verifying that there is negative correlation between the two variables."
   ]
  },
  {
   "cell_type": "markdown",
   "id": "377f043c",
   "metadata": {},
   "source": [
    "Please refer to notebook 2 for continued analysis.</b>"
   ]
  },
  {
   "cell_type": "markdown",
   "id": "0b41dc63",
   "metadata": {},
   "source": [
    "Author - Veronica Huxley "
   ]
  }
 ],
 "metadata": {
  "kernelspec": {
   "display_name": "Python 3",
   "language": "python",
   "name": "python3"
  },
  "language_info": {
   "codemirror_mode": {
    "name": "ipython",
    "version": 3
   },
   "file_extension": ".py",
   "mimetype": "text/x-python",
   "name": "python",
   "nbconvert_exporter": "python",
   "pygments_lexer": "ipython3",
   "version": "3.8.8"
  }
 },
 "nbformat": 4,
 "nbformat_minor": 5
}
