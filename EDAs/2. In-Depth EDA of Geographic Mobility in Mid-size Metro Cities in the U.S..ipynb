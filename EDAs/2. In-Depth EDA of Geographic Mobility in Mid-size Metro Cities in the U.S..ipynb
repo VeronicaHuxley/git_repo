{
 "cells": [
  {
   "cell_type": "code",
   "execution_count": 1,
   "id": "d2deabb8",
   "metadata": {},
   "outputs": [],
   "source": [
    "import numpy as np\n",
    "import pandas as pd\n",
    "import math\n",
    "import base64\n",
    "import matplotlib.pyplot as plt\n",
    "import seaborn as sns\n",
    "import plotly.express as px\n",
    "import plotly.graph_objects as go\n",
    "import csv\n",
    "import pandas_profiling\n",
    "import sweetviz"
   ]
  },
  {
   "cell_type": "markdown",
   "id": "3faecefc",
   "metadata": {},
   "source": [
    "# In-depth Exploratory Data Analysis of <br>The Influential Factors of Geographic Mobility in Mid-size Metro U.S."
   ]
  },
  {
   "cell_type": "markdown",
   "id": "5b78549b",
   "metadata": {},
   "source": [
    "# One-Dimensional: Business Dynamics/Growth - Top & Bottom 5 Cities"
   ]
  },
  {
   "cell_type": "code",
   "execution_count": null,
   "id": "32e39f6a",
   "metadata": {
    "scrolled": false
   },
   "outputs": [],
   "source": [
    "#Opening, reading, dropping column and changing 'percent_change' number to float in .csv\n",
    "with open('data/business_dynamics.csv') as f:\n",
    "    business_dynamics = pd.read_csv(f).drop(columns=['metro', 'firms', 'estab_change',])\n",
    "    business_dynamics['percent_change'] = pd.to_numeric(business_dynamics['percent_change'],errors = 'coerce')\n",
    "    #business_dynamics_15['bus_percent_change'] = business_dynamics_15['percent_change']\n",
    "    #business_dynamics_15['bus_percent_change'] = business_dynamics_15['estab'].pct_change()\n",
    "    #business_dynamics_15['estab_percent_change'] = business_dynamics_15['estab'].pct_change()\n",
    "    #business_dynamics_15['emp_percent_change'] = business_dynamics_15['emp'].pct_change()\n",
    "    #business_dynamics_15['year'] = pd.to_datetime(business_dynamics_15['year'], format='%Y')\n",
    "    business_10 = business_dynamics#.sort_values(by=['name', 'year'], ascending=False)\n",
    "business_10"
   ]
  },
  {
   "cell_type": "code",
   "execution_count": null,
   "id": "cb23b9f9",
   "metadata": {
    "scrolled": true
   },
   "outputs": [],
   "source": [
    "business_10.dtypes"
   ]
  },
  {
   "cell_type": "code",
   "execution_count": null,
   "id": "7ecf42a6",
   "metadata": {
    "scrolled": false
   },
   "outputs": [],
   "source": [
    "business_10.describe()"
   ]
  },
  {
   "cell_type": "code",
   "execution_count": null,
   "id": "dd0dc5e6",
   "metadata": {
    "scrolled": true
   },
   "outputs": [],
   "source": [
    "business_10[['estab', 'emp']].corr()"
   ]
  },
  {
   "cell_type": "code",
   "execution_count": null,
   "id": "0d173496",
   "metadata": {
    "scrolled": true
   },
   "outputs": [],
   "source": [
    "#creating a separate df and dropping 2010 to compare percent change YoY\n",
    "business_10 = business_10[business_10['year'] != 2010]\n",
    "business_10"
   ]
  },
  {
   "cell_type": "code",
   "execution_count": null,
   "id": "8b6719a3",
   "metadata": {},
   "outputs": [],
   "source": [
    "business_top = business_10[(business_10.values  == 'Denver')|(business_10.values  == 'Boston')|(business_10.values  == 'Austin')|(business_10.values  == 'Portland')|(business_10.values  == 'Oklahoma City')]\n",
    "business_top"
   ]
  },
  {
   "cell_type": "code",
   "execution_count": null,
   "id": "dd4d7ff1",
   "metadata": {
    "scrolled": false
   },
   "outputs": [],
   "source": [
    "#Plotly line plot of Business Growth % change by Year Top & Bottom 5 Cities - 2010-2019\n",
    "\n",
    "fig = px.line(business_15, x='year', y='percent_change', color='name', \n",
    "              title='Line Plot of Business Growth % change YoY Top & Bottom 5 Cities - 2010-2019',\n",
    "              labels={col:col.replace('_', ' ') for col in business_15.columns}) # remove underscore\n",
    "fig.show()"
   ]
  },
  {
   "cell_type": "code",
   "execution_count": null,
   "id": "e336b9d4",
   "metadata": {
    "scrolled": true
   },
   "outputs": [],
   "source": [
    "#Plotly bar plot of Business Growth % change YoY Top & Bottom 5 Cities- 2010-2019\n",
    "\n",
    "fig = px.bar(business_15, y='name', x='percent_change', color='year', \n",
    "             title='Bar Plot of Business Growth % change YoY Top & Bottom 5 Cities- 2010-2019',\n",
    "             labels={col:col.replace('_', ' ') for col in business_15.columns}) # remove underscore\n",
    "fig.show()"
   ]
  },
  {
   "cell_type": "code",
   "execution_count": null,
   "id": "7791164d",
   "metadata": {
    "scrolled": true
   },
   "outputs": [],
   "source": [
    "#Plotly bar graph of Business Growth % change YoY Top & Bottom 5 Cities- 2010-2019\n",
    "\n",
    "fig = px.bar(business_15, y='year', x='name', color='percent_change', \n",
    "             title='Bar Plot of Business Growth % change YoY Top & Bottom 5 Cities - 2010-2019',\n",
    "             labels={col:col.replace('_', ' ') for col in business_15.columns}) # remove underscore\n",
    "fig.show()"
   ]
  },
  {
   "cell_type": "code",
   "execution_count": null,
   "id": "dfe3a600",
   "metadata": {
    "scrolled": true
   },
   "outputs": [],
   "source": [
    "#Plotly bar graph of Business Growth % change YoY Top & Bottom 5 Cities- 2010-2019\n",
    "\n",
    "fig = px.bar(business_15, y='percent_change', x='year', color='name', \n",
    "             title='Bar graph of Business Growth % change YoY - Top & Bottom 5 Cities - 2010-2019',\n",
    "             labels={col:col.replace('_', ' ') for col in business_15.columns}) # remove underscore\n",
    "fig.show()"
   ]
  },
  {
   "cell_type": "code",
   "execution_count": null,
   "id": "ebe27192",
   "metadata": {
    "scrolled": false
   },
   "outputs": [],
   "source": [
    "#Plotly scatter plot of Business Growth % change YoY Top & Bottom 5 Cities- 2010-2019\n",
    "\n",
    "fig = px.scatter(business_15, x='year', y='percent_change', \n",
    "                 color='name', symbol='name', #marginal_y=\"rug\", \n",
    "                 title='Scatter Plot of Business Growth % change YoY Top & Bottom 5 Cities - 2010-2019',\n",
    "                 labels={col:col.replace('_', ' ') for col in business_15.columns}) # remove underscore\n",
    "fig.show()"
   ]
  },
  {
   "cell_type": "code",
   "execution_count": null,
   "id": "db75e0d6",
   "metadata": {
    "scrolled": true
   },
   "outputs": [],
   "source": [
    "#Plotly scatterplot of Ordinary Least Squares regression trendline of business growth percent change by year for each city. \n",
    "#Hovering over the trendline will show the equation of the line and its R-squared value.\n",
    "\n",
    "fig = px.scatter(business_15, x='year', y='percent_change', trendline='ols', hover_data=['percent_change','name'],\n",
    "                labels={col:col.replace('_', ' ') for col in business_15.columns}) # removes underscore\n",
    "fig.show()"
   ]
  },
  {
   "cell_type": "code",
   "execution_count": null,
   "id": "35b14617",
   "metadata": {
    "scrolled": false
   },
   "outputs": [],
   "source": [
    "business_15['estab'].pct_change()"
   ]
  },
  {
   "cell_type": "markdown",
   "id": "7736668f",
   "metadata": {},
   "source": [
    "# One-Dimensional: Unemployment - Top & Bottom 5 Cities"
   ]
  },
  {
   "cell_type": "code",
   "execution_count": null,
   "id": "c93e08a8",
   "metadata": {
    "scrolled": true
   },
   "outputs": [],
   "source": [
    "#Read unemployment dataset, drop columns \n",
    "with open('data/unemployment_15.csv') as f:\n",
    "    unemployment_15 = pd.read_csv(f).drop(columns=['city_state']).sort_values(by='unemployment_rate', ascending=False)\n",
    "    unemployment_15['unemp_percent_change'] = unemployment_15['unemployment_rate'].pct_change()\n",
    "    unemp_15 = unemployment_15\n",
    "unemp_15"
   ]
  },
  {
   "cell_type": "code",
   "execution_count": null,
   "id": "2c9ea21a",
   "metadata": {},
   "outputs": [],
   "source": [
    "#creating a separate df and dropping 2010 to compare percent change YoY\n",
    "unemp_15_1 = unemp_15[unemp_15['year'] != 2010]"
   ]
  },
  {
   "cell_type": "code",
   "execution_count": null,
   "id": "3ee37e4d",
   "metadata": {
    "scrolled": true
   },
   "outputs": [],
   "source": [
    "#Plotly bar graph of unemployment rate by year for top and bottom 5 - 2010-2019. Estimate population 1 year and over\n",
    "\n",
    "fig = px.bar(unemp_15, y='unemployment_rate', x='year', color='name', \n",
    "             title='Bar Plot of unemployment rate by year for top and bottom 5 - 2010-2019',\n",
    "             labels={col:col.replace('_', ' ') for col in unemp_15.columns}) # remove underscore\n",
    "fig.show()"
   ]
  },
  {
   "cell_type": "code",
   "execution_count": null,
   "id": "7eb00c4e",
   "metadata": {},
   "outputs": [],
   "source": [
    "#Plotly bar graph of unemployment percent change by year for top and bottom 5 - 2011-2019. Estimate population 1 year and over\n",
    "#using unemp_15_1, a separate df and dropping 2010 to compare percent change YoY\n",
    "fig = px.bar(unemp_15_1, y='unemp_percent_change', x='year', color='name', \n",
    "             title='Bar Plot of unemployment % change YoY for top and bottom 5 - 2011-2019',\n",
    "             labels={col:col.replace('_', ' ') for col in unemp_15_1.columns}) # remove underscore\n",
    "fig.show()"
   ]
  },
  {
   "cell_type": "code",
   "execution_count": null,
   "id": "ca64f2ac",
   "metadata": {
    "scrolled": true
   },
   "outputs": [],
   "source": [
    "#Plotly bar graph of unemployment rate by year for top and bottom 5 - 2010-2019. Estimate population 1 year and over\n",
    "\n",
    "fig = px.bar(unemp_15, y='name', x='unemployment_rate', color='year', \n",
    "             title='Bar graph of of unemployment rate top and bottom 5 - 2010-2019',\n",
    "             labels={col:col.replace('_', ' ') for col in unemp_15.columns}) # remove underscore\n",
    "fig.show()"
   ]
  },
  {
   "cell_type": "code",
   "execution_count": null,
   "id": "1cd09ec6",
   "metadata": {
    "scrolled": true
   },
   "outputs": [],
   "source": [
    "#Plotly bar graph of unemployment % change by year for top and bottom 5 - 2011-2019. Estimate population 1 year and over\n",
    "#using unemp_15_1, a separate df and dropping 2010 to compare percent change YoY\n",
    "\n",
    "fig = px.bar(unemp_15_1, y='name', x='unemp_percent_change', color='year', \n",
    "             title='Bar Plot of of unemployment % change top and bottom 5 - 2011-2019',\n",
    "             labels={col:col.replace('_', ' ') for col in unemp_15_1.columns}) # remove underscore\n",
    "fig.show()"
   ]
  },
  {
   "cell_type": "code",
   "execution_count": null,
   "id": "c34fb7d0",
   "metadata": {
    "scrolled": true
   },
   "outputs": [],
   "source": [
    "#Plotly Line plot of unemployment rate by year for top and bottom 5 - 2010-2019. Estimate population 1 year and over\n",
    "\n",
    "fig = px.line(unemp_15, x='year', y='unemployment_rate', color='name', \n",
    "              title='Line Plot of unemployment rate top and bottom 5 - 2010-2019',\n",
    "              labels={col:col.replace('_', ' ') for col in unemp_15.columns}) # remove underscore\n",
    "fig.show()"
   ]
  },
  {
   "cell_type": "code",
   "execution_count": null,
   "id": "d0d810a8",
   "metadata": {},
   "outputs": [],
   "source": [
    "#Plotly Line plot of unemployment % change by year for top and bottom 5 - 2011-2019. Estimate population 1 year and over\n",
    "#using unemp_15_1, a separate df and dropping 2010 to compare percent change YoY\n",
    "\n",
    "fig = px.line(unemp_15_1, x='year', y='unemp_percent_change', color='name', \n",
    "              title='Line Plot of unemployment % change top and bottom 5 - 2011-2019',\n",
    "              labels={col:col.replace('_', ' ') for col in unemp_15_1.columns}) # remove underscore\n",
    "fig.show()"
   ]
  },
  {
   "cell_type": "markdown",
   "id": "b0e6f6cc",
   "metadata": {},
   "source": [
    "# One-Dimensional: Geographic Mobility - Top & Bottom 5"
   ]
  },
  {
   "cell_type": "markdown",
   "id": "531833d2",
   "metadata": {},
   "source": [
    "Geographical Mobility based on US Census data from 2010-2019, including breakdowns by demographic characteristics and rates of inmigration, outmigration, and net migration. This is an important variable for comparing how geographic mobility has changed over time across the top 5 and bottom 5 ranking cities and its potential correlation.\n",
    "\n",
    "name: City name.\n",
    "\n",
    "year: Record year for which the data was gathered per year between 2010-2019.\n",
    "\n",
    "same_county: Moved within the same county. Estimate population 1 year and over.\n",
    "\n",
    "diff_county: Moved from a different county, same state. Estimate population 1 year and over.\n",
    "\n",
    "diff_state: Moved from a different state. Estimate population 1 year and over.\n",
    "\n",
    "from_abroad: Moved from abroad. Estimate population 1 year and over."
   ]
  },
  {
   "cell_type": "code",
   "execution_count": null,
   "id": "73b5de75",
   "metadata": {},
   "outputs": [],
   "source": [
    "#Read geographic mobility dataset, drop columns and create total mobility column\n",
    "with open('data/geo_mobility_15.csv') as f:\n",
    "    geo_mobility_15 = pd.read_csv(f).drop(columns=['city_state']).sort_values(by='year', ascending=False)\n",
    "    #geo_mobility_15['total_mobility_all'] = geo_mobility_15['same_county'] + geo_mobility_15['diff_county'] + geo_mobility_15['diff_state']+geo_mobility_15['from_abroad']\n",
    "    geo_mobility_15['total_mobility_outside'] = geo_mobility_15['diff_county'] + geo_mobility_15['diff_state']+geo_mobility_15['from_abroad']\n",
    "    #geo_mobility_15['geo_percent_change'] = geo_mobility_15['total_mobility_all'].pct_change()\n",
    "    geo_mob_15 = geo_mobility_15#.groupby(['name'])\n",
    "geo_mob_15"
   ]
  },
  {
   "cell_type": "code",
   "execution_count": null,
   "id": "dc570cfc",
   "metadata": {},
   "outputs": [],
   "source": [
    "#creating a separate df and dropping Louisvilee to compare to individual income as that dataset does not have Louisville\n",
    "#geo_mob_15_2 = geo_mob_15[geo_mob_15['name'] != 'Louisville']\n",
    "#geo_mob_15_2"
   ]
  },
  {
   "cell_type": "code",
   "execution_count": null,
   "id": "cd4b9ddb",
   "metadata": {},
   "outputs": [],
   "source": [
    "geo_mob_15.info()"
   ]
  },
  {
   "cell_type": "code",
   "execution_count": null,
   "id": "cfb7841b",
   "metadata": {},
   "outputs": [],
   "source": [
    "#Plotly Line plot of Total Mobility (including same county) by Year for top and bottom 5 - 2010-2019. Estimate population 1 year and over\n",
    "\n",
    "\n",
    "fig = px.line(geo_mob_15, x='year', y='total_mobility_outside', color='name', \n",
    "              title=\"Line Plot of percent of Total Mobility by Year for top and bottom 5 - 2010-2019\",\n",
    "              labels={col:col.replace('_', ' ') for col in geo_mob_15.columns}) # remove underscore\n",
    "fig.show()"
   ]
  },
  {
   "cell_type": "code",
   "execution_count": null,
   "id": "e0666fd7",
   "metadata": {},
   "outputs": [],
   "source": [
    "#Plotly bar graph of unemployment percent change by year for top and bottom 5 - 2010-2019. Estimate population 1 year and over\n",
    "\n",
    "fig = px.bar(geo_mob_15, y='geo_percent_change', x='year', color='name', \n",
    "             title='Bar Plot of geo mobility % change YoY for top & bottom 5 - 2010-2019',\n",
    "             labels={col:col.replace('_', ' ') for col in geo_mob_15.columns}) # remove underscore\n",
    "fig.show()"
   ]
  },
  {
   "cell_type": "code",
   "execution_count": null,
   "id": "84aa820f",
   "metadata": {},
   "outputs": [],
   "source": [
    "#Plotly bar graph of unemployment percent change by year for top and bottom 5 - 2010-2019. Estimate population 1 year and over\n",
    "\n",
    "fig = px.bar(geo_mob_15, y='geo_percent_change', x='name', color='year', \n",
    "             title='Bar Plot of geo mobility % change YoY for top & bottom 5 - 2010-2019',\n",
    "             labels={col:col.replace('_', ' ') for col in geo_mob_15.columns}) # remove underscore\n",
    "fig.show()"
   ]
  },
  {
   "cell_type": "code",
   "execution_count": null,
   "id": "a7b1b4b2",
   "metadata": {},
   "outputs": [],
   "source": [
    "#Plotly bar graph of geo mobility percent change YoY for top and bottom 5 - 2010-2019. Estimate population 1 year and over\n",
    "\n",
    "fig = px.bar(geo_mob_15, y='name', x='geo_percent_change', color='year', \n",
    "             title='Bar Plot of geo mobility % change YoY for top & bottom 5 - 2010-2019',\n",
    "             labels={col:col.replace('_', ' ') for col in geo_mob_15.columns}) # remove underscore\n",
    "fig.show()"
   ]
  },
  {
   "cell_type": "code",
   "execution_count": null,
   "id": "bc0344d7",
   "metadata": {},
   "outputs": [],
   "source": [
    "#Plotly bar graph of geo mobility percent change YoY for top and bottom 5 - 2010-2019. Estimate population 1 year and over\n",
    "\n",
    "fig = px.bar(geo_mob_15, y='name', x='total_mobility_all', color='year', \n",
    "             title='Bar Plot of total mobility for top & bottom 5 - 2010-2019',\n",
    "             labels={col:col.replace('_', ' ') for col in geo_mob_15.columns}) # remove underscore\n",
    "fig.show()"
   ]
  },
  {
   "cell_type": "code",
   "execution_count": null,
   "id": "dc6cd299",
   "metadata": {},
   "outputs": [],
   "source": [
    "#Plotly Line plot of geo mobility % change YoY for top and bottom 5 - 2010-2019. Estimate population 1 year and over\n",
    "\n",
    "fig = px.line(geo_mob_15, x='year', y='geo_percent_change', color='name', \n",
    "              title='Line Plot of geo mobility % change YoY for top & bottom 5 - 2010-2019',\n",
    "              labels={col:col.replace('_', ' ') for col in geo_mob_15.columns}) # remove underscore\n",
    "fig.show()"
   ]
  },
  {
   "cell_type": "code",
   "execution_count": null,
   "id": "234be7ee",
   "metadata": {},
   "outputs": [],
   "source": [
    "#Plotly Box Plot of percentage of Total Mobility by year with outliers - 2010-2019\n",
    "\n",
    "fig = px.box(geo_mob_15, x='year', y='total_mobility_all', points='all', # can be 'all', 'outliers', or False\n",
    "             title=\"Box Plot of % Total Mobility by year with outliers - 2010-2019\", hover_data=geo_mob_15.columns,\n",
    "             labels={col:col.replace('_', ' ') for col in geo_mob_15.columns}) # remove underscore\n",
    "fig.show()"
   ]
  },
  {
   "cell_type": "code",
   "execution_count": null,
   "id": "cb97cea3",
   "metadata": {},
   "outputs": [],
   "source": [
    "#Plotly Box Plot of Geo Mobility % change YoY by year with outliers - 2010-2019\n",
    "\n",
    "fig = px.box(geo_mob_15, x='year', y='geo_percent_change', points='all', #color='name', # can be 'all', 'outliers', or False\n",
    "             title=\"Box Plot of Geo Mobility % change YoY with outliers - 2010-2019\", hover_data=geo_mob_15.columns,\n",
    "             labels={col:col.replace('_', ' ') for col in geo_mob_15.columns}) # remove underscore\n",
    "fig.show()"
   ]
  },
  {
   "cell_type": "markdown",
   "id": "d5ca6aeb",
   "metadata": {},
   "source": [
    "# One-Dimensional: Individual Income - Top & Bottom 5"
   ]
  },
  {
   "cell_type": "code",
   "execution_count": null,
   "id": "fb23017d",
   "metadata": {
    "scrolled": true
   },
   "outputs": [],
   "source": [
    "#Read geographic mobility dataset, drop columns and create total mobility column\n",
    "with open('data/individual_income_14.csv') as f:\n",
    "    individual_income_14 = pd.read_csv(f).drop(columns=['city_state', 'total_est_mean_earnings','male_est_median_earnings', 'female_est_median_earnings', 'male_est_mean_fulltime_earnings', 'female_est_mean_fulltime_earnings']).sort_values(by='year', ascending=False)\n",
    "    individual_income_14['male_median_percent_change'] = individual_income_14['male_est_median_fulltime_earnings'].pct_change()\n",
    "    individual_income_14['female_median_percent_change'] = individual_income_14['female_est_median_fulltime_earnings'].pct_change()\n",
    "    individual_income_14['total_pop_income_percent_change'] = individual_income_14['total_est_pop_over16'].pct_change()\n",
    "    individual_income_14['total_pop_ind_income_median_percent_change'] = individual_income_14['total_est_median_earnings'].pct_change()\n",
    "    ind_income_14 = individual_income_14\n",
    "ind_income_14"
   ]
  },
  {
   "cell_type": "code",
   "execution_count": null,
   "id": "51990842",
   "metadata": {
    "scrolled": true
   },
   "outputs": [],
   "source": [
    "ind_income_14.info()"
   ]
  },
  {
   "cell_type": "code",
   "execution_count": null,
   "id": "605bc85c",
   "metadata": {
    "scrolled": false
   },
   "outputs": [],
   "source": [
    "#Plotly Line plot of total estimated median of individual income of total population for top and bottom 5\n",
    "\n",
    "fig = px.line(ind_income_14, x='year', y='total_est_median_earnings', color='name', \n",
    "              title=\"Line Plot of total estimated median of individual income of total population - top & bottom 5 - 2010-2019\",\n",
    "              labels={col:col.replace('_', ' ') for col in ind_income_14.columns}) # remove underscore\n",
    "fig.show()"
   ]
  },
  {
   "cell_type": "code",
   "execution_count": null,
   "id": "136438c1",
   "metadata": {
    "scrolled": true
   },
   "outputs": [],
   "source": [
    "#Plotly Line plot of % change Y0Y of total estimated median of individual income of total population for top and bottom 5\n",
    "\n",
    "\n",
    "fig = px.line(ind_income_14, x='year', y='total_pop_income_percent_change', color='name', \n",
    "              title=\"Line Plot of  % change Y0Y of total estimated median of individual income of total population - top & bottom 5 - 2010-2019\",\n",
    "              labels={col:col.replace('_', ' ') for col in ind_income_14.columns}) # remove underscore\n",
    "fig.show()"
   ]
  },
  {
   "cell_type": "code",
   "execution_count": null,
   "id": "a035f46e",
   "metadata": {
    "scrolled": true
   },
   "outputs": [],
   "source": [
    "#Plotly Line plot of median % change of individual income of total population for top and bottom 5\n",
    "\n",
    "\n",
    "fig = px.line(ind_income_14, x='year', y='total_pop_ind_income_median_percent_change', color='name', \n",
    "              title=\"Line Plot of median % change of individual income of total population for top & bottom 5 - 2010-2019\",\n",
    "              labels={col:col.replace('_', ' ') for col in ind_income_14.columns}) # remove underscore\n",
    "fig.show()"
   ]
  },
  {
   "cell_type": "code",
   "execution_count": null,
   "id": "ecc34c4e",
   "metadata": {
    "scrolled": false
   },
   "outputs": [],
   "source": [
    "#Plotly bar graph of estimated median of individual income of total population for top and bottom 5\n",
    "\n",
    "fig = px.bar(ind_income_14, y='total_est_median_earnings', x='year', color='name', \n",
    "             title='Bar Plot of estimated median of individual income of total population - top & bottom 5 - 2010-2019',\n",
    "             labels={col:col.replace('_', ' ') for col in ind_income_14.columns}) # remove underscore\n",
    "fig.show()"
   ]
  },
  {
   "cell_type": "code",
   "execution_count": null,
   "id": "f69cb848",
   "metadata": {
    "scrolled": false
   },
   "outputs": [],
   "source": [
    "#Plotly bar graph of estimated median of individual income of total population for top and bottom 5\n",
    "\n",
    "fig = px.bar(ind_income_14, y='total_est_median_earnings', x='name', color='year', \n",
    "             title='Bar Plot of estimated median of individual income of total population - top & bottom 5 - 2010-2019',\n",
    "             labels={col:col.replace('_', ' ') for col in ind_income_14.columns}) # remove underscore\n",
    "fig.show()"
   ]
  },
  {
   "cell_type": "code",
   "execution_count": null,
   "id": "e8c0d786",
   "metadata": {
    "scrolled": true
   },
   "outputs": [],
   "source": [
    "#Plotly bar graph of estimated individual income of total population - top & bottom 5 - 2010-2019\n",
    "\n",
    "fig = px.bar(ind_income_14, y='total_est_pop_over16', x='name', color='year', \n",
    "             title='Bar Plot of estimated median of individual income of total population - top & bottom 5 - 2010-2019',\n",
    "             labels={col:col.replace('_', ' ') for col in ind_income_14.columns}) # remove underscore\n",
    "fig.show()"
   ]
  },
  {
   "cell_type": "code",
   "execution_count": null,
   "id": "3010b970",
   "metadata": {
    "scrolled": true
   },
   "outputs": [],
   "source": [
    "#Plotly bar graph of of individual income % change YoY of total population - top and bottom 5 - 2010-2019\n",
    "\n",
    "fig = px.bar(ind_income_14, y='total_pop_income_percent_change', x='year', color='name', \n",
    "             title='Bar Plot of individual income % change YoY of total population - top and bottom 5 - 2010-2019',\n",
    "             labels={col:col.replace('_', ' ') for col in ind_income_14.columns}) # remove underscore\n",
    "fig.show()"
   ]
  },
  {
   "cell_type": "code",
   "execution_count": null,
   "id": "48845f96",
   "metadata": {
    "scrolled": true
   },
   "outputs": [],
   "source": [
    "#Plotly bar graph of of individual income % change YoY of total population - top and bottom 5 - 2010-2019\n",
    "\n",
    "fig = px.bar(ind_income_14, y='total_pop_income_percent_change', x='name', color='year', \n",
    "             title='Bar Plot of individual income % change YoY of total population - top and bottom 5 - 2010-2019',\n",
    "             labels={col:col.replace('_', ' ') for col in ind_income_14.columns}) # remove underscore\n",
    "fig.show()"
   ]
  },
  {
   "cell_type": "code",
   "execution_count": null,
   "id": "559ac38f",
   "metadata": {
    "scrolled": false
   },
   "outputs": [],
   "source": [
    "#Plotly bar graph - est. median of individual income % change YoY of total population - top and bottom 5 - 2010-2019\n",
    "\n",
    "fig = px.bar(ind_income_14, y='total_pop_ind_income_median_percent_change', x='year', color='name', \n",
    "             title='Bar Plot of est. median of individual income % change YoY of total population - top and bottom 5 - 2010-2019',\n",
    "             labels={col:col.replace('_', ' ') for col in ind_income_14.columns}) # remove underscore\n",
    "fig.show()"
   ]
  },
  {
   "cell_type": "code",
   "execution_count": null,
   "id": "39eadd43",
   "metadata": {
    "scrolled": true
   },
   "outputs": [],
   "source": [
    "#Plotly bar graph - est. median of individual income % change YoY of total population - top and bottom 5 - 2010-2019\n",
    "\n",
    "fig = px.bar(ind_income_14, y='total_pop_ind_income_median_percent_change', x='name', color='year', \n",
    "             title='Bar Plot of est. median of individual income % change YoY of total population - top and bottom 5 - 2010-2019',\n",
    "             labels={col:col.replace('_', ' ') for col in ind_income_14.columns}) # remove underscore\n",
    "fig.show()"
   ]
  },
  {
   "cell_type": "markdown",
   "id": "f1687f9a",
   "metadata": {},
   "source": [
    "# CORRELATION: Business Dynamics/Growth & Unemployment\n",
    "# Top & Bottom 5"
   ]
  },
  {
   "cell_type": "code",
   "execution_count": null,
   "id": "96cd1e23",
   "metadata": {},
   "outputs": [],
   "source": [
    "#Merge business_dynamics and unemployment datasets for visualization of possible correlations\n",
    "bgrowth_unemp_15 = pd.merge(business_15, unemp_15, on=['name','year'])\n",
    "bgrowth_unemp_15"
   ]
  },
  {
   "cell_type": "code",
   "execution_count": null,
   "id": "27dacafc",
   "metadata": {},
   "outputs": [],
   "source": [
    "bgrowth_unemp_15.info()"
   ]
  },
  {
   "cell_type": "code",
   "execution_count": null,
   "id": "248247fe",
   "metadata": {},
   "outputs": [],
   "source": [
    "bgrowth_unemp_15[['bus_percent_change','unemp_percent_change','unemployment_rate']].describe()"
   ]
  },
  {
   "cell_type": "code",
   "execution_count": null,
   "id": "0e9b987b",
   "metadata": {},
   "outputs": [],
   "source": [
    "bgrowth_unemp_15.corr()['bus_percent_change'].to_frame().sort_values('bus_percent_change')"
   ]
  },
  {
   "cell_type": "code",
   "execution_count": null,
   "id": "e8beb6c3",
   "metadata": {},
   "outputs": [],
   "source": [
    "bgrowth_unemp_15[['unemp_percent_change', 'bus_percent_change']].corr()"
   ]
  },
  {
   "cell_type": "code",
   "execution_count": null,
   "id": "de21f2c5",
   "metadata": {},
   "outputs": [],
   "source": [
    "#correlation matrix calculation and visualization of monotonic relationship between\n",
    "#business dynamics/growth % change YoY and unemployment % change YoY using Spearman correlation coefficient\n",
    "bgrowth_unemp_15.corr('spearman').style.background_gradient(cmap=\"Blues\")"
   ]
  },
  {
   "cell_type": "code",
   "execution_count": null,
   "id": "3aa72147",
   "metadata": {},
   "outputs": [],
   "source": [
    "#correlation matrix calculation and visualization of possible linear relationship between\n",
    "#business dynamics/growth % and and unemployment % change YoY using using Pearson correlation coefficient to summarize its strength \n",
    "bgrowth_unemp_15.corr().style.background_gradient(cmap=\"Blues\")"
   ]
  },
  {
   "cell_type": "code",
   "execution_count": null,
   "id": "73dfb334",
   "metadata": {},
   "outputs": [],
   "source": [
    "corrm = bgrowth_unemp_15.corr()\n",
    "corrm"
   ]
  },
  {
   "cell_type": "code",
   "execution_count": null,
   "id": "77e9fae6",
   "metadata": {
    "scrolled": false
   },
   "outputs": [],
   "source": [
    "corrm['bus_percent_change'][corrm['unemp_percent_change'] > 0].sort_values(ascending = False)"
   ]
  },
  {
   "cell_type": "code",
   "execution_count": null,
   "id": "a1fbd1a1",
   "metadata": {
    "scrolled": true
   },
   "outputs": [],
   "source": [
    "corrm = bgrowth_unemp_15_top.corr()\n",
    "corrm"
   ]
  },
  {
   "cell_type": "markdown",
   "id": "f26d537f",
   "metadata": {},
   "source": [
    "# CORRELATION: Business Dynamics/Growth & Geo Mobility - Top & Bottom 5"
   ]
  },
  {
   "cell_type": "code",
   "execution_count": null,
   "id": "f6f0d5ad",
   "metadata": {},
   "outputs": [],
   "source": [
    "#Merge business_dynamics and geographic mobility datasets for visualization of possible correlations\n",
    "bgrowth_geo_15 = pd.merge(business_15, geo_mob_15, on=['name','year']).drop(columns=['same_county', 'diff_county', 'from_abroad'])\n",
    "bgrowth_geo_15"
   ]
  },
  {
   "cell_type": "code",
   "execution_count": null,
   "id": "1474b0af",
   "metadata": {},
   "outputs": [],
   "source": [
    "bgrowth_geo_15.info()"
   ]
  },
  {
   "cell_type": "code",
   "execution_count": null,
   "id": "71ee160d",
   "metadata": {},
   "outputs": [],
   "source": [
    "bgrowth_geo_15[['bus_percent_change','geo_percent_change','total_year']].describe()"
   ]
  },
  {
   "cell_type": "code",
   "execution_count": null,
   "id": "72f84f07",
   "metadata": {},
   "outputs": [],
   "source": [
    "#correlation matrix calculation and visualization of possible linear relationship between\n",
    "#business dynamics/growth % and geo mobility % change YoY using Pearson correlation coefficient to summarize its strength \n",
    "bgrowth_geo_15.corr().style.background_gradient(cmap=\"Blues\")"
   ]
  },
  {
   "cell_type": "code",
   "execution_count": null,
   "id": "15b95354",
   "metadata": {
    "scrolled": true
   },
   "outputs": [],
   "source": [
    "#correlation matrix calculation and visualization of monotonic relationship between\n",
    "#business dynamics/growth % change YoY and geo mobility % change YoY using Spearman correlation coefficient\n",
    "bgrowth_geo_15.corr('spearman').style.background_gradient(cmap=\"Blues\")"
   ]
  },
  {
   "cell_type": "code",
   "execution_count": null,
   "id": "967f8ba4",
   "metadata": {},
   "outputs": [],
   "source": [
    "corrm = bgrowth_geo_15.corr()\n",
    "corrm"
   ]
  },
  {
   "cell_type": "code",
   "execution_count": null,
   "id": "a57fb4c4",
   "metadata": {
    "scrolled": false
   },
   "outputs": [],
   "source": [
    "bgrowth_geo_15[['geo_percent_change', 'bus_percent_change']].corr()"
   ]
  },
  {
   "cell_type": "code",
   "execution_count": null,
   "id": "bf22d5c4",
   "metadata": {},
   "outputs": [],
   "source": [
    "bgrowth_geo_15_top = bgrowth_geo_15[(bgrowth_geo_15.values  == 'Tuscon')|(bgrowth_geo_15.values  == 'Austin')|(bgrowth_geo_15.values  == 'Seattle')|(bgrowth_geo_15.values  == 'Columbus')|(bgrowth_geo_15.values  == 'Denver')]\n",
    "bgrowth_geo_15_top"
   ]
  },
  {
   "cell_type": "code",
   "execution_count": null,
   "id": "9da2ec0a",
   "metadata": {},
   "outputs": [],
   "source": [
    "#Top 5 cities ONLY Pearson's correlation matrix calculation and visualization of possible linear relationship between\n",
    "#business dynamics/growth % and geo mobility % change YoY using Pearson correlation coefficient to summarize its strength \n",
    "bgrowth_geo_15_top.corr().style.background_gradient(cmap=\"Blues\")"
   ]
  },
  {
   "cell_type": "code",
   "execution_count": null,
   "id": "8b2297ca",
   "metadata": {
    "scrolled": true
   },
   "outputs": [],
   "source": [
    "#Top 5 cities ONLY Spearman's correlation matrix calculation and visualization of monotonic relationship between\n",
    "#business dynamics/growth % change YoY and geo mobility % change YoY using Spearman correlation coefficient\n",
    "bgrowth_geo_15_top.corr('spearman').style.background_gradient(cmap=\"Blues\")"
   ]
  },
  {
   "cell_type": "code",
   "execution_count": null,
   "id": "df721e70",
   "metadata": {},
   "outputs": [],
   "source": [
    "bgrowth_geo_15_bottom = bgrowth_geo_15[(bgrowth_geo_15.values  == 'San Francisco')|(bgrowth_geo_15.values  == 'Louisville')|(bgrowth_geo_15.values  == 'Detroit')|(bgrowth_geo_15.values  == 'El Paso')|(bgrowth_geo_15.values  == 'Indianapolis')]\n",
    "bgrowth_geo_15_bottom"
   ]
  },
  {
   "cell_type": "code",
   "execution_count": null,
   "id": "646027a3",
   "metadata": {},
   "outputs": [],
   "source": [
    "#Bottom 5 cities ONLY Pearson's correlation matrix calculation and visualization of possible linear relationship between\n",
    "#business dynamics/growth % and geo mobility % change YoY using Pearson correlation coefficient to summarize its strength \n",
    "bgrowth_geo_15_bottom.corr().style.background_gradient(cmap=\"Blues\")"
   ]
  },
  {
   "cell_type": "code",
   "execution_count": null,
   "id": "dbd1dca9",
   "metadata": {
    "scrolled": false
   },
   "outputs": [],
   "source": [
    "#Bottom 5 cities ONLY Spearman's correlation matrix calculation and visualization of monotonic relationship between\n",
    "#business dynamics/growth % change YoY and geo mobility % change YoY using Spearman correlation coefficient\n",
    "bgrowth_geo_15_bottom.corr('spearman').style.background_gradient(cmap=\"Blues\")"
   ]
  },
  {
   "cell_type": "code",
   "execution_count": null,
   "id": "23de1d59",
   "metadata": {
    "scrolled": false
   },
   "outputs": [],
   "source": [
    "#Plotly scatterplot of Ordinary Least Squares regression trendline of total mobility by year (including same county) \n",
    "#for each city in comparison to business percentage change of business growth per year.\n",
    "#Hovering over the trendline will show the equation of the line and its R-squared value.\n",
    "\n",
    "fig = px.scatter(bgrowth_geo_15, x='total_mobility_all', y='bus_percent_change', trendline=\"ols\", \n",
    "                 title=\"Scatterplot of OLS trendline of Total Mobility (including same county) & business % change by year - 2010-2019\",\n",
    "                 hover_data=['total_year','name'],\n",
    "                labels={col:col.replace('_', ' ') for col in bgrowth_geo_15.columns}) # remove underscore\n",
    "fig.show()"
   ]
  },
  {
   "cell_type": "code",
   "execution_count": null,
   "id": "bca8bae8",
   "metadata": {},
   "outputs": [],
   "source": [
    "#Plotly Bar graph of total mobility (including same county) for each city per year in comparison to percentage change of business growth per year.\n",
    "\n",
    "fig = px.bar(bgrowth_geomob2, x='total_mobility_all', y='percent_change', color='name', \n",
    "             title=\"Bar graph of total mobility (including same county) per year in comparison to % change of business growth per year - 2010-2019\",\n",
    "             labels={col:col.replace('_', ' ') for col in bgrowth_geomob2.columns}) # remove underscore\n",
    "fig.show()"
   ]
  },
  {
   "cell_type": "markdown",
   "id": "1ba59663",
   "metadata": {},
   "source": [
    "# CORRELATION: Business Dynamics/Growth & Individual Income - Top & Bottom 5"
   ]
  },
  {
   "cell_type": "code",
   "execution_count": null,
   "id": "a21ded64",
   "metadata": {},
   "outputs": [],
   "source": [
    "#Merge business_dynamics and individual income datasets for visualization of possible correlations\n",
    "bgrowth_ind_income_15 = pd.merge(business_15, ind_income_14, on=['name','year'])\n",
    "bgrowth_ind_income_15"
   ]
  },
  {
   "cell_type": "code",
   "execution_count": null,
   "id": "169c986f",
   "metadata": {},
   "outputs": [],
   "source": [
    "bgrowth_ind_income_15.info()"
   ]
  },
  {
   "cell_type": "code",
   "execution_count": null,
   "id": "72c214c2",
   "metadata": {
    "scrolled": false
   },
   "outputs": [],
   "source": [
    "bgrowth_ind_income_15[['total_pop_income_percent_change', 'bus_percent_change']].describe()"
   ]
  },
  {
   "cell_type": "code",
   "execution_count": null,
   "id": "0c82c8fc",
   "metadata": {},
   "outputs": [],
   "source": [
    "#correlation matrix calculation and visualization of monotonic relationship between\n",
    "#business dynamics/growth % change YoY and % change YoY of individual income for total pop using Spearman correlation coefficient\n",
    "bgrowth_ind_income_15.corr('spearman').style.background_gradient(cmap=\"Blues\")"
   ]
  },
  {
   "cell_type": "code",
   "execution_count": null,
   "id": "76e34779",
   "metadata": {},
   "outputs": [],
   "source": [
    "#correlation matrix calculation and visualization of possible linear relationship between\n",
    "#business dynamics/growth % change YoY and % change YoY of individual income for total pop using Spearman correlation coefficient\n",
    "bgrowth_ind_income_15.corr().style.background_gradient(cmap=\"Blues\")"
   ]
  },
  {
   "cell_type": "code",
   "execution_count": null,
   "id": "640de6f1",
   "metadata": {},
   "outputs": [],
   "source": [
    "#corrm = bgrowth_ind_income_15.corr()\n",
    "#corrm"
   ]
  },
  {
   "cell_type": "code",
   "execution_count": null,
   "id": "d7e3b44a",
   "metadata": {
    "scrolled": true
   },
   "outputs": [],
   "source": [
    "bgrowth_ind_income_15[['total_pop_ind_income_median_percent_change', 'bus_percent_change', 'emp_percent_change',]].corr()"
   ]
  },
  {
   "cell_type": "code",
   "execution_count": null,
   "id": "365a4bb9",
   "metadata": {
    "scrolled": false
   },
   "outputs": [],
   "source": [
    "pos_cor = corrm['total_pop_ind_income_median_percent_change'] >0\n",
    "corrm['total_pop_ind_income_median_percent_change'][pos_cor].sort_values(ascending = False).to_frame()"
   ]
  },
  {
   "cell_type": "code",
   "execution_count": null,
   "id": "1f5016f3",
   "metadata": {},
   "outputs": [],
   "source": [
    "neg_cor = corrm['total_pop_ind_income_median_percent_change'] <0\n",
    "corrm['total_pop_ind_income_median_percent_change'][neg_cor].sort_values(ascending = True).to_frame()"
   ]
  },
  {
   "cell_type": "markdown",
   "id": "53d36388",
   "metadata": {},
   "source": [
    "# CORRELATION: Geographic Mobility & Individual Income - Top & Bottom 5"
   ]
  },
  {
   "cell_type": "code",
   "execution_count": null,
   "id": "a79bd5d3",
   "metadata": {
    "scrolled": true
   },
   "outputs": [],
   "source": [
    "#Merge business_dynamics and individual income datasets for visualization of possible correlations\n",
    "geo_ind_income_14 = pd.merge(geo_mob_15, ind_income_14, on=['name','year'])#.sort_values(by='total_mobility_all')\n",
    "geo_ind_income_14"
   ]
  },
  {
   "cell_type": "code",
   "execution_count": null,
   "id": "f4bf705a",
   "metadata": {
    "scrolled": false
   },
   "outputs": [],
   "source": [
    "#correlation matrix calculation and visualization of possible linear relationship between\n",
    "#business dynamics/growth % change YoY and % change YoY of individual income for total pop using Spearman correlation coefficient\n",
    "geo_ind_income_14.corr().style.background_gradient(cmap=\"Blues\")"
   ]
  },
  {
   "cell_type": "code",
   "execution_count": null,
   "id": "d783a3db",
   "metadata": {
    "scrolled": false
   },
   "outputs": [],
   "source": [
    "#correlation matrix calculation and visualization of monotonic relationship between\n",
    "#business dynamics/growth % change YoY and % change YoY of individual income for total pop using Spearman correlation coefficient\n",
    "geo_ind_income_14.corr('spearman').style.background_gradient(cmap=\"Blues\")"
   ]
  },
  {
   "cell_type": "code",
   "execution_count": null,
   "id": "4257593a",
   "metadata": {
    "scrolled": false
   },
   "outputs": [],
   "source": [
    "geo_ind_income_14[['total_mobility_all', 'total_mobility_outside', 'geo_percent_change', 'total_est_pop_over16', 'total_est_median_earnings', 'total_pop_income_percent_change']].corr()"
   ]
  },
  {
   "cell_type": "code",
   "execution_count": null,
   "id": "64c2ce44",
   "metadata": {},
   "outputs": [],
   "source": [
    "geo_ind_income_14_top = geo_ind_income_14[(geo_ind_income_14.values  == 'Tucson')|(geo_ind_income_14.values  == 'Austin')|(geo_ind_income_14.values  == 'Seattle')|(geo_ind_income_14.values  == 'Columbus')|(geo_ind_income_14.values  == 'Denver')]\n",
    "geo_ind_income_14_top"
   ]
  },
  {
   "cell_type": "code",
   "execution_count": null,
   "id": "95793fea",
   "metadata": {
    "scrolled": false
   },
   "outputs": [],
   "source": [
    "geo_ind_income_14_top.corr().style.background_gradient(cmap=\"Blues\")"
   ]
  },
  {
   "cell_type": "code",
   "execution_count": null,
   "id": "34079708",
   "metadata": {
    "scrolled": false
   },
   "outputs": [],
   "source": [
    "geo_ind_income_14_top.corr('spearman').style.background_gradient(cmap=\"Blues\")"
   ]
  },
  {
   "cell_type": "code",
   "execution_count": null,
   "id": "c1a1c015",
   "metadata": {
    "scrolled": true
   },
   "outputs": [],
   "source": [
    "geo_ind_income_14_bottom = geo_ind_income_14[(geo_ind_income_14.values  == 'San Francisco')|(geo_ind_income_14.values  == 'Louisville')|(geo_ind_income_14.values  == 'Detroit')|(geo_ind_income_14.values  == 'El Paso')|(geo_ind_income_14.values  == 'Indianapolis')]\n",
    "geo_ind_income_14_bottom"
   ]
  },
  {
   "cell_type": "code",
   "execution_count": null,
   "id": "b8cdfce2",
   "metadata": {},
   "outputs": [],
   "source": [
    "geo_ind_income_14_bottom.corr('spearman').style.background_gradient(cmap=\"Blues\")"
   ]
  },
  {
   "cell_type": "code",
   "execution_count": null,
   "id": "03a0579a",
   "metadata": {
    "scrolled": true
   },
   "outputs": [],
   "source": [
    "geo_ind_income_14_bottom.corr().style.background_gradient(cmap=\"Blues\")"
   ]
  },
  {
   "cell_type": "code",
   "execution_count": null,
   "id": "41205c4f",
   "metadata": {},
   "outputs": [],
   "source": [
    "#Plotly scatterplot of Ordinary Least Squares regression trendline of total mobility by year (including same county) \n",
    "#for each city in comparison to business percentage change of business growth per year.\n",
    "#Hovering over the trendline will show the equation of the line and its R-squared value.\n",
    "\n",
    "fig = px.scatter(geo_ind_income_14, x='total_mobility_all', y='total_pop_income_percent_change', trendline=\"ols\", \n",
    "                 title=\"Scatterplot of OLS trendline of total mobility (including same county) & individual income - 2010-2019\",\n",
    "                 hover_data=['total_year','name'],\n",
    "                labels={col:col.replace('_', ' ') for col in geo_ind_income_14.columns}) # remove underscore\n",
    "fig.show()"
   ]
  },
  {
   "cell_type": "markdown",
   "id": "5b3c0dbb",
   "metadata": {},
   "source": [
    "Please refer to notebook 3 for further analysis, correlations, OLS and linear regression models."
   ]
  },
  {
   "cell_type": "markdown",
   "id": "9c3e111b",
   "metadata": {},
   "source": [
    "Author - Veronica Huxley "
   ]
  }
 ],
 "metadata": {
  "kernelspec": {
   "display_name": "Python 3",
   "language": "python",
   "name": "python3"
  },
  "language_info": {
   "codemirror_mode": {
    "name": "ipython",
    "version": 3
   },
   "file_extension": ".py",
   "mimetype": "text/x-python",
   "name": "python",
   "nbconvert_exporter": "python",
   "pygments_lexer": "ipython3",
   "version": "3.8.8"
  }
 },
 "nbformat": 4,
 "nbformat_minor": 5
}
